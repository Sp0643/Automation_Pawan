{
 "cells": [
  {
   "cell_type": "code",
   "execution_count": 5,
   "id": "384bc2a8",
   "metadata": {},
   "outputs": [
    {
     "ename": "ElementClickInterceptedException",
     "evalue": "Message: element click intercepted: Element <a href=\"https://file-examples.com/wp-content/storage/2017/02/file-sample_100kB.doc\" class=\"btn btn-orange btn-outline btn-xl page-scroll download-button\">...</a> is not clickable at point (1071, 659). Other element would receive the click: <iframe id=\"aswift_4\" name=\"aswift_4\" style=\"width: 1005px !important; height: 124px !important; display: block; margin: 0px auto;\" sandbox=\"allow-forms allow-popups allow-popups-to-escape-sandbox allow-same-origin allow-scripts allow-top-navigation-by-user-activation\" width=\"1005\" height=\"124\" frameborder=\"0\" marginwidth=\"0\" marginheight=\"0\" vspace=\"0\" hspace=\"0\" allowtransparency=\"true\" scrolling=\"no\" src=\"https://googleads.g.doubleclick.net/pagead/html/r20230711/r20110914/zrt_lookup.html?fsb=1#RS-1-&amp;adk=2020088501&amp;client=ca-pub-6035792193641045&amp;fa=1&amp;ifi=5&amp;uci=a!5&amp;btvi=2&amp;xpc=ybZCn8PQHM&amp;p=https%3A//file-examples.com\" data-google-container-id=\"a!5\" data-google-query-id=\"COyVs9qyjIADFWgUtwAdBZIOIw\" data-load-complete=\"true\"></iframe>\n  (Session info: chrome=114.0.5735.199)\nStacktrace:\nBacktrace:\n\tGetHandleVerifier [0x0103A813+48355]\n\t(No symbol) [0x00FCC4B1]\n\t(No symbol) [0x00ED5358]\n\t(No symbol) [0x00F05062]\n\t(No symbol) [0x00F03B98]\n\t(No symbol) [0x00F0239B]\n\t(No symbol) [0x00F0179E]\n\t(No symbol) [0x00EF9F5C]\n\t(No symbol) [0x00F1A73C]\n\t(No symbol) [0x00EF9A36]\n\t(No symbol) [0x00F1AA94]\n\t(No symbol) [0x00F2C922]\n\t(No symbol) [0x00F1A536]\n\t(No symbol) [0x00EF82DC]\n\t(No symbol) [0x00EF93DD]\n\tGetHandleVerifier [0x0129AABD+2539405]\n\tGetHandleVerifier [0x012DA78F+2800735]\n\tGetHandleVerifier [0x012D456C+2775612]\n\tGetHandleVerifier [0x010C51E0+616112]\n\t(No symbol) [0x00FD5F8C]\n\t(No symbol) [0x00FD2328]\n\t(No symbol) [0x00FD240B]\n\t(No symbol) [0x00FC4FF7]\n\tBaseThreadInitThunk [0x768A7D59+25]\n\tRtlInitializeExceptionChain [0x7750B79B+107]\n\tRtlClearBits [0x7750B71F+191]\n",
     "output_type": "error",
     "traceback": [
      "\u001b[1;31m---------------------------------------------------------------------------\u001b[0m",
      "\u001b[1;31mElementClickInterceptedException\u001b[0m          Traceback (most recent call last)",
      "Cell \u001b[1;32mIn[5], line 46\u001b[0m\n\u001b[0;32m     44\u001b[0m driver\u001b[38;5;241m.\u001b[39mget(\u001b[38;5;124m\"\u001b[39m\u001b[38;5;124mhttps://file-examples.com/index.php/sample-documents-download/sample-doc-download/\u001b[39m\u001b[38;5;124m\"\u001b[39m)\n\u001b[0;32m     45\u001b[0m driver\u001b[38;5;241m.\u001b[39mmaximize_window()\n\u001b[1;32m---> 46\u001b[0m \u001b[43mdriver\u001b[49m\u001b[38;5;241;43m.\u001b[39;49m\u001b[43mfind_element\u001b[49m\u001b[43m(\u001b[49m\u001b[43mBy\u001b[49m\u001b[38;5;241;43m.\u001b[39;49m\u001b[43mXPATH\u001b[49m\u001b[43m,\u001b[49m\u001b[38;5;124;43m\"\u001b[39;49m\u001b[38;5;124;43m//tbody/tr[1]/td[5]/a[1]\u001b[39;49m\u001b[38;5;124;43m\"\u001b[39;49m\u001b[43m)\u001b[49m\u001b[38;5;241;43m.\u001b[39;49m\u001b[43mclick\u001b[49m\u001b[43m(\u001b[49m\u001b[43m)\u001b[49m\n",
      "File \u001b[1;32m~\\AppData\\Roaming\\Python\\Python310\\site-packages\\selenium\\webdriver\\remote\\webelement.py:94\u001b[0m, in \u001b[0;36mWebElement.click\u001b[1;34m(self)\u001b[0m\n\u001b[0;32m     92\u001b[0m \u001b[38;5;28;01mdef\u001b[39;00m \u001b[38;5;21mclick\u001b[39m(\u001b[38;5;28mself\u001b[39m) \u001b[38;5;241m-\u001b[39m\u001b[38;5;241m>\u001b[39m \u001b[38;5;28;01mNone\u001b[39;00m:\n\u001b[0;32m     93\u001b[0m     \u001b[38;5;124;03m\"\"\"Clicks the element.\"\"\"\u001b[39;00m\n\u001b[1;32m---> 94\u001b[0m     \u001b[38;5;28;43mself\u001b[39;49m\u001b[38;5;241;43m.\u001b[39;49m\u001b[43m_execute\u001b[49m\u001b[43m(\u001b[49m\u001b[43mCommand\u001b[49m\u001b[38;5;241;43m.\u001b[39;49m\u001b[43mCLICK_ELEMENT\u001b[49m\u001b[43m)\u001b[49m\n",
      "File \u001b[1;32m~\\AppData\\Roaming\\Python\\Python310\\site-packages\\selenium\\webdriver\\remote\\webelement.py:395\u001b[0m, in \u001b[0;36mWebElement._execute\u001b[1;34m(self, command, params)\u001b[0m\n\u001b[0;32m    393\u001b[0m     params \u001b[38;5;241m=\u001b[39m {}\n\u001b[0;32m    394\u001b[0m params[\u001b[38;5;124m\"\u001b[39m\u001b[38;5;124mid\u001b[39m\u001b[38;5;124m\"\u001b[39m] \u001b[38;5;241m=\u001b[39m \u001b[38;5;28mself\u001b[39m\u001b[38;5;241m.\u001b[39m_id\n\u001b[1;32m--> 395\u001b[0m \u001b[38;5;28;01mreturn\u001b[39;00m \u001b[38;5;28;43mself\u001b[39;49m\u001b[38;5;241;43m.\u001b[39;49m\u001b[43m_parent\u001b[49m\u001b[38;5;241;43m.\u001b[39;49m\u001b[43mexecute\u001b[49m\u001b[43m(\u001b[49m\u001b[43mcommand\u001b[49m\u001b[43m,\u001b[49m\u001b[43m \u001b[49m\u001b[43mparams\u001b[49m\u001b[43m)\u001b[49m\n",
      "File \u001b[1;32m~\\AppData\\Roaming\\Python\\Python310\\site-packages\\selenium\\webdriver\\remote\\webdriver.py:346\u001b[0m, in \u001b[0;36mWebDriver.execute\u001b[1;34m(self, driver_command, params)\u001b[0m\n\u001b[0;32m    344\u001b[0m response \u001b[38;5;241m=\u001b[39m \u001b[38;5;28mself\u001b[39m\u001b[38;5;241m.\u001b[39mcommand_executor\u001b[38;5;241m.\u001b[39mexecute(driver_command, params)\n\u001b[0;32m    345\u001b[0m \u001b[38;5;28;01mif\u001b[39;00m response:\n\u001b[1;32m--> 346\u001b[0m     \u001b[38;5;28;43mself\u001b[39;49m\u001b[38;5;241;43m.\u001b[39;49m\u001b[43merror_handler\u001b[49m\u001b[38;5;241;43m.\u001b[39;49m\u001b[43mcheck_response\u001b[49m\u001b[43m(\u001b[49m\u001b[43mresponse\u001b[49m\u001b[43m)\u001b[49m\n\u001b[0;32m    347\u001b[0m     response[\u001b[38;5;124m\"\u001b[39m\u001b[38;5;124mvalue\u001b[39m\u001b[38;5;124m\"\u001b[39m] \u001b[38;5;241m=\u001b[39m \u001b[38;5;28mself\u001b[39m\u001b[38;5;241m.\u001b[39m_unwrap_value(response\u001b[38;5;241m.\u001b[39mget(\u001b[38;5;124m\"\u001b[39m\u001b[38;5;124mvalue\u001b[39m\u001b[38;5;124m\"\u001b[39m, \u001b[38;5;28;01mNone\u001b[39;00m))\n\u001b[0;32m    348\u001b[0m     \u001b[38;5;28;01mreturn\u001b[39;00m response\n",
      "File \u001b[1;32m~\\AppData\\Roaming\\Python\\Python310\\site-packages\\selenium\\webdriver\\remote\\errorhandler.py:245\u001b[0m, in \u001b[0;36mErrorHandler.check_response\u001b[1;34m(self, response)\u001b[0m\n\u001b[0;32m    243\u001b[0m         alert_text \u001b[38;5;241m=\u001b[39m value[\u001b[38;5;124m\"\u001b[39m\u001b[38;5;124malert\u001b[39m\u001b[38;5;124m\"\u001b[39m]\u001b[38;5;241m.\u001b[39mget(\u001b[38;5;124m\"\u001b[39m\u001b[38;5;124mtext\u001b[39m\u001b[38;5;124m\"\u001b[39m)\n\u001b[0;32m    244\u001b[0m     \u001b[38;5;28;01mraise\u001b[39;00m exception_class(message, screen, stacktrace, alert_text)  \u001b[38;5;66;03m# type: ignore[call-arg]  # mypy is not smart enough here\u001b[39;00m\n\u001b[1;32m--> 245\u001b[0m \u001b[38;5;28;01mraise\u001b[39;00m exception_class(message, screen, stacktrace)\n",
      "\u001b[1;31mElementClickInterceptedException\u001b[0m: Message: element click intercepted: Element <a href=\"https://file-examples.com/wp-content/storage/2017/02/file-sample_100kB.doc\" class=\"btn btn-orange btn-outline btn-xl page-scroll download-button\">...</a> is not clickable at point (1071, 659). Other element would receive the click: <iframe id=\"aswift_4\" name=\"aswift_4\" style=\"width: 1005px !important; height: 124px !important; display: block; margin: 0px auto;\" sandbox=\"allow-forms allow-popups allow-popups-to-escape-sandbox allow-same-origin allow-scripts allow-top-navigation-by-user-activation\" width=\"1005\" height=\"124\" frameborder=\"0\" marginwidth=\"0\" marginheight=\"0\" vspace=\"0\" hspace=\"0\" allowtransparency=\"true\" scrolling=\"no\" src=\"https://googleads.g.doubleclick.net/pagead/html/r20230711/r20110914/zrt_lookup.html?fsb=1#RS-1-&amp;adk=2020088501&amp;client=ca-pub-6035792193641045&amp;fa=1&amp;ifi=5&amp;uci=a!5&amp;btvi=2&amp;xpc=ybZCn8PQHM&amp;p=https%3A//file-examples.com\" data-google-container-id=\"a!5\" data-google-query-id=\"COyVs9qyjIADFWgUtwAdBZIOIw\" data-load-complete=\"true\"></iframe>\n  (Session info: chrome=114.0.5735.199)\nStacktrace:\nBacktrace:\n\tGetHandleVerifier [0x0103A813+48355]\n\t(No symbol) [0x00FCC4B1]\n\t(No symbol) [0x00ED5358]\n\t(No symbol) [0x00F05062]\n\t(No symbol) [0x00F03B98]\n\t(No symbol) [0x00F0239B]\n\t(No symbol) [0x00F0179E]\n\t(No symbol) [0x00EF9F5C]\n\t(No symbol) [0x00F1A73C]\n\t(No symbol) [0x00EF9A36]\n\t(No symbol) [0x00F1AA94]\n\t(No symbol) [0x00F2C922]\n\t(No symbol) [0x00F1A536]\n\t(No symbol) [0x00EF82DC]\n\t(No symbol) [0x00EF93DD]\n\tGetHandleVerifier [0x0129AABD+2539405]\n\tGetHandleVerifier [0x012DA78F+2800735]\n\tGetHandleVerifier [0x012D456C+2775612]\n\tGetHandleVerifier [0x010C51E0+616112]\n\t(No symbol) [0x00FD5F8C]\n\t(No symbol) [0x00FD2328]\n\t(No symbol) [0x00FD240B]\n\t(No symbol) [0x00FC4FF7]\n\tBaseThreadInitThunk [0x768A7D59+25]\n\tRtlInitializeExceptionChain [0x7750B79B+107]\n\tRtlClearBits [0x7750B71F+191]\n"
     ]
    }
   ],
   "source": [
    "import time\n",
    "from selenium import webdriver\n",
    "from selenium.webdriver.common.by import By\n",
    "import os\n",
    "\n",
    "location= \"C:\\\\Users\\\\SOHAN\\\\Documents\\\\GitHub\\Automation_Pawan\\Automation_practice\\\\Download\"\n",
    "def chrome_setup():\n",
    "    from selenium.webdriver.chrome.service import Service\n",
    "    serv_obj = Service(\"C:\\Drivers\\chromedriver_win32\\chromedriver.exe\")\n",
    "    #download files in desired location\n",
    "    preferences={\"download.default_directory\":location}\n",
    "    ops=webdriver.ChromeOptions()\n",
    "    ops.add_experimental_option(\"prefs\",preferences)\n",
    "    driver = webdriver.Chrome(service=serv_obj,options=ops)\n",
    "    return driver\n",
    "\n",
    "# def edge_setup():\n",
    "#     from selenium.webdriver.edge.service import Service\n",
    "#     serv_obj = Service(\"C:\\Drivers\\edgedriver_win64\\msedgedriver.exe\")\n",
    "#     #download files in desired location\n",
    "#     preferences={\"download.default_directory\":location}\n",
    "#     ops=webdriver.EdgeOptions()\n",
    "#     ops.add_experimental_option(\"prefs\",preferences)\n",
    "#     driver = webdriver.Edge(service=serv_obj,options=ops)\n",
    "#     return driver\n",
    "\n",
    "# def firefox_setup():\n",
    "#     from selenium.webdriver.firefox.service import Service\n",
    "#     serv_obj = Service(\"C:\\Drivers\\geckodriver-v0.29.1-win64\\geckodriver.exe\")\n",
    "#     #settings\n",
    "#     ops=webdriver.FirefoxOptions()\n",
    "#     ops.set_preference(\"browser.helperApps.neverAsk.saveToDisk\",\"application/msword\")\n",
    "#     ops.set_preference(\"browser.download.manager.showWhenStarting\", False)\n",
    "#     ops.set_preference(\"browser.download.folderList\",2) #0-desktop 1-downloads folder 2- Desired loc\n",
    "#     ops.set_preference(\"browser.download.dir\",location)\n",
    "#     driver = webdriver.Firefox(service=serv_obj,options=ops)\n",
    "#     return driver\n",
    "\n",
    "#Automation code\n",
    "driver=chrome_setup()\n",
    "# #driver=edge_setup()\n",
    "# driver=firefox_setup()\n",
    "\n",
    "driver.get(\"https://file-examples.com/index.php/sample-documents-download/sample-doc-download/\")\n",
    "driver.maximize_window()\n",
    "driver.find_element(By.XPATH,\"//tbody/tr[1]/td[5]/a[1]\").click()\n"
   ]
  },
  {
   "cell_type": "code",
   "execution_count": null,
   "id": "5a614be4",
   "metadata": {},
   "outputs": [],
   "source": []
  }
 ],
 "metadata": {
  "kernelspec": {
   "display_name": "Python 3 (ipykernel)",
   "language": "python",
   "name": "python3"
  },
  "language_info": {
   "codemirror_mode": {
    "name": "ipython",
    "version": 3
   },
   "file_extension": ".py",
   "mimetype": "text/x-python",
   "name": "python",
   "nbconvert_exporter": "python",
   "pygments_lexer": "ipython3",
   "version": "3.10.9"
  }
 },
 "nbformat": 4,
 "nbformat_minor": 5
}
