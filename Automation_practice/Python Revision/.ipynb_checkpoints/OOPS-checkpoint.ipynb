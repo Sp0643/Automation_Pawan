{
 "cells": [
  {
   "cell_type": "markdown",
   "id": "89913bb9",
   "metadata": {},
   "source": [
    "Day-7\n",
    "--------------\n",
    "\n",
    "Python - structured + object oriented\n",
    "\n",
    "oops ( Object orietend Programming concepts)\n",
    "----\n",
    "class\n",
    "object\n",
    "Inheritenace\n",
    "Polymorphism\n",
    "\n",
    "\n",
    "class  object\n",
    "\n",
    "Employee ----> John, scott, marry etc....\n",
    "Animal   ------> Dog, Horse, Elephant   etc....\n",
    "\n",
    "\n",
    "class ---> collection of variables(attributes) & methods(behavior)\n",
    "A class is blue print\n",
    "Logical entity\n",
    "Does not occupy space in the memory \n",
    "\n",
    "object  ---> object is an instance of class\n",
    "Physical entity\n",
    "Occupy certain amount space in the memory\n",
    "\n",
    "For one class, we can create multiple objects.\n",
    "Objects are independent...\n",
    "\n",
    "Function Vs Method\n",
    "-----------\n",
    "Function --> we can create without class\n",
    "Method --> creates in side the class\n",
    "\n",
    "\n",
    "2 types of methods we can define within the class....\n",
    "\n",
    "1) instance method ( we can call only through object)\n",
    "2) static method ( we can directly call using class)\n",
    "\n",
    "\n",
    "annotation  @staticmethod\n",
    "\n",
    "\n",
    "Global variables\n",
    "Class variables\n",
    "Local variables\n",
    "\n",
    "\n",
    "Method  & constructor\n",
    "------\n",
    "\n",
    "Method:  give any name\n",
    "\t return the value/s\n",
    "\t mehtod can take arguments/parameters\n",
    "\t  we have to use an object to invoke the method\n",
    "\n",
    "Constructor:constructor name is fixed :  \n",
    "\t\t\t   def  __init__(self):\n",
    "\t\n",
    " constructor will not return any value\n",
    " constructor can also take arguments/parameters\n",
    " constructor will be called at the time of object creation itself.\n",
    "\n",
    "\n",
    "\n",
    "\n",
    "\n",
    "\n",
    "\n",
    "\n"
   ]
  },
  {
   "cell_type": "code",
   "execution_count": 1,
   "id": "0d76f141",
   "metadata": {},
   "outputs": [
    {
     "name": "stdout",
     "output_type": "stream",
     "text": [
      "scott\n"
     ]
    }
   ],
   "source": [
    "#Example1:\n",
    "class MyClass:\n",
    "    def myfun(self):\n",
    "        pass\n",
    "    def display(self,name):\n",
    "        print(name)\n",
    "\n",
    "mc1=MyClass()\n",
    "mc1.myfun()\n",
    "mc1.display(\"scott\") #john\n"
   ]
  },
  {
   "cell_type": "code",
   "execution_count": null,
   "id": "ec4f62d1",
   "metadata": {},
   "outputs": [],
   "source": [
    "#Example2\n",
    "class MyClass:\n",
    "    def m1(self):\n",
    "        print(\"this is instance method...\")\n",
    "    @staticmethod# technnical term staticmethod, when you creat a staticmethod then it take two variables\n",
    "    def m2(self,num):\n",
    "        print(self,num)\n",
    "\n",
    "mc=MyClass() # Object\n",
    "mc.m1()# method m1 called using object \n",
    "mc.m2(100,200) #100 200 (methodn m2 called using object mc)\n",
    "\n",
    "MyClass.m2(10,20)  # 10, 20 # here calling static method directly using class not through object\n"
   ]
  },
  {
   "cell_type": "markdown",
   "id": "343dea6d",
   "metadata": {},
   "source": [
    "### Deference between Function and Method\n",
    "In the context of programming, the terms \"function\" and \"method\" refer to different types of callable code blocks, but they are used in different ways and associated with different entities:\n",
    "\n",
    "Function:\n",
    "\n",
    "* A function is a self-contained block of code that performs a specific task.\n",
    "* It is a reusable piece of code that can be called from different parts of the program.\n",
    "* Functions are not associated with any specific object or class; they are standalone entities.\n",
    "* In most programming languages, functions are defined outside of classes and can be called directly by their name.\n",
    "* Examples of functions in Python:\n",
    "\n",
    "def add_numbers(a, b):\n",
    "   return a + b\n",
    "\n",
    "def greet(name):\n",
    "    print(f\"Hello, {name}!\")\n",
    "    \n",
    "    \n",
    "    \n",
    "    \n",
    "Method:\n",
    "\n",
    "* A method is also a block of code that performs a specific task, but it is associated with an object or a class.\n",
    "* It is like a function that operates on an object and can access the data within that object.\n",
    "* Methods are called on objects and are specific to the type of object (class) they belong to.\n",
    "* In most object-oriented programming languages, methods are defined within classes.\n",
    "* Examples of methods in Python:\n",
    "\n",
    "class Car:\n",
    "    def __init__(self, make, model):\n",
    "        self.make = make\n",
    "        self.model = model\n",
    "\n",
    "    def start_engine(self):\n",
    "        print(f\"The {self.make} {self.model}'s engine is running.\")\n",
    "\n",
    "my_car = Car(\"Toyota\", \"Corolla\")\n",
    "my_car.start_engine()\n",
    "\n",
    "\n",
    "\n",
    "In the above example, add_numbers and greet are functions, while start_engine is a method belonging to the Car class.\n",
    "\n",
    "To summarize, the main difference between a function and a method is their association with objects or classes. Functions are standalone blocks of code, while methods are functions that are tied to specific objects or classes and operate on the data associated with them.\n",
    "\n"
   ]
  },
  {
   "cell_type": "code",
   "execution_count": 7,
   "id": "a4046243",
   "metadata": {},
   "outputs": [
    {
     "ename": "NameError",
     "evalue": "name 'a' is not defined",
     "output_type": "error",
     "traceback": [
      "\u001b[1;31m---------------------------------------------------------------------------\u001b[0m",
      "\u001b[1;31mNameError\u001b[0m                                 Traceback (most recent call last)",
      "\u001b[1;32m~\\AppData\\Local\\Temp\\ipykernel_19112\\3500792116.py\u001b[0m in \u001b[0;36m<module>\u001b[1;34m\u001b[0m\n\u001b[0;32m     10\u001b[0m \u001b[1;33m\u001b[0m\u001b[0m\n\u001b[0;32m     11\u001b[0m \u001b[0mmc\u001b[0m\u001b[1;33m=\u001b[0m\u001b[0mMyClass\u001b[0m\u001b[1;33m(\u001b[0m\u001b[1;33m)\u001b[0m\u001b[1;33m\u001b[0m\u001b[1;33m\u001b[0m\u001b[0m\n\u001b[1;32m---> 12\u001b[1;33m \u001b[0mmc\u001b[0m\u001b[1;33m.\u001b[0m\u001b[0madd\u001b[0m\u001b[1;33m(\u001b[0m\u001b[1;33m)\u001b[0m \u001b[1;31m#30\u001b[0m\u001b[1;33m\u001b[0m\u001b[1;33m\u001b[0m\u001b[0m\n\u001b[0m\u001b[0;32m     13\u001b[0m \u001b[0mmc\u001b[0m\u001b[1;33m.\u001b[0m\u001b[0mmul\u001b[0m\u001b[1;33m(\u001b[0m\u001b[1;33m)\u001b[0m \u001b[1;31m# 200\u001b[0m\u001b[1;33m\u001b[0m\u001b[1;33m\u001b[0m\u001b[0m\n",
      "\u001b[1;32m~\\AppData\\Local\\Temp\\ipykernel_19112\\3500792116.py\u001b[0m in \u001b[0;36madd\u001b[1;34m(self)\u001b[0m\n\u001b[0;32m      4\u001b[0m     \u001b[0ma\u001b[0m\u001b[1;33m,\u001b[0m\u001b[0mb\u001b[0m\u001b[1;33m=\u001b[0m\u001b[1;36m10\u001b[0m\u001b[1;33m,\u001b[0m\u001b[1;36m20\u001b[0m  \u001b[1;31m# class variables\u001b[0m\u001b[1;33m\u001b[0m\u001b[1;33m\u001b[0m\u001b[0m\n\u001b[0;32m      5\u001b[0m     \u001b[1;32mdef\u001b[0m \u001b[0madd\u001b[0m\u001b[1;33m(\u001b[0m\u001b[0mself\u001b[0m\u001b[1;33m)\u001b[0m\u001b[1;33m:\u001b[0m\u001b[1;31m# add is a method\u001b[0m\u001b[1;33m\u001b[0m\u001b[1;33m\u001b[0m\u001b[0m\n\u001b[1;32m----> 6\u001b[1;33m           \u001b[0mprint\u001b[0m\u001b[1;33m(\u001b[0m\u001b[0ma\u001b[0m\u001b[1;33m,\u001b[0m\u001b[0mb\u001b[0m\u001b[1;33m)\u001b[0m \u001b[1;31m# can't access method in such a way\u001b[0m\u001b[1;33m\u001b[0m\u001b[1;33m\u001b[0m\u001b[0m\n\u001b[0m\u001b[0;32m      7\u001b[0m \u001b[1;31m#         print(self.a+self.b) # Need to give self(self is a word that represent the class)\u001b[0m\u001b[1;33m\u001b[0m\u001b[1;33m\u001b[0m\u001b[1;33m\u001b[0m\u001b[0m\n\u001b[0;32m      8\u001b[0m     \u001b[1;32mdef\u001b[0m \u001b[0mmul\u001b[0m\u001b[1;33m(\u001b[0m\u001b[0mself\u001b[0m\u001b[1;33m)\u001b[0m\u001b[1;33m:\u001b[0m\u001b[1;33m\u001b[0m\u001b[1;33m\u001b[0m\u001b[0m\n",
      "\u001b[1;31mNameError\u001b[0m: name 'a' is not defined"
     ]
    }
   ],
   "source": [
    "#Example3:\n",
    "\n",
    "class MyClass:\n",
    "    a,b=10,20  # class variables\n",
    "    def add(self):# add is a method\n",
    "          print(a,b) # can't access method in such a way \n",
    "#         print(self.a+self.b) # Need to give self(self is a word that represent the class)\n",
    "    def mul(self):\n",
    "        print(self.a*self.b)\n",
    "\n",
    "mc=MyClass()\n",
    "mc.add() #30\n",
    "mc.mul() # 200"
   ]
  },
  {
   "cell_type": "code",
   "execution_count": 8,
   "id": "a3a52ee5",
   "metadata": {},
   "outputs": [
    {
     "name": "stdout",
     "output_type": "stream",
     "text": [
      "30\n",
      "200\n"
     ]
    }
   ],
   "source": [
    "#Example3a:\n",
    "\n",
    "class MyClass:\n",
    "    a,b=10,20  # class variables\n",
    "    def add(self):# add is a method\n",
    "#         print(a,b) # can't access method in such a way \n",
    "        print(self.a+self.b) # Need to give self(self is a word that represent the class)\n",
    "    def mul(self):\n",
    "        print(self.a*self.b)\n",
    "\n",
    "mc=MyClass()\n",
    "mc.add() #30\n",
    "mc.mul() # 200"
   ]
  },
  {
   "cell_type": "code",
   "execution_count": null,
   "id": "918bd448",
   "metadata": {},
   "outputs": [],
   "source": [
    "#Example4\n",
    "i,j=15,25   # global variables\n",
    "class MyClass:\n",
    "    a,b=10,20   # class variables\n",
    "    def add(self,x,y):\n",
    "        print(x+y)  #x, y are local variables\n",
    "        print(self.a+self.b)  # a, b are class variables\n",
    "        print(i+j)   # i, j are global variables\n",
    "\n",
    "mc=MyClass()\n",
    "mc.add(100,200)"
   ]
  },
  {
   "cell_type": "code",
   "execution_count": null,
   "id": "fd2c0f72",
   "metadata": {},
   "outputs": [],
   "source": [
    "#Example5:\n",
    "\n",
    "a,b=15,25   # global variables\n",
    "class MyClass:\n",
    "    a,b=10,20   # class variables\n",
    "    def add(self,a,b):\n",
    "        print(a+b)  # local varaibles\n",
    "        print(self.a+self.b)  # class variables\n",
    "        print(globals()['a']+globals()['b'])  # global variables\n",
    "\n",
    "mc=MyClass()\n",
    "mc.add(100,200)"
   ]
  },
  {
   "cell_type": "code",
   "execution_count": null,
   "id": "6423d46f",
   "metadata": {},
   "outputs": [],
   "source": [
    "#Example6: once class can have multiple ojects\n",
    "class MyClass:\n",
    "    def display(self,name):\n",
    "        print(\"this is display method....\")\n",
    "        print(name)\n",
    "\n",
    "obj1=MyClass()\n",
    "obj1.display(\"john\")\n",
    "\n",
    "obj2=MyClass()\n",
    "obj2.display(\"scott\")"
   ]
  },
  {
   "cell_type": "code",
   "execution_count": null,
   "id": "587b7849",
   "metadata": {},
   "outputs": [],
   "source": [
    "# EXAMPLE7: constructor example\n",
    "class MyClass:\n",
    "    def __init__(self):\n",
    "        print(\"this is constructor..\")\n",
    "    def m1(self):\n",
    "        print(\"hello...\")\n",
    "    def m2(self,x,y):\n",
    "            return(x+y)\n",
    "\n",
    "mc=MyClass()    # invke constructor automatically\n",
    "mc.m1()  # method we have call explicitely by using object\n",
    "print(mc.m2(10,20))  # 20\n",
    "\n",
    "\n",
    "\n",
    "\n",
    "\n"
   ]
  }
 ],
 "metadata": {
  "kernelspec": {
   "display_name": "Python 3 (ipykernel)",
   "language": "python",
   "name": "python3"
  },
  "language_info": {
   "codemirror_mode": {
    "name": "ipython",
    "version": 3
   },
   "file_extension": ".py",
   "mimetype": "text/x-python",
   "name": "python",
   "nbconvert_exporter": "python",
   "pygments_lexer": "ipython3",
   "version": "3.7.16"
  }
 },
 "nbformat": 4,
 "nbformat_minor": 5
}
