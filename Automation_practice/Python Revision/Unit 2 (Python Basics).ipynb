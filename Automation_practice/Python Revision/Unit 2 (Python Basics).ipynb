{
 "cells": [
  {
   "cell_type": "markdown",
   "id": "6990e98b",
   "metadata": {},
   "source": [
    "Python Programming\n",
    "----------------------\n",
    "\n",
    "Python is High level general purpose Programming language.\n",
    "Python is open source language.\n",
    "Platform independent\n",
    "\n",
    "\n",
    "History\n",
    "-----------\n",
    "The implementation of Python was started in the December 1989 by Guido Van Rossum at CWI in \n",
    "Netherland.\n",
    "▪ In February 1991, van Rossum published the code (labeled version 0.9.0).\n",
    "▪ In 1994, Python 1.0 was released with new features like: lambda, map, filter, and reduce.\n",
    "▪ Python 2.0 added new features like: list comprehensions, garbage collection system.\n",
    "▪ On December 3, 2008, Python 3.0 (also called \"Py3K\") was released. \n",
    "▪ Python is influenced by :\n",
    "– ABC language.\n",
    "– Modula-3\n",
    "\n",
    "Download and install Python on Window\n",
    "\n",
    "ways to run python code\n",
    "---------------------------\n",
    "1) Run python code through IDLE (Python shell)\n",
    "2) Run python code through cmd\n",
    "3) Run python code through notepad/notepad++\n",
    "\n",
    "PyCharm -- popular IDE for python\n",
    "\n",
    "comments\n",
    "------\n",
    "* Comments are used to write description about application logics to understand the logics easily.\n",
    "* The main objective comments the code maintenance will become easy.\n",
    "* The comments are non-executable code.\n",
    "* Python will ignore comments in run time\n",
    "\n",
    "* COMMENT WITH BLOK OF ELEMENT    \"\"\" 3 cotation when you want to comment out a big chunk of codes\"\"\"(single '''a''' also works)\n",
    "keywords\n",
    "-----------\n",
    "reserved words in python\n",
    "\n",
    "\n",
    "Variables\n",
    "------------------\n",
    "▪ A variable is nothing but a reserved memory location to store values.\n",
    "▪ Variables are used to store the data.\n",
    "▪ Memory allocated when the values are stored in variables.\n",
    "▪ Every variable must have some type\n",
    "\n",
    "\n",
    "*** Python is dynamically typed progrmming language***\n",
    "Data types\n",
    "------------\n",
    "1. Text Type:\tstr\n",
    "2. Numeric Types:\tint, float\n",
    "3. Sequence Types:\tlist, tuple\n",
    "4. Mapping Type:\tdict\n",
    "5. Set Types:\tset\n",
    "6. Boolean Type:\tbool\n",
    "\n",
    "***\n",
    "x=100\n",
    "s=\"welcome\"\n",
    "x=\"welcome\"\n",
    "\n",
    "***\n",
    "Dynamically typed programming language..(1. Whenever we give an variable then we don't need to specify datatypes in python unlike other progrmming languages, 2. we can change data type of a variable any time ) \n",
    "\n",
    "\n",
    "\n",
    "\n",
    "\n",
    "\n",
    "\n",
    "\n",
    "\n"
   ]
  },
  {
   "cell_type": "code",
   "execution_count": 5,
   "id": "f1bf7961",
   "metadata": {},
   "outputs": [
    {
     "name": "stdout",
     "output_type": "stream",
     "text": [
      "['False', 'None', 'True', 'and', 'as', 'assert', 'async', 'await', 'break', 'class', 'continue', 'def', 'del', 'elif', 'else', 'except', 'finally', 'for', 'from', 'global', 'if', 'import', 'in', 'is', 'lambda', 'nonlocal', 'not', 'or', 'pass', 'raise', 'return', 'try', 'while', 'with', 'yield']\n"
     ]
    }
   ],
   "source": [
    "import keyword# vsn use these keywords for programming\n",
    "print(keyword.kwlist)"
   ]
  },
  {
   "cell_type": "code",
   "execution_count": 8,
   "id": "3fbc1b4e",
   "metadata": {},
   "outputs": [],
   "source": [
    "x=100\n",
    "y=10.5\n",
    "s='welcome'  # s=\"welcome\"\n",
    "c='A'  # c=\"A\"\n",
    "b=True\n",
    "\n",
    "\n"
   ]
  },
  {
   "cell_type": "code",
   "execution_count": 9,
   "id": "cf840061",
   "metadata": {},
   "outputs": [
    {
     "name": "stdout",
     "output_type": "stream",
     "text": [
      "<class 'int'>\n",
      "<class 'float'>\n"
     ]
    }
   ],
   "source": [
    "print(type(x))  #int\n",
    "print(type(y)) #float"
   ]
  },
  {
   "cell_type": "code",
   "execution_count": 10,
   "id": "d64c9511",
   "metadata": {},
   "outputs": [
    {
     "name": "stdout",
     "output_type": "stream",
     "text": [
      "<class 'str'>\n",
      "<class 'str'>\n",
      "<class 'bool'>\n"
     ]
    }
   ],
   "source": [
    "print(type(s))  #str\n",
    "print(type(c))  #str\n",
    "print(type(b))  #bool"
   ]
  },
  {
   "cell_type": "code",
   "execution_count": 11,
   "id": "7be6f83e",
   "metadata": {},
   "outputs": [
    {
     "name": "stdout",
     "output_type": "stream",
     "text": [
      "<class 'int'>\n",
      "<class 'str'>\n"
     ]
    }
   ],
   "source": [
    "x=1234\n",
    "print(type(x))  #int\n",
    "x=\"welcome\"\n",
    "print(type(x))  #str"
   ]
  },
  {
   "cell_type": "markdown",
   "id": "7ccb8510",
   "metadata": {},
   "source": [
    "# Day 2 (2.2)"
   ]
  },
  {
   "cell_type": "markdown",
   "id": "79d8e49a",
   "metadata": {},
   "source": [
    "Day-2 : Python Programming\n",
    "----------------------\n",
    "Delete the variables\n",
    "\n",
    "Operator - a symbol which will perform an operation between 2 or more variables\n",
    "\n",
    "a=100\n",
    "b=200\n",
    "\n",
    "print(a+b)\n",
    "\n",
    "1) Arithmetic\n",
    "2) Relational\n",
    "3) Logical \n",
    "\n",
    "a\tb\ta and b\ta or b\tnot a\n",
    "--------------------------------------\n",
    "TRUE\tTRUE\tTRUE\tTRUE\tFALSE\n",
    "TRUE\tFALSE\tFALSE\tTRUE\t\n",
    "FALSE\tTRUE\tFALSE\tTRUE\tTRUE\n",
    "FALSE\tFALSE\tFALSE\tFALSE\t\n",
    "\n",
    "\n",
    "Concatenation\n",
    "---------------\n",
    "\n",
    "True = 1\n",
    "False =0\n",
    "\n",
    "Formatting output\n",
    "%\n",
    "{}\n",
    "\n",
    "How to take input from user & Type conversion\n",
    "input()\n",
    "int()\n",
    "float()\n",
    "\n",
    "\n",
    "Control statements\n",
    "----------------------------\n",
    "\n",
    "1) conditional statements\n",
    "\tif  if..else  elif\n",
    "\n",
    "2) Looping statements\n",
    "\twhile\t  for\n",
    "\n",
    "3) Jumping statements\n",
    "\tbreak\t continue\n",
    "\n",
    "Assignents\n",
    "--------------------\n",
    "1) Check the given number is Positive or nagitive\n",
    "2) Check the largest of 2 numbers\n",
    "3) Check the largest of 3 numbers\n",
    "4) Print week number if you provide weekname as input.\n",
    "\n",
    "\n",
    "\n",
    "\n",
    "\n",
    "\n",
    "\n",
    "\n",
    "\n",
    "\n",
    "\n",
    "\n",
    "\n",
    "\n",
    "\n",
    "\n",
    "\n",
    "\n",
    "\n",
    "\n",
    "\n"
   ]
  },
  {
   "cell_type": "markdown",
   "id": "74c8e93c",
   "metadata": {},
   "source": [
    "#### Deleting a Variable"
   ]
  },
  {
   "cell_type": "code",
   "execution_count": 15,
   "id": "35e925d8",
   "metadata": {},
   "outputs": [],
   "source": [
    "a = 7"
   ]
  },
  {
   "cell_type": "code",
   "execution_count": 16,
   "id": "a2060d45",
   "metadata": {},
   "outputs": [
    {
     "name": "stdout",
     "output_type": "stream",
     "text": [
      "7\n"
     ]
    }
   ],
   "source": [
    "print(a)"
   ]
  },
  {
   "cell_type": "code",
   "execution_count": 17,
   "id": "aa76e617",
   "metadata": {},
   "outputs": [],
   "source": [
    "del a "
   ]
  },
  {
   "cell_type": "code",
   "execution_count": 18,
   "id": "63de6ac7",
   "metadata": {},
   "outputs": [
    {
     "ename": "NameError",
     "evalue": "name 'a' is not defined",
     "output_type": "error",
     "traceback": [
      "\u001b[1;31m---------------------------------------------------------------------------\u001b[0m",
      "\u001b[1;31mNameError\u001b[0m                                 Traceback (most recent call last)",
      "\u001b[1;32m~\\AppData\\Local\\Temp\\ipykernel_15204\\1189138062.py\u001b[0m in \u001b[0;36m<module>\u001b[1;34m\u001b[0m\n\u001b[1;32m----> 1\u001b[1;33m \u001b[0mprint\u001b[0m\u001b[1;33m(\u001b[0m\u001b[0ma\u001b[0m\u001b[1;33m)\u001b[0m\u001b[1;33m\u001b[0m\u001b[1;33m\u001b[0m\u001b[0m\n\u001b[0m",
      "\u001b[1;31mNameError\u001b[0m: name 'a' is not defined"
     ]
    }
   ],
   "source": [
    "print(a)"
   ]
  },
  {
   "cell_type": "markdown",
   "id": "ac4af7b1",
   "metadata": {},
   "source": [
    "#### Operators"
   ]
  },
  {
   "cell_type": "code",
   "execution_count": 20,
   "id": "73c51831",
   "metadata": {},
   "outputs": [
    {
     "name": "stdout",
     "output_type": "stream",
     "text": [
      "False\n",
      "True\n",
      "False\n"
     ]
    }
   ],
   "source": [
    "#Arithmetic operators\n",
    "# a=5\n",
    "# b=2\n",
    "# print(a+b)  # addition of a , b\n",
    "# print(a-b) # substration\n",
    "# print(a*b) # multiplication\n",
    "# print(a/b)   # 2.5\n",
    "# print(a//b)   # 2 quotient\n",
    "# print(a%b)  # 1 remider\n",
    "# print(a**b)  # 5**2 = 25\n",
    "\n",
    "# Relational operators/comparison operators\n",
    "# > <  >=  <=  !=  ==\n",
    "# Relational operators always returns boolean value True/False\n",
    "# a=5\n",
    "# b=10\n",
    "#\n",
    "# print(a>b)  # False\n",
    "# print(a<b) # True\n",
    "# print(a==b) # False\n",
    "# print(a!=b) # True # Not equal to \n",
    "# print(a<=b)  # True\n",
    "# print(a>=b) # False\n",
    "\n",
    "#Logical operators\n",
    "#  and  or  not\n",
    "#always returns boolean value True/False\n",
    "a=True\n",
    "b=False\n",
    "\n",
    "print(a and b) # False\n",
    "print(a or b) # True\n",
    "print(not a) # False( as B is false)\n",
    "\n",
    "c\n",
    "\n"
   ]
  },
  {
   "cell_type": "markdown",
   "id": "2497fbb4",
   "metadata": {},
   "source": [
    "***\n",
    "True  = 1\n",
    "False = 0\n",
    "***"
   ]
  },
  {
   "cell_type": "markdown",
   "id": "6490d04a",
   "metadata": {},
   "source": [
    "#### Concatenation"
   ]
  },
  {
   "cell_type": "code",
   "execution_count": 23,
   "id": "8361b211",
   "metadata": {},
   "outputs": [
    {
     "name": "stdout",
     "output_type": "stream",
     "text": [
      "20\n",
      "22.5\n",
      "20.5\n"
     ]
    }
   ],
   "source": [
    "#Concatenation   +\n",
    "\n",
    "print(10+10)  #20 valid\n",
    "print(10.5+12.0) # 22.5 valid\n",
    "print(10+10.5)  # 20.5  valid"
   ]
  },
  {
   "cell_type": "code",
   "execution_count": 24,
   "id": "28cf442d",
   "metadata": {},
   "outputs": [
    {
     "name": "stdout",
     "output_type": "stream",
     "text": [
      "welcomepython\n"
     ]
    }
   ],
   "source": [
    "print('welcome'+'python') #welcomepython"
   ]
  },
  {
   "cell_type": "markdown",
   "id": "0f560b95",
   "metadata": {},
   "source": [
    "print('welcome'+' '+'python') # Add some space"
   ]
  },
  {
   "cell_type": "code",
   "execution_count": 25,
   "id": "82ceb737",
   "metadata": {},
   "outputs": [
    {
     "name": "stdout",
     "output_type": "stream",
     "text": [
      "6\n",
      "5\n",
      "2\n"
     ]
    }
   ],
   "source": [
    "print(True+5)   # 6 valid\n",
    "print(False+5)   # 5 valid\n",
    "print(True+True)  # 2 valid"
   ]
  },
  {
   "cell_type": "markdown",
   "id": "f32443de",
   "metadata": {},
   "source": [
    "1. print(10+'welcome') #Not valid bcoz 2 values are different type\n",
    "2. print(10.5+'welcome') #Not valid bcoz 2 values are different type\n",
    "3. print(True+'welcome')  #Not valid bcoz 2 values are different type"
   ]
  },
  {
   "cell_type": "markdown",
   "id": "6ceeef24",
   "metadata": {},
   "source": [
    "*** Learn F string function***"
   ]
  },
  {
   "cell_type": "code",
   "execution_count": 22,
   "id": "6f4c9ff0",
   "metadata": {},
   "outputs": [
    {
     "name": "stdout",
     "output_type": "stream",
     "text": [
      "GeeksforGeeks is a portal for Geeks.\n"
     ]
    }
   ],
   "source": [
    "# Python3 program introducing f-string\n",
    "val = 'Geeks'\n",
    "print(f\"{val}for{val} is a portal for {val}.\")"
   ]
  },
  {
   "cell_type": "code",
   "execution_count": 21,
   "id": "aeadf853",
   "metadata": {},
   "outputs": [
    {
     "name": "stdout",
     "output_type": "stream",
     "text": [
      "Hello, My name is Sohan and I'm 32 years old.\n"
     ]
    }
   ],
   "source": [
    "name = 'Sohan'\n",
    "age = 32\n",
    "print(f\"Hello, My name is {name} and I'm {age} years old.\")"
   ]
  },
  {
   "cell_type": "markdown",
   "id": "9373eddc",
   "metadata": {},
   "source": [
    "#### ForamttingOutput"
   ]
  },
  {
   "cell_type": "code",
   "execution_count": 33,
   "id": "c2fbff72",
   "metadata": {},
   "outputs": [],
   "source": [
    "name=\"john\"\n",
    "age=30\n",
    "sal=5000.50\n"
   ]
  },
  {
   "cell_type": "code",
   "execution_count": 35,
   "id": "081c5b08",
   "metadata": {},
   "outputs": [],
   "source": [
    "name,age,sal=\"john\",30,5000.50 # we can define all the variables in a single line"
   ]
  },
  {
   "cell_type": "code",
   "execution_count": 38,
   "id": "d813ca60",
   "metadata": {},
   "outputs": [
    {
     "name": "stdout",
     "output_type": "stream",
     "text": [
      "john\n",
      "30\n",
      "5000.5\n"
     ]
    }
   ],
   "source": [
    "# Approach 1\n",
    "print(name)\n",
    "print(age)\n",
    "print(sal)"
   ]
  },
  {
   "cell_type": "code",
   "execution_count": 39,
   "id": "4090061f",
   "metadata": {},
   "outputs": [
    {
     "name": "stdout",
     "output_type": "stream",
     "text": [
      "john 30 5000.5\n"
     ]
    }
   ],
   "source": [
    "print(name,age,sal) # If we want to format our output in a specific way\n"
   ]
  },
  {
   "cell_type": "code",
   "execution_count": 41,
   "id": "baeeec0d",
   "metadata": {},
   "outputs": [
    {
     "name": "stdout",
     "output_type": "stream",
     "text": [
      "Name is: john\n",
      "Age is: 30\n",
      "Sal is: 5000.5\n"
     ]
    }
   ],
   "source": [
    "#Approach2\n",
    "print(\"Name is:\",name)\n",
    "print(\"Age is:\",age)\n",
    "print(\"Sal is:\",sal)"
   ]
  },
  {
   "cell_type": "code",
   "execution_count": 42,
   "id": "5a622c31",
   "metadata": {},
   "outputs": [
    {
     "name": "stdout",
     "output_type": "stream",
     "text": [
      "Name is:john  Age is:30  Salary is:5000.5\n"
     ]
    }
   ],
   "source": [
    "#Approach3\n",
    "print(\"Name is:%s  Age is:%d  Salary is:%g\" %(name,age,sal))"
   ]
  },
  {
   "cell_type": "markdown",
   "id": "be0509f9",
   "metadata": {},
   "source": [
    "* %s - Represnt string\n",
    "* %d - Represnt digit\n",
    "* %g - Represnt a Decimal number"
   ]
  },
  {
   "cell_type": "code",
   "execution_count": 44,
   "id": "ab4044a1",
   "metadata": {},
   "outputs": [
    {
     "name": "stdout",
     "output_type": "stream",
     "text": [
      "Name is:john  Age is:30  Salary is:5000.5\n",
      "Age is:30 Name is:john   Salary is:5000.5\n"
     ]
    }
   ],
   "source": [
    "#Approach4   {} Using Dictionary data conttainer by giving key values pairs\n",
    "print(\"Name is:{}  Age is:{}  Salary is:{}\" .format(name,age,sal))\n",
    "print(\"Age is:{} Name is:{}   Salary is:{}\" .format(age,name,sal))\n"
   ]
  },
  {
   "cell_type": "markdown",
   "id": "32267291",
   "metadata": {},
   "source": [
    "#### TakingInputFromUser"
   ]
  },
  {
   "cell_type": "code",
   "execution_count": 54,
   "id": "bb90e2a1",
   "metadata": {},
   "outputs": [
    {
     "name": "stdout",
     "output_type": "stream",
     "text": [
      "Enter first number1\n",
      "Enter second number8\n"
     ]
    }
   ],
   "source": [
    "num1 = input(\"Enter first number\")\n",
    "num2= input(\"Enter second number\")"
   ]
  },
  {
   "cell_type": "code",
   "execution_count": 51,
   "id": "ee697106",
   "metadata": {},
   "outputs": [
    {
     "name": "stdout",
     "output_type": "stream",
     "text": [
      "<class 'str'>\n"
     ]
    }
   ],
   "source": [
    "print(type(num1))# Input gets values for user and these values are always in string, to overcome this we need to conert the data type"
   ]
  },
  {
   "cell_type": "code",
   "execution_count": 57,
   "id": "cdee16b0",
   "metadata": {},
   "outputs": [
    {
     "name": "stdout",
     "output_type": "stream",
     "text": [
      "18\n"
     ]
    }
   ],
   "source": [
    "print(num1+num2)# num1 = 1 and num2 = 8  so we are getting 18 which is not addition but concatenation"
   ]
  },
  {
   "cell_type": "code",
   "execution_count": 58,
   "id": "bb441b9d",
   "metadata": {},
   "outputs": [
    {
     "name": "stdout",
     "output_type": "stream",
     "text": [
      "Enter first number1\n",
      "Enter second number8\n"
     ]
    }
   ],
   "source": [
    "num1 = int(input(\"Enter first number\"))\n",
    "num2= int(input(\"Enter second number\"))"
   ]
  },
  {
   "cell_type": "code",
   "execution_count": 59,
   "id": "f4bbfb23",
   "metadata": {},
   "outputs": [
    {
     "name": "stdout",
     "output_type": "stream",
     "text": [
      "9\n"
     ]
    }
   ],
   "source": [
    "print(num1+num2)"
   ]
  },
  {
   "cell_type": "markdown",
   "id": "33156090",
   "metadata": {},
   "source": [
    "#### ConditionalStatement\n",
    "* if \n",
    "* if else\n",
    "* if else elif"
   ]
  },
  {
   "cell_type": "code",
   "execution_count": 75,
   "id": "3a6e3514",
   "metadata": {},
   "outputs": [
    {
     "name": "stdout",
     "output_type": "stream",
     "text": [
      "Not eligible for vote\n"
     ]
    }
   ],
   "source": [
    "# Example1 : Print a person is eligible for vote or not\n",
    "# age>=18\n",
    "\n",
    "age=17\n",
    "if age>=18:\n",
    "    print(\"Eligible for vote\")\n",
    "else:\n",
    "    print(\"Not eligible for vote\")"
   ]
  },
  {
   "cell_type": "code",
   "execution_count": 65,
   "id": "6473c3b0",
   "metadata": {},
   "outputs": [
    {
     "name": "stdout",
     "output_type": "stream",
     "text": [
      "true condition\n"
     ]
    }
   ],
   "source": [
    "# Example2\n",
    "\n",
    "if True:\n",
    "    print(\"true condition\")\n",
    "else:\n",
    "    print(\"false condition\")\n"
   ]
  },
  {
   "cell_type": "code",
   "execution_count": 69,
   "id": "99f0afc2",
   "metadata": {},
   "outputs": [
    {
     "name": "stdout",
     "output_type": "stream",
     "text": [
      "one\n"
     ]
    }
   ],
   "source": [
    "#Example3\n",
    "if 1:\n",
    "    print(\"one\")\n",
    "else:\n",
    "    print(\"Not one\")"
   ]
  },
  {
   "cell_type": "code",
   "execution_count": 76,
   "id": "a5b58a49",
   "metadata": {},
   "outputs": [
    {
     "name": "stdout",
     "output_type": "stream",
     "text": [
      "Given number is Even\n"
     ]
    }
   ],
   "source": [
    "# Example4  : Find a number is even/odd  num%2=0\n",
    "num=10\n",
    "if num%2==0: # Modulo\n",
    "    print(\"Given number is Even\")\n",
    "else:\n",
    "    print(\"Given number is odd\")"
   ]
  },
  {
   "cell_type": "code",
   "execution_count": 71,
   "id": "32f788dc",
   "metadata": {},
   "outputs": [
    {
     "name": "stdout",
     "output_type": "stream",
     "text": [
      "Even number\n"
     ]
    }
   ],
   "source": [
    "#Example5 : if else in single line  ( ternary operator)\n",
    "num=10\n",
    "print(\"Even number\") if num%2==0 else print(\"odd number\")"
   ]
  },
  {
   "cell_type": "code",
   "execution_count": 72,
   "id": "83cc1d8e",
   "metadata": {},
   "outputs": [
    {
     "name": "stdout",
     "output_type": "stream",
     "text": [
      "hi\n",
      "java\n"
     ]
    },
    {
     "data": {
      "text/plain": [
       "{None}"
      ]
     },
     "execution_count": 72,
     "metadata": {},
     "output_type": "execute_result"
    }
   ],
   "source": [
    "#Example6 : if else -  Multiple statements in Single Line\n",
    "a=5\n",
    "{print(\"hello\"),print(\"python\")} if a>=10 else {print(\"hi\"),print(\"java\")}"
   ]
  },
  {
   "cell_type": "code",
   "execution_count": 77,
   "id": "4138cdde",
   "metadata": {},
   "outputs": [
    {
     "name": "stdout",
     "output_type": "stream",
     "text": [
      "Invalid week number\n"
     ]
    }
   ],
   "source": [
    "\n",
    "#Example 7: Multiple conditions using elif\n",
    "weekno=10\n",
    "\n",
    "if weekno==1:\n",
    "    print(\"sunday\")\n",
    "elif weekno == 2:\n",
    "    print(\"monday\")\n",
    "elif (weekno == 3):\n",
    "    print(\"tuesday\")\n",
    "elif weekno == 4:\n",
    "    print(\"Wednesday\")\n",
    "elif weekno == 5:\n",
    "    print(\"Thurday\")\n",
    "elif weekno == 6:\n",
    "    print(\"Friday\")\n",
    "elif weekno == 7:\n",
    "    print(\"saturday\")\n",
    "else:\n",
    "    print(\"Invalid week number\")"
   ]
  },
  {
   "cell_type": "markdown",
   "id": "b198285c",
   "metadata": {},
   "source": [
    "# Day 3 (2.3) LOOPS"
   ]
  },
  {
   "cell_type": "markdown",
   "id": "fee71553",
   "metadata": {},
   "source": [
    "Day3- Python Programming\n",
    "-------------------------\n",
    "Control statements\n",
    "---------\n",
    "conditional statements - if  if..else  elif\n",
    "looping statements - while, for\n",
    "jumping statements - break, continue\n",
    "\n",
    "print(1)\n",
    "print(2)\n",
    "--\n",
    "---\n",
    "\n",
    "range() function in python\n",
    "--------------------\n",
    "range(10)    0.....10\n",
    "range(1,10)   1,........9\n",
    "range(1,10,2)   1- starting point, 10 -ending point 2-increment\n",
    "\n",
    "\n",
    "looping statemenets\n",
    "-----------\n",
    "while loop\n",
    "for loop\n",
    "\n",
    "initilization\n",
    "condition\n",
    "incrementation/descrement\n",
    "\n",
    "\n",
    "Numbers & Strings\n",
    "--------------------------\n",
    "\n",
    "\n",
    "\n",
    "\n",
    "\n",
    "\n",
    "\n",
    "\n",
    "\n",
    "\n",
    "\n",
    "\n",
    "\n",
    "\n",
    "\n",
    "\n",
    "\n",
    "\n",
    "\n",
    "\n"
   ]
  },
  {
   "cell_type": "markdown",
   "id": "580cfd6c",
   "metadata": {},
   "source": [
    "#### Range"
   ]
  },
  {
   "cell_type": "markdown",
   "id": "a229faa6",
   "metadata": {},
   "source": [
    "#### Operators\n"
   ]
  },
  {
   "cell_type": "code",
   "execution_count": 78,
   "id": "0e7fa21e",
   "metadata": {},
   "outputs": [
    {
     "name": "stdout",
     "output_type": "stream",
     "text": [
      "[0, 1, 2, 3, 4, 5, 6, 7, 8, 9]\n",
      "[5, 6, 7, 8, 9]\n"
     ]
    }
   ],
   "source": [
    "# range() : values between the range\n",
    "\n",
    "print(list(range(10)))  #[0, 1, 2, 3, 4, 5, 6, 7, 8, 9]\n",
    "print(list(range(5,10))) #[5,6,7,8,9]"
   ]
  },
  {
   "cell_type": "code",
   "execution_count": 79,
   "id": "d5d0441d",
   "metadata": {},
   "outputs": [
    {
     "name": "stdout",
     "output_type": "stream",
     "text": [
      "[1, 3, 5, 7, 9]\n"
     ]
    }
   ],
   "source": [
    "#print only odd numbers between 1-10\n",
    "print(list(range(1,10,2)))   #[1, 3, 5, 7, 9](form,to,by)"
   ]
  },
  {
   "cell_type": "code",
   "execution_count": 80,
   "id": "915959ba",
   "metadata": {},
   "outputs": [
    {
     "name": "stdout",
     "output_type": "stream",
     "text": [
      "[2, 4, 6, 8]\n"
     ]
    }
   ],
   "source": [
    "#print only even numbers between 1-10\n",
    "print(list(range(2,10,2)))  #[2, 4, 6, 8]"
   ]
  },
  {
   "cell_type": "code",
   "execution_count": 81,
   "id": "cba4879d",
   "metadata": {},
   "outputs": [
    {
     "name": "stdout",
     "output_type": "stream",
     "text": [
      "[10, 9, 8, 7, 6, 5, 4, 3, 2]\n"
     ]
    }
   ],
   "source": [
    "print(list(range(10,1,-1)))  #[10, 9, 8, 7, 6, 5, 4, 3, 2]\n"
   ]
  },
  {
   "cell_type": "code",
   "execution_count": 82,
   "id": "4c3b47a4",
   "metadata": {},
   "outputs": [
    {
     "name": "stdout",
     "output_type": "stream",
     "text": [
      "[-10, -9, -8, -7, -6]\n"
     ]
    }
   ],
   "source": [
    "#  -10  -9 -8 -7 -6  -5 -4 -3 -2  -1 0 1 2 3 4 5 6\n",
    "print(list(range(-10,-5)))    # [-10, -9, -8, -7, -6]"
   ]
  },
  {
   "cell_type": "code",
   "execution_count": 83,
   "id": "4c4285cc",
   "metadata": {},
   "outputs": [
    {
     "name": "stdout",
     "output_type": "stream",
     "text": [
      "[-10, -8, -6]\n"
     ]
    }
   ],
   "source": [
    "print(list(range(-10,-5,2))) # [-10, -8, -6]"
   ]
  },
  {
   "cell_type": "markdown",
   "id": "a5809373",
   "metadata": {},
   "source": [
    "#### Loops\n",
    "Three main component\n",
    "* initilization\n",
    "* condition\n",
    "* incrementation/descrement"
   ]
  },
  {
   "cell_type": "markdown",
   "id": "b3323166",
   "metadata": {},
   "source": [
    "run a programme snippet which can run multipule times"
   ]
  },
  {
   "cell_type": "markdown",
   "id": "e09e7573",
   "metadata": {},
   "source": [
    "*** While Loop***"
   ]
  },
  {
   "cell_type": "code",
   "execution_count": 86,
   "id": "afa72fb6",
   "metadata": {},
   "outputs": [
    {
     "name": "stdout",
     "output_type": "stream",
     "text": [
      "1\n",
      "2\n",
      "3\n",
      "4\n",
      "5\n",
      "6\n",
      "7\n",
      "8\n",
      "9\n",
      "10\n",
      "Done!!!!\n"
     ]
    }
   ],
   "source": [
    "#  while loop\n",
    "\n",
    "# print 1.....10 numbers\n",
    "\n",
    "i=1  #initilization(Starting point)\n",
    "while i<=10:     #1 2 3  4 5 6 7 9 10  CONDITION\n",
    "    print(i)    #1  2 3 4 5 6 8 9 10\n",
    "    i=i+1    #2 3 4 5 6 7 9 10 11 INCREMENTATION/DESCREMENT\n",
    "print(\"Done!!!!\")"
   ]
  },
  {
   "cell_type": "code",
   "execution_count": 90,
   "id": "fab3b0a4",
   "metadata": {},
   "outputs": [
    {
     "name": "stdout",
     "output_type": "stream",
     "text": [
      "10\n",
      "9\n",
      "8\n",
      "7\n",
      "6\n",
      "5\n",
      "4\n",
      "3\n",
      "2\n",
      "1\n",
      "Done!!!\n"
     ]
    }
   ],
   "source": [
    "# print 1...10 numbers in descending order (10,9,8,7,.....1)\n",
    "i=10 # WHAT IS OUR STARTING POINT\n",
    "while i>=1:\n",
    "    print(i) #10 9 8 7 6 5 4 3 2 1\n",
    "    i=i-1  #9  8 7 6 5 4 3 2 1 0 HOW MUCH VALUE WE HAVE OT INCREMENT AND DECREMENT EVERY TIME \n",
    "print(\"Done!!!\")"
   ]
  },
  {
   "cell_type": "code",
   "execution_count": 89,
   "id": "a918869b",
   "metadata": {},
   "outputs": [
    {
     "name": "stdout",
     "output_type": "stream",
     "text": [
      "10\n",
      "Done!!!\n",
      "9\n",
      "Done!!!\n",
      "8\n",
      "Done!!!\n",
      "7\n",
      "Done!!!\n",
      "6\n",
      "Done!!!\n",
      "5\n",
      "Done!!!\n",
      "4\n",
      "Done!!!\n",
      "3\n",
      "Done!!!\n",
      "2\n",
      "Done!!!\n",
      "1\n",
      "Done!!!\n"
     ]
    }
   ],
   "source": [
    "# print 1...10 numbers in descending order (10,9,8,7,.....1)\n",
    "i=10 # WHAT IS OUR STARTING POINT\n",
    "while i>=1:\n",
    "    print(i) #10 9 8 7 6 5 4 3 2 1\n",
    "    i=i-1  #9  8 7 6 5 4 3 2 1 0 HOW MUCH VALUE WE HAVE OT INCREMENT AND DECREMENT EVERY TIME \n",
    "    print(\"Done!!!\")"
   ]
  },
  {
   "cell_type": "markdown",
   "id": "e82fd6ff",
   "metadata": {},
   "source": [
    "*** Make sure that only put those objects inside while loop body which you want to iterate every time ***"
   ]
  },
  {
   "cell_type": "markdown",
   "id": "530728b6",
   "metadata": {},
   "source": [
    "Differnce between LOOPS and conditional Statement"
   ]
  },
  {
   "cell_type": "markdown",
   "id": "86213423",
   "metadata": {},
   "source": [
    "#### For Loop\n",
    "\n",
    "*** In Operator***"
   ]
  },
  {
   "cell_type": "code",
   "execution_count": 93,
   "id": "550a5394",
   "metadata": {},
   "outputs": [
    {
     "name": "stdout",
     "output_type": "stream",
     "text": [
      "0\n",
      "1\n",
      "2\n",
      "3\n",
      "4\n",
      "5\n",
      "6\n",
      "7\n",
      "8\n",
      "9\n"
     ]
    }
   ],
   "source": [
    "#print 1...10 numbers using for loop\n",
    "\n",
    "for i in range(10):\n",
    "    print(i)   #0....9\n"
   ]
  },
  {
   "cell_type": "code",
   "execution_count": null,
   "id": "66903c9c",
   "metadata": {},
   "outputs": [],
   "source": [
    "# for i in range(1,11):   # 1,2,3,4,....10\n",
    "#     print(i)   #1....10\n"
   ]
  },
  {
   "cell_type": "code",
   "execution_count": 94,
   "id": "e3f344e0",
   "metadata": {},
   "outputs": [
    {
     "name": "stdout",
     "output_type": "stream",
     "text": [
      "2\n",
      "4\n",
      "6\n",
      "8\n",
      "10\n",
      "12\n",
      "14\n",
      "16\n",
      "18\n",
      "20\n"
     ]
    }
   ],
   "source": [
    "# print only even numbers between 1....20\n",
    "for i in range(2,21,2):\n",
    "    print(i)"
   ]
  },
  {
   "cell_type": "code",
   "execution_count": 96,
   "id": "f785ee52",
   "metadata": {},
   "outputs": [
    {
     "name": "stdout",
     "output_type": "stream",
     "text": [
      "1\n",
      "3\n",
      "5\n",
      "7\n",
      "9\n",
      "11\n",
      "13\n",
      "15\n",
      "17\n",
      "19\n"
     ]
    }
   ],
   "source": [
    "# print only even numbers between 1....20\n",
    "for i in range(1, 21, 2):\n",
    "    print(i)\n"
   ]
  },
  {
   "cell_type": "code",
   "execution_count": 98,
   "id": "4e2dfc05",
   "metadata": {},
   "outputs": [
    {
     "name": "stdout",
     "output_type": "stream",
     "text": [
      "10\n",
      "9\n",
      "8\n",
      "7\n",
      "6\n",
      "5\n",
      "4\n",
      "3\n",
      "2\n",
      "1\n"
     ]
    }
   ],
   "source": [
    "#print 1...10 numbers in descending order ( 10,9,8.....1)\n",
    "for i in range(10,0,-1):\n",
    "    print(i)\n"
   ]
  },
  {
   "cell_type": "code",
   "execution_count": 100,
   "id": "4b0443ad",
   "metadata": {},
   "outputs": [
    {
     "name": "stdout",
     "output_type": "stream",
     "text": [
      "5\n",
      "10\n",
      "15\n",
      "20\n",
      "25\n",
      "30\n",
      "35\n",
      "40\n",
      "45\n",
      "50\n",
      "55\n",
      "60\n",
      "65\n",
      "70\n",
      "75\n",
      "80\n",
      "85\n",
      "90\n",
      "95\n",
      "100\n",
      "Program exoted!!!\n"
     ]
    }
   ],
   "source": [
    "#print 5,10,15,20.....100\n",
    "for i in range(5,101,5):\n",
    "    print(i)\n",
    "print('Program exoted!!!')\n"
   ]
  },
  {
   "cell_type": "markdown",
   "id": "b21265c1",
   "metadata": {},
   "source": [
    "#### Jumping Statements\n",
    "* Break\n",
    "* Continue"
   ]
  },
  {
   "cell_type": "code",
   "execution_count": 103,
   "id": "c3a357e7",
   "metadata": {},
   "outputs": [
    {
     "name": "stdout",
     "output_type": "stream",
     "text": [
      "1\n",
      "2\n",
      "3\n",
      "4\n",
      "program exited!!!!\n"
     ]
    }
   ],
   "source": [
    "for i in range(1,10):\n",
    "    if i==5:\n",
    "        break\n",
    "    print(i)   # 1....9\n",
    "print(\"program exited!!!!\")"
   ]
  },
  {
   "cell_type": "code",
   "execution_count": 106,
   "id": "7adf6a58",
   "metadata": {},
   "outputs": [
    {
     "name": "stdout",
     "output_type": "stream",
     "text": [
      "1\n",
      "2\n",
      "4\n",
      "6\n",
      "8\n",
      "9\n",
      "program exited!!!!\n"
     ]
    }
   ],
   "source": [
    "# Skippuing some values \n",
    "for i in range(1,10):\n",
    "    if i==3 or i==5 or i==7: # Accept boolean \n",
    "        continue\n",
    "    print(i)\n",
    "print(\"program exited!!!!\")"
   ]
  },
  {
   "cell_type": "code",
   "execution_count": 105,
   "id": "4bf466ae",
   "metadata": {},
   "outputs": [
    {
     "name": "stdout",
     "output_type": "stream",
     "text": [
      "3\n",
      "5\n"
     ]
    }
   ],
   "source": [
    "for i in range(3,7,2):\n",
    "    print(i)"
   ]
  },
  {
   "cell_type": "code",
   "execution_count": null,
   "id": "eeff41b9",
   "metadata": {},
   "outputs": [],
   "source": [
    "num1=100\n",
    "num2=10.5\n",
    "\n",
    "print(type(num1)) # int\n",
    "print(type(num2)) #flot"
   ]
  },
  {
   "cell_type": "code",
   "execution_count": 107,
   "id": "1be6d361",
   "metadata": {},
   "outputs": [
    {
     "name": "stdout",
     "output_type": "stream",
     "text": [
      "100\n"
     ]
    }
   ],
   "source": [
    "# find maximum of 3 numbers  max()\n",
    "#max() - returns maximum value\n",
    "print(max(10,20,30,40,50,5,10,80,100,40))  #100"
   ]
  },
  {
   "cell_type": "code",
   "execution_count": 108,
   "id": "ff87f1c4",
   "metadata": {},
   "outputs": [
    {
     "name": "stdout",
     "output_type": "stream",
     "text": [
      "5\n"
     ]
    }
   ],
   "source": [
    "# min() - returns miniumu value\n",
    "print(min(10,20,30,40,50,5,10,80,100,40))  #5"
   ]
  },
  {
   "cell_type": "code",
   "execution_count": 109,
   "id": "cfaad1bb",
   "metadata": {},
   "outputs": [
    {
     "name": "stdout",
     "output_type": "stream",
     "text": [
      "20.5\n",
      "5.5\n"
     ]
    }
   ],
   "source": [
    "print(max(10.5,20.5,5.5))  #20.5\n",
    "print(min(10.5,20.5,5.5))  #5.5\n"
   ]
  },
  {
   "cell_type": "markdown",
   "id": "8f938558",
   "metadata": {},
   "source": [
    "#### # Create string varaible"
   ]
  },
  {
   "cell_type": "code",
   "execution_count": 112,
   "id": "cf562c9f",
   "metadata": {},
   "outputs": [],
   "source": [
    "# create string varaible\n",
    "# Example 1  :  ways of creating string varialbes\n",
    "s=\"welcome\"\n",
    "s='welcome'\n",
    "s=str('welcome')\n",
    "s=str(\"welcome\")\n"
   ]
  },
  {
   "cell_type": "code",
   "execution_count": null,
   "id": "9ea05b49",
   "metadata": {},
   "outputs": [],
   "source": [
    "#creatign empty string variables\n",
    "name=\"\"\n",
    "name=''\n",
    "name=str()"
   ]
  },
  {
   "cell_type": "markdown",
   "id": "d2dd5297",
   "metadata": {},
   "source": [
    "###### mutable- cannot change the value of variable\n",
    "##### immutable - can change the value of the variable"
   ]
  },
  {
   "cell_type": "code",
   "execution_count": 115,
   "id": "11645231",
   "metadata": {},
   "outputs": [
    {
     "name": "stdout",
     "output_type": "stream",
     "text": [
      "1266803036400\n",
      "1266801779184\n"
     ]
    }
   ],
   "source": [
    "# string is immutable\n",
    "#if the value is changed after updation then it is immutable\n",
    "\n",
    "str1=\"welome\"\n",
    "print(id(str1))  #2984541559472 (ID of this memory )\n",
    "str1=str1+\"to python\" # (Means welcome + to python) Old value will to overwrite by new value\n",
    "print(id(str1)) #1630475397872\n"
   ]
  },
  {
   "cell_type": "markdown",
   "id": "9af1025e",
   "metadata": {},
   "source": [
    "#### After updation the id of the variable is changing which suggests string is changinh means string is immutable"
   ]
  },
  {
   "cell_type": "code",
   "execution_count": 117,
   "id": "820f619d",
   "metadata": {},
   "outputs": [
    {
     "name": "stdout",
     "output_type": "stream",
     "text": [
      "welcomeprogramming\n",
      "welcomewelcomewelcome\n"
     ]
    }
   ],
   "source": [
    "# Example 3  :  + and * with string\n",
    "str=\"welcome\"\n",
    "print(str+\"programming\")   # concatenation/joining\n",
    "print(str*3)  #welcomewelcomewelcome\n"
   ]
  },
  {
   "cell_type": "markdown",
   "id": "22d20609",
   "metadata": {},
   "source": [
    "***Example4 : slicing  []***\n",
    "1. startign index 0\n",
    "2. ending index 1"
   ]
  },
  {
   "cell_type": "code",
   "execution_count": 118,
   "id": "61d88983",
   "metadata": {},
   "outputs": [
    {
     "name": "stdout",
     "output_type": "stream",
     "text": [
      "el\n",
      "welcom\n",
      "lcome\n"
     ]
    }
   ],
   "source": [
    "str=\"welcome\"\n",
    "print(str[1:3])  #el\n",
    "print(str[:6])  #welcom here starting index is 0 by default\n",
    "print(str[2:])   #lcome"
   ]
  },
  {
   "cell_type": "code",
   "execution_count": 120,
   "id": "2cfaa588",
   "metadata": {},
   "outputs": [
    {
     "name": "stdout",
     "output_type": "stream",
     "text": [
      "elcom\n",
      "elco\n"
     ]
    }
   ],
   "source": [
    "print(str[1:-1])  #elcom last 1 char removed\n",
    "print(str[1:-2])  #elco last 2 chars removed"
   ]
  },
  {
   "cell_type": "code",
   "execution_count": 121,
   "id": "21a52dab",
   "metadata": {},
   "outputs": [
    {
     "name": "stdout",
     "output_type": "stream",
     "text": [
      "65\n",
      "A\n"
     ]
    }
   ],
   "source": [
    "#Example5 : ord() and chr()\n",
    "print(ord('A'))  #65 # returns the ASCII code of the character.\n",
    "print(chr(65))  #A  #returns character represented by a ASCII number."
   ]
  },
  {
   "cell_type": "code",
   "execution_count": 122,
   "id": "95eb3271",
   "metadata": {},
   "outputs": [
    {
     "name": "stdout",
     "output_type": "stream",
     "text": [
      "c\n",
      "a\n",
      "7\n"
     ]
    }
   ],
   "source": [
    "#Example6:   max()  min() len()\n",
    "\n",
    "print(max(\"abc\"))   #c\n",
    "print(min(\"abc\"))   #a\n",
    "print(len(\"welcome\"))   #7"
   ]
  },
  {
   "cell_type": "code",
   "execution_count": 124,
   "id": "b6a3ad83",
   "metadata": {},
   "outputs": [
    {
     "name": "stdout",
     "output_type": "stream",
     "text": [
      "True\n",
      "False\n",
      "False\n",
      "True\n"
     ]
    }
   ],
   "source": [
    "#Example 7: in ,  not in operators  - returns true/false\n",
    "s=\"welcome\"\n",
    "print(\"come\" in s)  #True\n",
    "print(\"lome\" in s)  #False\n",
    "\n",
    "print(\"come\" not in s)  #False\n",
    "print(\"lome\" not in s)  #True"
   ]
  },
  {
   "cell_type": "code",
   "execution_count": 125,
   "id": "17303ff6",
   "metadata": {},
   "outputs": [
    {
     "name": "stdout",
     "output_type": "stream",
     "text": [
      "False\n",
      "True\n",
      "True\n",
      "True\n",
      "False\n",
      "False\n",
      "True\n"
     ]
    }
   ],
   "source": [
    "#Example8: String comparison\n",
    "print(\"tim\" == \"tie\") #False( if both are equal then true)\n",
    "print(\"free\" != \"freedom\") #True\n",
    "print (\"arrow\" > \"aron\") #True (it checks serial wise alphabetical order), 3rd r > o\n",
    "print (\"right\" >= \"left\") #True\n",
    "print (\"teeth\" < \"tee\") #False\n",
    "print (\"yellow\" <= \"fellow\") #False\n",
    "print (\"abc\" > \"\") #True"
   ]
  },
  {
   "cell_type": "code",
   "execution_count": 126,
   "id": "3910dd95",
   "metadata": {},
   "outputs": [
    {
     "name": "stdout",
     "output_type": "stream",
     "text": [
      "False\n",
      "True\n",
      "True\n",
      "False\n",
      "True\n",
      "True\n",
      "True\n"
     ]
    }
   ],
   "source": [
    "# Example9 : Testing strings  True/False\n",
    "s = \"welcome to python\"\n",
    "print(s.isalnum()) #False(check if variable has numbers or not)\n",
    "print(\"Welcome\".isalpha()) #True (check if variable has alphabet or not)\n",
    "print(\"2012\".isdigit()) #True\n",
    "print(\"first Number\".isidentifier())#False\n",
    "print(s.islower()) #True\n",
    "print(\"WELCOME\".isupper()) #True\n",
    "print(\" \".isspace()) #True"
   ]
  },
  {
   "cell_type": "code",
   "execution_count": 128,
   "id": "b3a2e4a5",
   "metadata": {},
   "outputs": [
    {
     "name": "stdout",
     "output_type": "stream",
     "text": [
      "True\n",
      "False\n",
      "3\n",
      "-1\n",
      "2\n"
     ]
    }
   ],
   "source": [
    "#Example10 : Searching for Substrings\n",
    "s = \"welcome to python\"\n",
    "print(s.endswith(\"thon\")) #True\n",
    "\n",
    "print(s.startswith(\"good\")) #False\n",
    "\n",
    "print(s.find(\"come\")) #3 ( Will return position)\n",
    "print(s.find(\"become\")) #-1  if output is -1 then the string is not found in the variable\n",
    "\n",
    "print(s.count(\"t\")) #2   #Returns number of occurrences of substring the string"
   ]
  },
  {
   "cell_type": "code",
   "execution_count": 131,
   "id": "462cdf7e",
   "metadata": {},
   "outputs": [
    {
     "name": "stdout",
     "output_type": "stream",
     "text": [
      "String in python\n",
      "String In Python\n",
      "string in python\n",
      "STRING IN PYTHON\n",
      "sTRING IN python\n",
      "Strong on PYTHON\n"
     ]
    }
   ],
   "source": [
    "#Example11: Converting String\n",
    "s = \"String in PYTHON\"\n",
    "s1 = s.capitalize()\n",
    "print(s1) #String in python\n",
    "\n",
    "s2 = s.title()\n",
    "print(s2)#String In Python\n",
    "\n",
    "s3 = s.lower()\n",
    "print(s3) #string in python\n",
    "\n",
    "s4 = s.upper()\n",
    "print(s4) #STRING IN PYTHON\n",
    "\n",
    "s5 = s.swapcase()\n",
    "print(s5) #sTRING IN python\n",
    "\n",
    "s6 = s.replace(\"in\", \"on\")\n",
    "print(s6) #String on PYTHON"
   ]
  },
  {
   "cell_type": "code",
   "execution_count": 133,
   "id": "5a98fdf3",
   "metadata": {},
   "outputs": [
    {
     "name": "stdout",
     "output_type": "stream",
     "text": [
      "reversed string is: emoclew\n"
     ]
    }
   ],
   "source": [
    "#Example12: Reverse a string\n",
    "# Method1\n",
    "s=\"welcome\"\n",
    "rev_str=\"\"\n",
    "for i in s:\n",
    "    rev_str=i+rev_str  # emoclew\n",
    "print(\"reversed string is:\",rev_str) #emoclew"
   ]
  },
  {
   "cell_type": "code",
   "execution_count": 135,
   "id": "19741c03",
   "metadata": {},
   "outputs": [
    {
     "name": "stdout",
     "output_type": "stream",
     "text": [
      "emoclew\n"
     ]
    }
   ],
   "source": [
    "#Method2\n",
    "s=\"welcome\"\n",
    "rev_str=s[::-1]   # s[0:7:-1] s[start:end:-1 ] will start from end\n",
    "print(rev_str)  #emoclew\n"
   ]
  },
  {
   "cell_type": "markdown",
   "id": "c6ede477",
   "metadata": {},
   "source": [
    "# Day 4"
   ]
  },
  {
   "cell_type": "markdown",
   "id": "88aec0ee",
   "metadata": {},
   "source": [
    "Day4- Python Programming\n",
    "---------------------------\n",
    "Collections\n",
    "-------\n",
    "a=10\n",
    "s=\"welcome\"\n",
    "d=10.5\n",
    "\n",
    "List\n",
    "Tuple\n",
    "Set\n",
    "Dictionary\n",
    "\n",
    "List\n",
    "-------\n",
    "A list is a collection which is ordered and changeable. \n",
    "In Python lists are written with square brackets [ ].\n",
    "List is mutable.\n",
    "\n",
    "Tuple\n",
    "------\n",
    "A tuple is a collection which is ordered and unchangeable. \n",
    "In Python tuples are written with round brackets. ()\n",
    "Tuple is Immutable.\n",
    "\n",
    "if it is Immutable below things are not possible....\n",
    "\n",
    "1) we cannot modify existign value\n",
    "2) we cannot append new value\n",
    "3) we cannot insert a new value\n",
    "4) we cannot remove a value\n",
    "\n",
    "\n",
    "mutable  - can change\n",
    "immutable -- we cannot change\n",
    "\n",
    "\n",
    "\n",
    "\n",
    "\n"
   ]
  },
  {
   "cell_type": "markdown",
   "id": "b88634f7",
   "metadata": {},
   "source": [
    "# Data Containers (Refer book shared by Jaydeep sir) \n",
    "* List\n",
    "* Tuples\n",
    "* Set\n",
    "* Dictionary"
   ]
  },
  {
   "cell_type": "markdown",
   "id": "adb62382",
   "metadata": {},
   "source": [
    "#### List"
   ]
  },
  {
   "cell_type": "code",
   "execution_count": 136,
   "id": "a923d943",
   "metadata": {},
   "outputs": [
    {
     "name": "stdout",
     "output_type": "stream",
     "text": [
      "['apple', 'banana', 'cherry']\n",
      "['apple', 'banana', 'cherry']\n",
      "lists are equal\n"
     ]
    }
   ],
   "source": [
    "#Example1  : how to create list\n",
    "\n",
    "# mylist1=[10,20,30,40,50]\n",
    "# mylist2=[\"apple\",\"banana\",\"cherry\"]\n",
    "# mylist3=[\"apple\",10,\"banana\",20]\n",
    "# mylist=list()  # empty list\n",
    "#\n",
    "# print(mylist1)\n",
    "# print(mylist2)\n",
    "# print(mylist3)\n",
    "# print(mylist)\n",
    "\n",
    "#Example2 : Accessing items from the list\n",
    "# mylist=[\"apple\",\"banana\",\"cherry\"]     # idex starts from 0\n",
    "#\n",
    "# print(mylist[0])\n",
    "# print(mylist[2])\n",
    "# print(mylist[-1])\n",
    "# print(mylist[-2])\n",
    "\n",
    "#Example3: Range of indexes\n",
    "# mylist=[\"apple\", \"banana\", \"cherry\", \"orange\", \"kiwi\", \"melon\", \"mango\"]\n",
    "# print(mylist[2:5])  #['cherry', 'orange', 'kiwi']\n",
    "# print(mylist[-4:-1]) #['orange', 'kiwi', 'melon']\n",
    "\n",
    "#Example4: change item value\n",
    "# mylist=[\"apple\", \"banana\", \"cherry\"]\n",
    "# print(mylist) #['apple', 'banana', 'cherry']\n",
    "# mylist[0]=\"orange\"  # this will change the values based on index\n",
    "# print(mylist)  ['orange', 'banana', 'cherry']\n",
    "\n",
    "#Example5: read the list items using loop\n",
    "# mylist=[\"apple\", \"banana\", \"cherry\"]\n",
    "# for i in mylist:\n",
    "#     print(i)\n",
    "\n",
    "#Examplr6: check if the item is exist in the list or not\n",
    "# mylist=[\"apple\", \"banana\", \"cherry\"]\n",
    "#\n",
    "# if \"apple\" in mylist:\n",
    "#     print(\"yes. apple is present\")\n",
    "# else:\n",
    "#     print(\"No, apple is not present\")\n",
    "\n",
    "\n",
    "#Example7:List Length (counting number of items in a list)\n",
    "# mylist=[\"apple\", \"banana\", \"cherry\"]\n",
    "# print(len(mylist))  #3\n",
    "\n",
    "\n",
    "#Example8: Add items  append()  insert()\n",
    "# mylist=[\"apple\", \"banana\", \"cherry\"]\n",
    "# #mylist.append(\"orange\") # adding new item at the end of the list\n",
    "# mylist.insert(1,\"orange\")  # add item some where in the middle of the list based on the index\n",
    "# print(mylist)\n",
    "\n",
    "#Example9: remove item from the list\n",
    "#pop()\n",
    "# mylist=[\"apple\", \"banana\", \"cherry\"]\n",
    "# mylist.pop(0) # here we should specify index not the value\n",
    "# print(mylist) #['banana', 'cherry']\n",
    "\n",
    "#del\n",
    "# mylist=[\"apple\", \"banana\", \"cherry\"]\n",
    "# del mylist[2]      #here del command removes single item based on the index\n",
    "# print(mylist) #['apple', 'banana']\n",
    "\n",
    "#clear()\n",
    "# mylist=[\"apple\", \"banana\", \"cherry\"]\n",
    "# mylist.clear()\n",
    "# print(mylist) #[]\n",
    "\n",
    "#Example10 : copy list\n",
    "#list()\n",
    "# mylist1=[\"apple\", \"banana\", \"cherry\"]\n",
    "# mylist2=list(mylist1)\n",
    "# print(mylist1)  #['apple', 'banana', 'cherry']\n",
    "# print(mylist2)  #['apple', 'banana', 'cherry']\n",
    "\n",
    "#copy()\n",
    "mylist1=[\"apple\", \"banana\", \"cherry\"]\n",
    "mylist2=mylist1.copy()\n",
    "print(mylist1)  #['apple', 'banana', 'cherry']\n",
    "print(mylist2)  #['apple', 'banana', 'cherry']\n",
    "\n",
    "#Example11: combine/join lists\n",
    "# using + operator\n",
    "# list1=[\"a\",\"b\",\"c\"]\n",
    "# list2=[1,2,3]\n",
    "# list3=list1+list2\n",
    "# print(list3) #['a', 'b', 'c', 1, 2, 3]\n",
    "\n",
    "#using loop statement\n",
    "# list1=[\"a\",\"b\",\"c\"]\n",
    "# list2=[1,2,3]\n",
    "#\n",
    "# for i in list2:\n",
    "#     list1.append(i)\n",
    "# print(list1) #['a', 'b', 'c', 1, 2, 3]\n",
    "\n",
    "#using extend()\n",
    "# list1=[\"a\",\"b\",\"c\"]\n",
    "# list2=[1,2,3]\n",
    "# list1.extend(list2)\n",
    "# print(list1) #['a', 'b', 'c', 1, 2, 3]\n",
    "\n",
    "\n",
    "#  lists comparison\n",
    "mylist1=[10,20,30]\n",
    "mylist2=[10,20,30]\n",
    "\n",
    "if mylist1==mylist2:\n",
    "    print(\"lists are equal\")\n",
    "else:\n",
    "    print(\"lists are not eqaul\")"
   ]
  },
  {
   "cell_type": "markdown",
   "id": "fdf76586",
   "metadata": {},
   "source": [
    "## Tuple\n",
    "#### Properties\n",
    "* Mutable\n",
    "* use round bracket() "
   ]
  },
  {
   "cell_type": "code",
   "execution_count": null,
   "id": "82127d5a",
   "metadata": {},
   "outputs": [],
   "source": []
  },
  {
   "cell_type": "code",
   "execution_count": null,
   "id": "924beafe",
   "metadata": {},
   "outputs": [],
   "source": [
    "#Example1: creating tuple\n",
    "# mytuple=(\"apple\",\"banana\",\"cherry\")\n",
    "# print(mytuple)\n",
    "#mytuple=()  # emty tuple\n",
    "\n",
    "#Example2: access tuple items\n",
    "# mytuple=(\"apple\",\"banana\",\"cherry\")\n",
    "# print(mytuple[1]) #banana   here index starts from 0\n",
    "# print(mytuple[-1])  #cherry\n",
    "\n",
    "#Example3: range of indexes\n",
    "# mytuple=(\"apple\", \"banana\", \"cherry\", \"orange\", \"kiwi\", \"melon\", \"mango\")\n",
    "# print(mytuple[2:5]) #('cherry', 'orange', 'kiwi')\n",
    "# print(mytuple[-4:-1]) # ('orange', 'kiwi', 'melon')\n",
    "\n",
    "#Example 4: Changing tuple items\n",
    "# by default tuple does not allow you chnage values bcoz it is immutable\n",
    "#but there is work around\n",
    "#tuple--> list(modify)--> tuple\n",
    "#\n",
    "# #mytuple=(\"apple\", \"banana\", \"cherry\")\n",
    "# mytuple=(\"apple\", 100, 200)\n",
    "# mylist=list(mytuple)\n",
    "# mylist[0]=\"orange\"\n",
    "# mytuple=tuple(mylist)\n",
    "# print(mytuple) #('orange', 'banana', 'cherry')\n",
    "\n",
    "#Example5: reading tuple items using loop\n",
    "# mytuple=(\"apple\", \"banana\", \"cherry\")\n",
    "# for i in mytuple:\n",
    "#     print(i)\n",
    "\n",
    "#Example6: Check if Item Exists( searching of item in tuple)\n",
    "# mytuple=(\"apple\", \"banana\", \"cherry\")\n",
    "# if \"banana\" in mytuple:\n",
    "#     print(\"yes, banana is present\")\n",
    "# else:\n",
    "#     print(\"no, banana is not present\")\n",
    "\n",
    "#Example7: Tuple Length - counting items in a tuple\n",
    "# mytuple=(\"apple\", \"banana\", \"cherry\")\n",
    "# print(len(mytuple)) #3\n",
    "\n",
    "#Example8: Add items to tuple - not possible bcoz tuple is immutable - cannot change values/items\n",
    "# mytuple=(\"apple\", \"banana\", \"cherry\")\n",
    "# mytuple[0]=\"orange\" #TypeError: 'tuple' object does not support item assignment\n",
    "# print(mytuple)\n",
    "\n",
    "#Example9:  copy tuple\n",
    "# mytuple1 = (\"apple\", \"banana\", \"cherry\")\n",
    "# mytuple2=mytuple1\n",
    "# print(mytuple2) #('apple', 'banana', 'cherry')\n",
    "\n",
    "#Example10 : removing items from tuple - not possible bcoz tuple is immutable\n",
    "#mytuple=(\"apple\", \"banana\", \"cherry\")\n",
    "#mytuple.remove(\"apple\")  # invalid  / it is not possible\n",
    "# del mytuple\n",
    "# print(mytuple) #NameError: name 'mytuple' is not defined\n",
    "\n",
    "#Example11: Join/combine tuple\n",
    "# tuple1=(10,20,30)\n",
    "# tuple2=('a','b','c')\n",
    "#\n",
    "# tuple3=tuple1+tuple2\n",
    "# print(tuple3) #(10, 20, 30, 'a', 'b', 'c')\n",
    "\n",
    "\n",
    "#Example12:  tuples comparison\n",
    "tuple1=(10,20,30)\n",
    "#tuple2=('a','b','c')\n",
    "tuple2=(10,20,30)\n",
    "\n",
    "if tuple1==tuple2:\n",
    "    print(\"tuples are equal\")\n",
    "else:\n",
    "    print(\"tuples are not eqaul\")\n"
   ]
  },
  {
   "cell_type": "markdown",
   "id": "5378edd5",
   "metadata": {},
   "source": [
    "Day5- Python Programming\n",
    "------------------------\n",
    "list [ ]  - mutable\n",
    "tuple () - immutable\n",
    "set   - mutable\n",
    "dictionary  - mutable\n",
    "\n",
    "\n",
    "set: A set is a collection which is unordered and unindexed. In Python sets are written with curly brackets.\n",
    "{ }\n",
    "set is mutable.\n",
    "\n",
    "dictionary: \n",
    "----\n",
    "A dictionary is a collection which is unordered, changeable(mutable) and indexed. \n",
    "In Python dictionaries are written with curly brackets, and they have keys and values.\n",
    "\n",
    "key\tvalue\n",
    "product1 : 100\n",
    "prouct2: 200\n",
    "product3: 500\n",
    "\n",
    "key\tname\n",
    "123456   x  \n",
    "546789   y   \n",
    "2454646  z  \n",
    "\n",
    "\n",
    "{}\n",
    "\n",
    "List\t\tTuple\t\tSet\tDictionary\n",
    "Mutable\t\tImmutable\tMutable\tMutable\n",
    "Ordered\t\tOrdered\tunordered\tunordered\n",
    "Indexed\t\tIndexed\tunindexed\tunindexed\n",
    "\n",
    "\n"
   ]
  },
  {
   "cell_type": "markdown",
   "id": "15a47e3c",
   "metadata": {},
   "source": [
    "# Set"
   ]
  },
  {
   "cell_type": "code",
   "execution_count": null,
   "id": "a86a2374",
   "metadata": {},
   "outputs": [],
   "source": [
    "#Example1 : creating set\n",
    "# myset={\"apple\",\"banana\",\"cherry\"}\n",
    "# print(myset) #{'banana', 'cherry', 'apple'}\n",
    "\n",
    "#Example2: Accessing items from set\n",
    "# myset={\"apple\",\"banana\",\"cherry\"}\n",
    "# for i in myset:\n",
    "#     print(i)\n",
    "\n",
    "#Example3: value exists in set or not\n",
    "# myset={\"apple\",\"banana\",\"cherry\"}\n",
    "# print(\"banana\" in myset)  # true\n",
    "# print(\"banana2\" in myset)  # false\n",
    "\n",
    "#Example4: adding items to set\n",
    "# add()-add single item    update()-add multiple items\n",
    "# myset={\"apple\",\"banana\",\"cherry\"}\n",
    "# #myset.add(\"orange\")\n",
    "# myset.update([\"mango\",\"grapes\"])\n",
    "# print(myset) #{'orange', 'banana', 'apple', 'cherry'}\n",
    "#                 #{'apple', 'banana', 'mango', 'grapes', 'cherry'}\n",
    "\n",
    "#Example5: find number of items in a set - len()\n",
    "# myset={\"apple\",\"banana\",\"cherry\"}\n",
    "# print(len(myset)) #3\n",
    "\n",
    "\n",
    "#Example6: remove item from set - remove() discard()\n",
    "#myset={\"apple\",\"banana\",\"cherry\"}\n",
    "# myset.remove(\"banana\")\n",
    "# print(myset) # {'cherry', 'apple'}\n",
    "# myset.remove(\"xyz\")  # KeyError: 'xyz'\n",
    "\n",
    "# myset.discard(\"banana\")\n",
    "# print(myset) #{'apple', 'cherry'}\n",
    "# myset.discard(\"xyz\")   # will not throw any error\n",
    "\n",
    "#Example7 : clear all items from set\n",
    "# myset={\"apple\",\"banana\",\"cherry\"}\n",
    "# myset.clear()\n",
    "# print(myset)  #set()\n",
    "#\n",
    "# del myset\n",
    "# print(myset) #NameError: name 'myset' is not defined\n",
    "\n",
    "#Example8: joining 2 sets  - union()\n",
    "# set1={\"a\",\"b\",\"c\"}\n",
    "# set2={1,2,3}\n",
    "# set3=set1.union(set2)\n",
    "# print(set3)  #{1, 2, 'b', 3, 'c', 'a'}\n",
    "\n",
    "#update()\n",
    "set1={\"a\",\"b\",\"c\"}\n",
    "set2={1,2,3}\n",
    "set1.update(set2)\n",
    "print(set1) # {'b', 1, 2, 3, 'c', 'a'}"
   ]
  },
  {
   "cell_type": "markdown",
   "id": "ec677357",
   "metadata": {},
   "source": [
    "## Dictionary"
   ]
  },
  {
   "cell_type": "code",
   "execution_count": null,
   "id": "5b1c2a88",
   "metadata": {},
   "outputs": [],
   "source": [
    "#Example1: creating dictionary\n",
    "# mydic={101:\"x\",102:\"y\",103:\"z\"}\n",
    "# print(mydic) #{101: 'x', 102: 'y', 103: 'z'}\n",
    "\n",
    "# Example2: access items from dictionary\n",
    "# mydic={\n",
    "#     \"brand\": \"Hyudai\",\n",
    "#     \"model\": \"i10\",\n",
    "#     \"year\": 2021\n",
    "# }\n",
    "# print(mydic[\"brand\"])  # Hyudai\n",
    "# print(mydic[\"model\"]) #i10\n",
    "# # using get()\n",
    "# print(mydic.get(\"brand\")) #Hyudai\n",
    "\n",
    "#Example3: change values in dictionary\n",
    "# mydic={\n",
    "#     \"brand\": \"Hyudai\",\n",
    "#     \"model\": \"i10\",\n",
    "#     \"year\": 2020\n",
    "# }\n",
    "# print(mydic) # {'brand': 'Hyudai', 'model': 'i10', 'year': 2020}\n",
    "# mydic[\"year\"]=2021    # new value\n",
    "# print(mydic) #{'brand': 'Hyudai', 'model': 'i10', 'year': 2021}\n",
    "\n",
    "#Example4: reading items from dictionary using loop\n",
    "# mydic={\n",
    "#     \"brand\": \"Hyudai\",\n",
    "#     \"model\": \"i10\",\n",
    "#     \"year\": 2020\n",
    "# }\n",
    "#\n",
    "# for i in mydic:\n",
    "#     print(i)   # prints only keys from dictionary\n",
    "#\n",
    "# for i in mydic:\n",
    "#     print(mydic[i])    # prints only values from dictionary\n",
    "\n",
    "# for i in mydic.values():\n",
    "#     print(i)  # prints only values from dictionary\n",
    "\n",
    "# for x,y in mydic.items():\n",
    "#     print(x,y)    # print keys along with the value\n",
    "\n",
    "#Example5: check key is exist in dictionary or not\n",
    "# mydic={\n",
    "#     \"brand\": \"Hyudai\",\n",
    "#     \"model\": \"i10\",\n",
    "#     \"year\": 2020\n",
    "#  }\n",
    "#\n",
    "# if \"model1\" in mydic:\n",
    "#     print(\"exist\")\n",
    "# else:\n",
    "#     print(\"not exist\")\n",
    "\n",
    "# print(\"model\" in mydic)  # True\n",
    "\n",
    "#Example6: find number of items in dictionary\n",
    "# mydic={\n",
    "#     \"brand\": \"Hyudai\",\n",
    "#     \"model\": \"i10\",\n",
    "#     \"year\": 2020\n",
    "#  }\n",
    "# print(len(mydic))  #3\n",
    "\n",
    "#Example7: Adding items to dictionary\n",
    "# mydic={\n",
    "#     \"brand\": \"Hyudai\",\n",
    "#     \"model\": \"i10\",\n",
    "#     \"year\": 2020\n",
    "#  }\n",
    "# mydic[\"color\"]=\"red\"\n",
    "# print(mydic) #{'brand': 'Hyudai', 'model': 'i10', 'year': 2020, 'color': 'red'}\n",
    "\n",
    "#Example8: Remove item from dictionary\n",
    "# mydic={\n",
    "#     \"brand\": \"Hyudai\",\n",
    "#     \"model\": \"i10\",\n",
    "#     \"year\": 2020\n",
    "#  }\n",
    "# mydic.pop(\"year\")\n",
    "# print(mydic) # {'brand': 'Hyudai', 'model': 'i10'}\n",
    "\n",
    "# del mydic[\"year\"]\n",
    "# print(mydic) #{'brand': 'Hyudai', 'model': 'i10'}\n",
    "\n",
    "# del mydic\n",
    "# print(mydic) #NameError: name 'mydic' is not defined\n",
    "\n",
    "# mydic.clear()\n",
    "# print(mydic)   # {}\n",
    "\n",
    "# Example9: copying dictionary\n",
    "mydic1={\n",
    "    \"brand\": \"Hyudai\",\n",
    "    \"model\": \"i10\",\n",
    "    \"year\": 2020\n",
    " }\n",
    "\n",
    "# using copy()\n",
    "mydic2=mydic1.copy()\n",
    "print(mydic2) # {'brand': 'Hyudai', 'model': 'i10', 'year': 2020}\n",
    "\n",
    "# without using copy()\n",
    "# mydic2=mydic1\n",
    "# print(mydic2) #{'brand': 'Hyudai', 'model': 'i10', 'year': 2020}"
   ]
  },
  {
   "cell_type": "markdown",
   "id": "d69436ec",
   "metadata": {},
   "source": [
    "Day6- Python Programming\n",
    "-----------------------\n",
    "Functions\n",
    "-------------\n",
    "\n",
    "Function means set of statements which will perform a task.\n",
    "\n",
    "1) function declration/creation\n",
    "2) calling the function/ invoking funtion\n",
    "\n",
    "\n",
    "***def ---> creat function***\n",
    "\n",
    "***functionname()  --> functiona call***\n",
    "\n",
    "1. function does not take arguments not returns any value(None)\n",
    "2. function does not take arguments but returns some value\n",
    "3. function takes arguments but no return value\n",
    "4. function takes arguments and also return value\n",
    "\n",
    "Global & Local variables\n",
    "--------------------------\n",
    "The variables create outside of function are called as Global variables.\n",
    "The variables create inside of the functions called as Local variables. \n",
    "\n",
    "\n",
    "2 types of arguments/parameters we can pass to the function\n",
    "\n",
    "1) Positional arguments\n",
    "2) Keyword arguments\n"
   ]
  },
  {
   "cell_type": "markdown",
   "id": "e8f85ea0",
   "metadata": {},
   "source": [
    "* to crate a function -- keyworkd DEF\n",
    "* To call / invoke we neet to print the name of defined function\n",
    "* funtion can take some arguments or parameter"
   ]
  },
  {
   "cell_type": "code",
   "execution_count": 138,
   "id": "5e968d31",
   "metadata": {},
   "outputs": [],
   "source": [
    "# Example 1\n",
    "def my_func():\n",
    "    print(\"Hi Sohan, do you know what is truth\")\n",
    "    "
   ]
  },
  {
   "cell_type": "code",
   "execution_count": 140,
   "id": "ae97afe2",
   "metadata": {},
   "outputs": [
    {
     "name": "stdout",
     "output_type": "stream",
     "text": [
      "Hi Sohan, do you know what is truth\n"
     ]
    }
   ],
   "source": [
    "# Calling a Function\n",
    "my_func()"
   ]
  },
  {
   "cell_type": "code",
   "execution_count": 144,
   "id": "6ad52fb1",
   "metadata": {},
   "outputs": [],
   "source": [
    "# Example 2\n",
    "def cal(a,b):\n",
    "    return(a+b)\n"
   ]
  },
  {
   "cell_type": "code",
   "execution_count": 142,
   "id": "1b32f0d4",
   "metadata": {},
   "outputs": [
    {
     "data": {
      "text/plain": [
       "15"
      ]
     },
     "execution_count": 142,
     "metadata": {},
     "output_type": "execute_result"
    }
   ],
   "source": [
    "cal(7,8)"
   ]
  },
  {
   "cell_type": "code",
   "execution_count": 143,
   "id": "36f65a0c",
   "metadata": {},
   "outputs": [
    {
     "name": "stdout",
     "output_type": "stream",
     "text": [
      "15\n"
     ]
    }
   ],
   "source": [
    "sum = cal(7,8)\n",
    "print(sum)"
   ]
  },
  {
   "cell_type": "code",
   "execution_count": 154,
   "id": "e6317bf8",
   "metadata": {},
   "outputs": [],
   "source": [
    "#Example3:\n",
    "\n",
    "def func():\n",
    "    return"
   ]
  },
  {
   "cell_type": "code",
   "execution_count": 156,
   "id": "cb411d69",
   "metadata": {},
   "outputs": [
    {
     "name": "stdout",
     "output_type": "stream",
     "text": [
      "None\n"
     ]
    }
   ],
   "source": [
    "print(func())"
   ]
  },
  {
   "cell_type": "code",
   "execution_count": 159,
   "id": "d6ff18b6",
   "metadata": {},
   "outputs": [
    {
     "name": "stdout",
     "output_type": "stream",
     "text": [
      "None\n"
     ]
    }
   ],
   "source": [
    "# Fuction without return\n",
    "def func():\n",
    "    i=10\n",
    "\n",
    "print(func())  #None"
   ]
  },
  {
   "cell_type": "code",
   "execution_count": 167,
   "id": "1bebc13f",
   "metadata": {},
   "outputs": [
    {
     "name": "stdout",
     "output_type": "stream",
     "text": [
      "30\n"
     ]
    }
   ],
   "source": [
    "#Example5:\n",
    "def cal(a,b):\n",
    "    print(a+b)\n",
    "\n",
    "cal(10,20)  #30"
   ]
  },
  {
   "cell_type": "code",
   "execution_count": 168,
   "id": "0e694560",
   "metadata": {},
   "outputs": [
    {
     "data": {
      "text/plain": [
       "30"
      ]
     },
     "execution_count": 168,
     "metadata": {},
     "output_type": "execute_result"
    }
   ],
   "source": [
    "def cal(a,b):\n",
    "    return(a+b)\n",
    "\n",
    "cal(10,20)  #30"
   ]
  },
  {
   "cell_type": "markdown",
   "id": "86beb7c9",
   "metadata": {},
   "source": [
    "### Global  and Local Variable"
   ]
  },
  {
   "cell_type": "code",
   "execution_count": 174,
   "id": "68ae8e94",
   "metadata": {},
   "outputs": [
    {
     "name": "stdout",
     "output_type": "stream",
     "text": [
      "10\n",
      "20\n",
      "20\n"
     ]
    }
   ],
   "source": [
    "#Example1\n",
    "global_var=20   # global variable\n",
    "\n",
    "def func():\n",
    "    local_var=10  # local variable\n",
    "    print(local_var)\n",
    "    print(global_var)\n",
    "\n",
    "func()  \n",
    "\n",
    "\n",
    "# print(local_var)  # invalid bcoz local_var is local varaible of func()\n",
    "print(global_var)  # valid bcoz global_var is global variable"
   ]
  },
  {
   "cell_type": "code",
   "execution_count": 177,
   "id": "c270a80f",
   "metadata": {},
   "outputs": [
    {
     "name": "stdout",
     "output_type": "stream",
     "text": [
      "200\n"
     ]
    }
   ],
   "source": [
    "#Example2:\n",
    "xy=100  # global variable\n",
    "\n",
    "def cool():\n",
    "    xy=200   # Local variable\n",
    "    print(xy)\n",
    "\n",
    "cool()  #200 (function will print local variable if both global and local variable have save name)"
   ]
  },
  {
   "cell_type": "code",
   "execution_count": 179,
   "id": "5ce6dd4f",
   "metadata": {},
   "outputs": [
    {
     "name": "stdout",
     "output_type": "stream",
     "text": [
      "200\n",
      "200\n"
     ]
    }
   ],
   "source": [
    "# Example3: Using Global variable in Local variable and update value\n",
    "xy=100  # global variable\n",
    "\n",
    "def cool():\n",
    "    #global xy=200  # invalid syntax\n",
    "    global xy # (using this we are using local variable as global variable)\n",
    "    xy=200   # global variable\n",
    "    print(xy)\n",
    "\n",
    "cool()  #200\n",
    "print(xy)"
   ]
  },
  {
   "cell_type": "code",
   "execution_count": 181,
   "id": "a7f64e68",
   "metadata": {},
   "outputs": [
    {
     "name": "stdout",
     "output_type": "stream",
     "text": [
      "500\n",
      "500\n"
     ]
    }
   ],
   "source": [
    "#Example4: \n",
    "x=100 # (Initial global variable)\n",
    "\n",
    "def cool():\n",
    "    global x # Here we are changing value of x to 500\n",
    "    x=500\n",
    "    print(x)\n",
    "\n",
    "cool()   # 500\n",
    "# print(x)  \n",
    "#100  without calling the function we will get 100 but once we will call the function then value of x\n",
    "# will changes as we are changing the value of global variable"
   ]
  },
  {
   "cell_type": "code",
   "execution_count": null,
   "id": "ae652eb9",
   "metadata": {},
   "outputs": [],
   "source": [
    "#Example5:\n",
    "#There is no need to declare global variables outside the function.\n",
    "#You can declare them global inside the function. - global\n",
    "\n",
    "def cool():\n",
    "    global x\n",
    "    x=100\n",
    "    print(x)\n",
    "\n",
    "cool()\n",
    "print(x)  # able to access x bcoz it is global variable"
   ]
  },
  {
   "cell_type": "markdown",
   "id": "9d428e0e",
   "metadata": {},
   "source": [
    "*** We can also create Global Variable using Global keyword inside the funtion***"
   ]
  },
  {
   "cell_type": "markdown",
   "id": "6ab487d5",
   "metadata": {},
   "source": [
    "# Types of Arguments"
   ]
  },
  {
   "cell_type": "code",
   "execution_count": 194,
   "id": "88c4c3b5",
   "metadata": {},
   "outputs": [
    {
     "name": "stdout",
     "output_type": "stream",
     "text": [
      "230 20\n"
     ]
    }
   ],
   "source": [
    "#Example1:\n",
    "\n",
    "def func(i,j):\n",
    "    print(i,j)\n",
    "#\n",
    "# func(10,20)   # Positional arguments( first argument first value, second argument second value) \n",
    "\n",
    "\n",
    "func(j=20,i=230) # Keyword arguments (you can give values to argumnets as per you requirement and dont deoend on posiion could be jumbled)"
   ]
  },
  {
   "cell_type": "code",
   "execution_count": 196,
   "id": "84eb14f3",
   "metadata": {},
   "outputs": [
    {
     "name": "stdout",
     "output_type": "stream",
     "text": [
      "100 200\n"
     ]
    }
   ],
   "source": [
    "#Example2:defulat values assigned to positional arguments\n",
    "def func(i,j=10):\n",
    "    print(i,j)\n",
    "\n",
    "func(100,200)  #100 200 (these are positional arguments ) \n",
    "# func(100)  #100 10 (we have to pass atleast value for i ,\n",
    "# but if  we will not give any value to j then function will take default value deifned while writing the function) )"
   ]
  },
  {
   "cell_type": "code",
   "execution_count": 197,
   "id": "8a0b14b0",
   "metadata": {},
   "outputs": [
    {
     "ename": "TypeError",
     "evalue": "func() missing 1 required positional argument: 'i'",
     "output_type": "error",
     "traceback": [
      "\u001b[1;31m---------------------------------------------------------------------------\u001b[0m",
      "\u001b[1;31mTypeError\u001b[0m                                 Traceback (most recent call last)",
      "\u001b[1;32m~\\AppData\\Local\\Temp\\ipykernel_15204\\2297737689.py\u001b[0m in \u001b[0;36m<module>\u001b[1;34m\u001b[0m\n\u001b[0;32m      3\u001b[0m     \u001b[0mprint\u001b[0m\u001b[1;33m(\u001b[0m\u001b[0mi\u001b[0m\u001b[1;33m,\u001b[0m\u001b[0mj\u001b[0m\u001b[1;33m)\u001b[0m\u001b[1;33m\u001b[0m\u001b[1;33m\u001b[0m\u001b[0m\n\u001b[0;32m      4\u001b[0m \u001b[1;33m\u001b[0m\u001b[0m\n\u001b[1;32m----> 5\u001b[1;33m \u001b[0mfunc\u001b[0m\u001b[1;33m(\u001b[0m\u001b[1;33m)\u001b[0m\u001b[1;33m\u001b[0m\u001b[1;33m\u001b[0m\u001b[0m\n\u001b[0m",
      "\u001b[1;31mTypeError\u001b[0m: func() missing 1 required positional argument: 'i'"
     ]
    }
   ],
   "source": [
    "#Example2:defulat values assigned to positional arguments\n",
    "def func(i,j=10):\n",
    "    print(i,j)\n",
    "\n",
    "func()"
   ]
  },
  {
   "cell_type": "markdown",
   "id": "092605e5",
   "metadata": {},
   "source": [
    "In the above case we are not pssing any arguments while calling the function, though we have to pass atleast one arguments i.e i"
   ]
  },
  {
   "cell_type": "code",
   "execution_count": 198,
   "id": "4b9a7132",
   "metadata": {},
   "outputs": [
    {
     "name": "stdout",
     "output_type": "stream",
     "text": [
      "5 10\n"
     ]
    }
   ],
   "source": [
    "#Example2a:defulat values assigned to positional arguments\n",
    "def func(i=5,j=10):\n",
    "    print(i,j)\n",
    "\n",
    "func()"
   ]
  },
  {
   "cell_type": "markdown",
   "id": "09e887e5",
   "metadata": {},
   "source": [
    "In this case our function will work fine even if we don't pass any arguments becasue function will consider default values of arguments passed while writing the function"
   ]
  },
  {
   "cell_type": "code",
   "execution_count": null,
   "id": "6e89c79a",
   "metadata": {},
   "outputs": [],
   "source": [
    "#Example3: keyword arguments\n",
    "# def greetings(name,greetmsg):\n",
    "#     print(greetmsg+\"   \"+name)\n",
    "#\n",
    "# greetings(name='John', greetmsg=\"Hello\")  # Hello   John\n",
    "# greetings(greetmsg=\"Hello\",name='John') #Hello   John"
   ]
  },
  {
   "cell_type": "code",
   "execution_count": 199,
   "id": "6b67f7df",
   "metadata": {},
   "outputs": [
    {
     "name": "stdout",
     "output_type": "stream",
     "text": [
      "10 20 30\n",
      "10 20 30\n",
      "10 20 30\n"
     ]
    }
   ],
   "source": [
    "#Example4:\n",
    "def my_func(a,b,c):\n",
    "    print(a,b,c)\n",
    "\n",
    "my_func(10,20,30) # positional arguments\n",
    "my_func(a=10,b=20,c=30) # Keyword arguments\n",
    "my_func(b=20,a=10,c=30) # Keyword arguments\n"
   ]
  },
  {
   "cell_type": "code",
   "execution_count": 210,
   "id": "f7c589c1",
   "metadata": {},
   "outputs": [
    {
     "name": "stdout",
     "output_type": "stream",
     "text": [
      "10 20 30\n",
      "10 20 30\n"
     ]
    }
   ],
   "source": [
    "#Example4:\n",
    "def my_func(a,b,c):\n",
    "    print(a,b,c)\n",
    "my_func(10,20,c=30)  #10 20 30\n",
    "my_func(10,b=20,c=30) #10 20 30\n",
    "# my_func(10,b=20,30) #this is wrong as positional argument must appear before any keyword argument\n",
    "# my_func(10,30,b=20)  # this is having logical error"
   ]
  },
  {
   "cell_type": "code",
   "execution_count": 216,
   "id": "7225bb2b",
   "metadata": {},
   "outputs": [
    {
     "name": "stdout",
     "output_type": "stream",
     "text": [
      "(200, 100)\n",
      "(20, 10)\n",
      "<class 'tuple'>\n"
     ]
    }
   ],
   "source": [
    "#Example5:Function can return multiple values\n",
    "\n",
    "def largest(a,b):\n",
    "    if a>b:\n",
    "        return a,b\n",
    "    else:\n",
    "        return b,a\n",
    "\n",
    "print(largest(100,200)) #(200, 100)\n",
    "print(largest(20,10))  #(20, 10)\n",
    "\n",
    "# res=largest(10,20)\n",
    "# print(res)\n",
    "\n",
    "print(type(res))   # tuple"
   ]
  },
  {
   "cell_type": "code",
   "execution_count": null,
   "id": "bd3881f7",
   "metadata": {},
   "outputs": [],
   "source": []
  }
 ],
 "metadata": {
  "kernelspec": {
   "display_name": "Python 3 (ipykernel)",
   "language": "python",
   "name": "python3"
  },
  "language_info": {
   "codemirror_mode": {
    "name": "ipython",
    "version": 3
   },
   "file_extension": ".py",
   "mimetype": "text/x-python",
   "name": "python",
   "nbconvert_exporter": "python",
   "pygments_lexer": "ipython3",
   "version": "3.7.16"
  }
 },
 "nbformat": 4,
 "nbformat_minor": 5
}
