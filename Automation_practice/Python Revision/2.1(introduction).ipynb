{
 "cells": [
  {
   "cell_type": "markdown",
   "id": "e53c5bbb",
   "metadata": {},
   "source": [
    "Python Programming\n",
    "----------------------\n",
    "\n",
    "Python is High level general purpose Programming language.\n",
    "Python is open source language.\n",
    "Platform independent\n",
    "\n",
    "\n",
    "History\n",
    "-----------\n",
    "The implementation of Python was started in the December 1989 by Guido Van Rossum at CWI in \n",
    "Netherland.\n",
    "▪ In February 1991, van Rossum published the code (labeled version 0.9.0).\n",
    "▪ In 1994, Python 1.0 was released with new features like: lambda, map, filter, and reduce.\n",
    "▪ Python 2.0 added new features like: list comprehensions, garbage collection system.\n",
    "▪ On December 3, 2008, Python 3.0 (also called \"Py3K\") was released. \n",
    "▪ Python is influenced by :\n",
    "– ABC language.\n",
    "– Modula-3\n",
    "\n",
    "Download and install Python on Window\n",
    "\n",
    "ways to run python code\n",
    "---------------------------\n",
    "1) Run python code through IDLE (Python shell)\n",
    "2) Run python code through cmd\n",
    "3) Run python code through notepad/notepad++\n",
    "\n",
    "PyCharm -- popular IDE for python\n",
    "\n",
    "comments\n",
    "------\n",
    "* Comments are used to write description about application logics to understand the logics easily.\n",
    "* The main objective comments the code maintenance will become easy.\n",
    "* The comments are non-executable code.\n",
    "* Python will ignore comments in run time\n",
    "\n",
    "* COMMENT WITH BLOK OF ELEMENT    \"\"\" 3 cotation when you want to comment out a big chunk of codes\"\"\"(single '''a''' also works)\n",
    "keywords\n",
    "-----------\n",
    "reserved words in python\n",
    "\n",
    "\n",
    "Variables\n",
    "------------------\n",
    "▪ A variable is nothing but a reserved memory location to store values.\n",
    "▪ Variables are used to store the data.\n",
    "▪ Memory allocated when the values are stored in variables.\n",
    "▪ Every variable must have some type\n",
    "\n",
    "\n",
    "*** Python is dynamically typed progrmming language***\n",
    "Data types\n",
    "------------\n",
    "1. Text Type:\tstr\n",
    "2. Numeric Types:\tint, float\n",
    "3. Sequence Types:\tlist, tuple\n",
    "4. Mapping Type:\tdict\n",
    "5. Set Types:\tset\n",
    "6. Boolean Type:\tbool\n",
    "\n",
    "***\n",
    "x=100\n",
    "s=\"welcome\"\n",
    "x=\"welcome\"\n",
    "\n",
    "***\n",
    "Dynamically typed programming language..(1. Whenever we give an variable then we don't need to specify datatypes in python unlike other progrmming languages, 2. we can change data type of a variable any time ) \n",
    "\n",
    "\n",
    "\n",
    "\n",
    "\n",
    "\n",
    "\n",
    "\n",
    "\n"
   ]
  },
  {
   "cell_type": "code",
   "execution_count": 5,
   "id": "34f8aaea",
   "metadata": {},
   "outputs": [
    {
     "name": "stdout",
     "output_type": "stream",
     "text": [
      "['False', 'None', 'True', 'and', 'as', 'assert', 'async', 'await', 'break', 'class', 'continue', 'def', 'del', 'elif', 'else', 'except', 'finally', 'for', 'from', 'global', 'if', 'import', 'in', 'is', 'lambda', 'nonlocal', 'not', 'or', 'pass', 'raise', 'return', 'try', 'while', 'with', 'yield']\n"
     ]
    }
   ],
   "source": [
    "import keyword# vsn use these keywords for programming\n",
    "print(keyword.kwlist)"
   ]
  },
  {
   "cell_type": "code",
   "execution_count": 8,
   "id": "5e94100a",
   "metadata": {},
   "outputs": [],
   "source": [
    "x=100\n",
    "y=10.5\n",
    "s='welcome'  # s=\"welcome\"\n",
    "c='A'  # c=\"A\"\n",
    "b=True\n",
    "\n",
    "\n"
   ]
  },
  {
   "cell_type": "code",
   "execution_count": 9,
   "id": "b414d5a3",
   "metadata": {},
   "outputs": [
    {
     "name": "stdout",
     "output_type": "stream",
     "text": [
      "<class 'int'>\n",
      "<class 'float'>\n"
     ]
    }
   ],
   "source": [
    "print(type(x))  #int\n",
    "print(type(y)) #float"
   ]
  },
  {
   "cell_type": "code",
   "execution_count": 10,
   "id": "248c99cc",
   "metadata": {},
   "outputs": [
    {
     "name": "stdout",
     "output_type": "stream",
     "text": [
      "<class 'str'>\n",
      "<class 'str'>\n",
      "<class 'bool'>\n"
     ]
    }
   ],
   "source": [
    "print(type(s))  #str\n",
    "print(type(c))  #str\n",
    "print(type(b))  #bool"
   ]
  },
  {
   "cell_type": "code",
   "execution_count": 11,
   "id": "0e8d3627",
   "metadata": {},
   "outputs": [
    {
     "name": "stdout",
     "output_type": "stream",
     "text": [
      "<class 'int'>\n",
      "<class 'str'>\n"
     ]
    }
   ],
   "source": [
    "x=1234\n",
    "print(type(x))  #int\n",
    "x=\"welcome\"\n",
    "print(type(x))  #str"
   ]
  },
  {
   "cell_type": "markdown",
   "id": "9f4044e3",
   "metadata": {},
   "source": [
    "# Day 2 (2.2)"
   ]
  },
  {
   "cell_type": "markdown",
   "id": "1ba95e4d",
   "metadata": {},
   "source": [
    "#### Deleting a Variable"
   ]
  },
  {
   "cell_type": "code",
   "execution_count": 15,
   "id": "ce120bcf",
   "metadata": {},
   "outputs": [],
   "source": [
    "a = 7"
   ]
  },
  {
   "cell_type": "code",
   "execution_count": 16,
   "id": "36fde494",
   "metadata": {},
   "outputs": [
    {
     "name": "stdout",
     "output_type": "stream",
     "text": [
      "7\n"
     ]
    }
   ],
   "source": [
    "print(a)"
   ]
  },
  {
   "cell_type": "code",
   "execution_count": 17,
   "id": "48af1e95",
   "metadata": {},
   "outputs": [],
   "source": [
    "del a "
   ]
  },
  {
   "cell_type": "code",
   "execution_count": 18,
   "id": "b6bbc635",
   "metadata": {},
   "outputs": [
    {
     "ename": "NameError",
     "evalue": "name 'a' is not defined",
     "output_type": "error",
     "traceback": [
      "\u001b[1;31m---------------------------------------------------------------------------\u001b[0m",
      "\u001b[1;31mNameError\u001b[0m                                 Traceback (most recent call last)",
      "\u001b[1;32m~\\AppData\\Local\\Temp\\ipykernel_15204\\1189138062.py\u001b[0m in \u001b[0;36m<module>\u001b[1;34m\u001b[0m\n\u001b[1;32m----> 1\u001b[1;33m \u001b[0mprint\u001b[0m\u001b[1;33m(\u001b[0m\u001b[0ma\u001b[0m\u001b[1;33m)\u001b[0m\u001b[1;33m\u001b[0m\u001b[1;33m\u001b[0m\u001b[0m\n\u001b[0m",
      "\u001b[1;31mNameError\u001b[0m: name 'a' is not defined"
     ]
    }
   ],
   "source": [
    "print(a)"
   ]
  },
  {
   "cell_type": "markdown",
   "id": "9b216aad",
   "metadata": {},
   "source": [
    "#### Operators"
   ]
  },
  {
   "cell_type": "code",
   "execution_count": 20,
   "id": "28cdce9b",
   "metadata": {},
   "outputs": [
    {
     "name": "stdout",
     "output_type": "stream",
     "text": [
      "False\n",
      "True\n",
      "False\n"
     ]
    }
   ],
   "source": [
    "#Arithmetic operators\n",
    "# a=5\n",
    "# b=2\n",
    "# print(a+b)  # addition of a , b\n",
    "# print(a-b) # substration\n",
    "# print(a*b) # multiplication\n",
    "# print(a/b)   # 2.5\n",
    "# print(a//b)   # 2 quotient\n",
    "# print(a%b)  # 1 remider\n",
    "# print(a**b)  # 5**2 = 25\n",
    "\n",
    "# Relational operators/comparison operators\n",
    "# > <  >=  <=  !=  ==\n",
    "# Relational operators always returns boolean value True/False\n",
    "# a=5\n",
    "# b=10\n",
    "#\n",
    "# print(a>b)  # False\n",
    "# print(a<b) # True\n",
    "# print(a==b) # False\n",
    "# print(a!=b) # True # Not equal to \n",
    "# print(a<=b)  # True\n",
    "# print(a>=b) # False\n",
    "\n",
    "#Logical operators\n",
    "#  and  or  not\n",
    "#always returns boolean value True/False\n",
    "a=True\n",
    "b=False\n",
    "\n",
    "print(a and b) # False\n",
    "print(a or b) # True\n",
    "print(not a) # False( as B is false)\n",
    "\n",
    "c\n",
    "\n"
   ]
  },
  {
   "cell_type": "markdown",
   "id": "91203fba",
   "metadata": {},
   "source": [
    "***\n",
    "True  = 1\n",
    "False = 0\n",
    "***"
   ]
  },
  {
   "cell_type": "markdown",
   "id": "09b0d2db",
   "metadata": {},
   "source": [
    "#### Concatenation"
   ]
  },
  {
   "cell_type": "code",
   "execution_count": 23,
   "id": "e30e71dd",
   "metadata": {},
   "outputs": [
    {
     "name": "stdout",
     "output_type": "stream",
     "text": [
      "20\n",
      "22.5\n",
      "20.5\n"
     ]
    }
   ],
   "source": [
    "#Concatenation   +\n",
    "\n",
    "print(10+10)  #20 valid\n",
    "print(10.5+12.0) # 22.5 valid\n",
    "print(10+10.5)  # 20.5  valid"
   ]
  },
  {
   "cell_type": "code",
   "execution_count": 24,
   "id": "b1f3524c",
   "metadata": {},
   "outputs": [
    {
     "name": "stdout",
     "output_type": "stream",
     "text": [
      "welcomepython\n"
     ]
    }
   ],
   "source": [
    "print('welcome'+'python') #welcomepython"
   ]
  },
  {
   "cell_type": "markdown",
   "id": "433aaeb8",
   "metadata": {},
   "source": [
    "print('welcome'+' '+'python') # Add some space"
   ]
  },
  {
   "cell_type": "code",
   "execution_count": 25,
   "id": "86375d1b",
   "metadata": {},
   "outputs": [
    {
     "name": "stdout",
     "output_type": "stream",
     "text": [
      "6\n",
      "5\n",
      "2\n"
     ]
    }
   ],
   "source": [
    "print(True+5)   # 6 valid\n",
    "print(False+5)   # 5 valid\n",
    "print(True+True)  # 2 valid"
   ]
  },
  {
   "cell_type": "markdown",
   "id": "9f5b9b90",
   "metadata": {},
   "source": [
    "1. print(10+'welcome') #Not valid bcoz 2 values are different type\n",
    "2. print(10.5+'welcome') #Not valid bcoz 2 values are different type\n",
    "3. print(True+'welcome')  #Not valid bcoz 2 values are different type"
   ]
  },
  {
   "cell_type": "markdown",
   "id": "bd2fb1a7",
   "metadata": {},
   "source": [
    "*** Learn F string function***"
   ]
  },
  {
   "cell_type": "code",
   "execution_count": 22,
   "id": "5bea704b",
   "metadata": {},
   "outputs": [
    {
     "name": "stdout",
     "output_type": "stream",
     "text": [
      "GeeksforGeeks is a portal for Geeks.\n"
     ]
    }
   ],
   "source": [
    "# Python3 program introducing f-string\n",
    "val = 'Geeks'\n",
    "print(f\"{val}for{val} is a portal for {val}.\")"
   ]
  },
  {
   "cell_type": "code",
   "execution_count": 21,
   "id": "5b6d95f7",
   "metadata": {},
   "outputs": [
    {
     "name": "stdout",
     "output_type": "stream",
     "text": [
      "Hello, My name is Sohan and I'm 32 years old.\n"
     ]
    }
   ],
   "source": [
    "name = 'Sohan'\n",
    "age = 32\n",
    "print(f\"Hello, My name is {name} and I'm {age} years old.\")"
   ]
  },
  {
   "cell_type": "markdown",
   "id": "ff609eb8",
   "metadata": {},
   "source": [
    "#### ConditionalStatement"
   ]
  },
  {
   "cell_type": "code",
   "execution_count": null,
   "id": "76938e93",
   "metadata": {},
   "outputs": [],
   "source": []
  },
  {
   "cell_type": "markdown",
   "id": "3b46366d",
   "metadata": {},
   "source": [
    "#### ForamttingOutput"
   ]
  },
  {
   "cell_type": "markdown",
   "id": "21d93913",
   "metadata": {},
   "source": [
    "#### Operators\n"
   ]
  },
  {
   "cell_type": "markdown",
   "id": "ef361aef",
   "metadata": {},
   "source": [
    "#### TakingInputFromUser"
   ]
  },
  {
   "cell_type": "markdown",
   "id": "1779f7b5",
   "metadata": {},
   "source": []
  }
 ],
 "metadata": {
  "kernelspec": {
   "display_name": "Python 3 (ipykernel)",
   "language": "python",
   "name": "python3"
  },
  "language_info": {
   "codemirror_mode": {
    "name": "ipython",
    "version": 3
   },
   "file_extension": ".py",
   "mimetype": "text/x-python",
   "name": "python",
   "nbconvert_exporter": "python",
   "pygments_lexer": "ipython3",
   "version": "3.7.16"
  }
 },
 "nbformat": 4,
 "nbformat_minor": 5
}
