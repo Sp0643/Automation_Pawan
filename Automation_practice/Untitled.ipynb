{
 "cells": [
  {
   "cell_type": "markdown",
   "id": "e9f9b975",
   "metadata": {},
   "source": [
    "# Login Automation"
   ]
  },
  {
   "cell_type": "code",
   "execution_count": 2,
   "id": "6b171cec",
   "metadata": {},
   "outputs": [
    {
     "name": "stdout",
     "output_type": "stream",
     "text": [
      "Selenium, API Testing, Software Testing & More QA Tutorials | Rahul Shetty Academy\n",
      "https://rahulshettyacademy.com/\n"
     ]
    }
   ],
   "source": [
    "from selenium import webdriver\n",
    "#browser exposes an executable file\n",
    "#Through Selenium test we need to invoke the executable file which will then invoke actual browser\n",
    "#driver = webdriver.Chrome(executable_path=\"C:\\\\chromedriver.exe\")\n",
    "#driver=webdriver.Firefox(executable_path=\"C:\\\\geckodriver.exe\")\n",
    "from selenium.webdriver.edge.service import service\n",
    "# service_obj = service(\"C:/Users/SOHAN/Documents/edgedriver_win64/msedgedriver.exe\")\n",
    "driver=webdriver.Chrome(executable_path=\"C:/Users/SOHAN/Documents/chromedriver_win32/chromedriver.exe\")\n",
    "driver.maximize_window()\n",
    "driver.get(\"https://rahulshettyacademy.com/\")  #get method to hit url on  browser\n",
    "\n",
    "print(driver.title)\n",
    "print(driver.current_url)\n",
    "driver.get(\"https://rahulshettyacademy.com/AutomationPractice/\")\n",
    "driver.minimize_window()\n",
    "driver.back()\n",
    "driver.refresh()\n",
    "driver.close()"
   ]
  },
  {
   "cell_type": "code",
   "execution_count": 7,
   "id": "a955ac09",
   "metadata": {},
   "outputs": [
    {
     "name": "stdout",
     "output_type": "stream",
     "text": [
      "Login Test Passed\n"
     ]
    }
   ],
   "source": [
    "driver=webdriver.Chrome(executable_path=\"C:/Users/SOHAN/Documents/chromedriver_win32/chromedriver.exe\")\n",
    "driver.get(\"https://opensource-demo.orangehrmlive.com/\")\n",
    "driver.maximize_window() # For maximizing window\n",
    "driver.implicitly_wait(60) # gives an implicit wait for 20 seconds\n",
    "driver.find_element_by_name(\"username\").send_keys(\"Admin\")\n",
    "driver.find_element_by_name(\"password\").send_keys(\"admin123\")\n",
    "driver.find_element_by_xpath(\"/html/body/div/div[1]/div/div[1]/div/div[2]/div[2]/form/div[3]/button\").click()\n",
    "act_title=driver.title\n",
    "exp_title=\"OrangeHRM\"\n",
    "if act_title==exp_title:\n",
    "    print(\"Login Test Passed\")\n",
    "else:\n",
    "    print(\"Login Test Failed\")\n",
    "# driver.close()"
   ]
  },
  {
   "cell_type": "markdown",
   "id": "b7a2349c",
   "metadata": {},
   "source": [
    "#### Symbiosis LMS"
   ]
  },
  {
   "cell_type": "code",
   "execution_count": 10,
   "id": "adac9280",
   "metadata": {},
   "outputs": [
    {
     "name": "stdout",
     "output_type": "stream",
     "text": [
      "Login Test Passed\n"
     ]
    }
   ],
   "source": [
    "driver=webdriver.Chrome(executable_path=\"C:/Users/SOHAN/Documents/chromedriver_win32/chromedriver.exe\")\n",
    "driver.get(\"https://slms.ssodl.edu.in/login/index.php\")\n",
    "driver.maximize_window() # For maximizing window\n",
    "driver.implicitly_wait(60) # gives an implicit wait for 20 seconds\n",
    "driver.find_element_by_name(\"username\").send_keys(\"22039142533\")\n",
    "driver.find_element_by_name(\"password\").send_keys(\"$ohan@Praxis2022\")\n",
    "driver.find_element_by_id(\"loginbtn\").click()\n",
    "act_title=driver.title\n",
    "exp_title=\"Dashboard\"\n",
    "if act_title==exp_title:\n",
    "    print(\"Login Test Passed\")\n",
    "else:\n",
    "    print(\"Login Test Failed\")\n",
    "driver.close()"
   ]
  },
  {
   "cell_type": "code",
   "execution_count": null,
   "id": "b23b1b6d",
   "metadata": {},
   "outputs": [],
   "source": []
  }
 ],
 "metadata": {
  "kernelspec": {
   "display_name": "Python 3 (ipykernel)",
   "language": "python",
   "name": "python3"
  },
  "language_info": {
   "codemirror_mode": {
    "name": "ipython",
    "version": 3
   },
   "file_extension": ".py",
   "mimetype": "text/x-python",
   "name": "python",
   "nbconvert_exporter": "python",
   "pygments_lexer": "ipython3",
   "version": "3.7.16"
  }
 },
 "nbformat": 4,
 "nbformat_minor": 5
}
