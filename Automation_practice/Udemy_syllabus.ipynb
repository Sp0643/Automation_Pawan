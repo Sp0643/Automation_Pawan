{
 "cells": [
  {
   "cell_type": "code",
   "execution_count": 6,
   "id": "4820ebc9",
   "metadata": {},
   "outputs": [
    {
     "ename": "NoSuchElementException",
     "evalue": "Message: no such element: Unable to locate element: {\"method\":\"xpath\",\"selector\":\"/html/body/div[1]/div[1]/div/div/main/div/div[2]/div/div/section/div/div[3]/div/div/div/div/div[1]/div[1]/div/div/h3/button/span/span\"}\n  (Session info: chrome=114.0.5735.199); For documentation on this error, please visit: https://www.selenium.dev/documentation/webdriver/troubleshooting/errors#no-such-element-exception\nStacktrace:\nBacktrace:\n\tGetHandleVerifier [0x0103A813+48355]\n\t(No symbol) [0x00FCC4B1]\n\t(No symbol) [0x00ED5358]\n\t(No symbol) [0x00F009A5]\n\t(No symbol) [0x00F00B3B]\n\t(No symbol) [0x00F2E232]\n\t(No symbol) [0x00F1A784]\n\t(No symbol) [0x00F2C922]\n\t(No symbol) [0x00F1A536]\n\t(No symbol) [0x00EF82DC]\n\t(No symbol) [0x00EF93DD]\n\tGetHandleVerifier [0x0129AABD+2539405]\n\tGetHandleVerifier [0x012DA78F+2800735]\n\tGetHandleVerifier [0x012D456C+2775612]\n\tGetHandleVerifier [0x010C51E0+616112]\n\t(No symbol) [0x00FD5F8C]\n\t(No symbol) [0x00FD2328]\n\t(No symbol) [0x00FD240B]\n\t(No symbol) [0x00FC4FF7]\n\tBaseThreadInitThunk [0x768A7D59+25]\n\tRtlInitializeExceptionChain [0x7750B79B+107]\n\tRtlClearBits [0x7750B71F+191]\n",
     "output_type": "error",
     "traceback": [
      "\u001b[1;31m---------------------------------------------------------------------------\u001b[0m",
      "\u001b[1;31mNoSuchElementException\u001b[0m                    Traceback (most recent call last)",
      "Cell \u001b[1;32mIn[6], line 17\u001b[0m\n\u001b[0;32m     11\u001b[0m driver\u001b[38;5;241m.\u001b[39mfind_element(By\u001b[38;5;241m.\u001b[39mXPATH, \u001b[38;5;124m'\u001b[39m\u001b[38;5;124m//*[@id=\u001b[39m\u001b[38;5;124m\"\u001b[39m\u001b[38;5;124mudemy\u001b[39m\u001b[38;5;124m\"\u001b[39m\u001b[38;5;124m]/div[1]/div[2]/div/div/form/button\u001b[39m\u001b[38;5;124m'\u001b[39m)\u001b[38;5;241m.\u001b[39mclick()\n\u001b[0;32m     13\u001b[0m driver\u001b[38;5;241m.\u001b[39mget(\u001b[38;5;124m\"\u001b[39m\u001b[38;5;124mhttps://www.udemy.com/course/learn-selenium-automation-in-easy-python-language/learn/lecture/16963704#content\u001b[39m\u001b[38;5;124m\"\u001b[39m)\n\u001b[1;32m---> 17\u001b[0m chapter1\u001b[38;5;241m=\u001b[39m\u001b[43mdriver\u001b[49m\u001b[38;5;241;43m.\u001b[39;49m\u001b[43mfind_element\u001b[49m\u001b[43m(\u001b[49m\u001b[43mBy\u001b[49m\u001b[38;5;241;43m.\u001b[39;49m\u001b[43mXPATH\u001b[49m\u001b[43m,\u001b[49m\u001b[38;5;124;43m\"\u001b[39;49m\u001b[38;5;124;43m/html/body/div[1]/div[1]/div/div/main/div/div[2]/div/div/section/div/div[3]/div/div/div/div/div[1]/div[1]/div/div/h3/button/span/span\u001b[39;49m\u001b[38;5;124;43m\"\u001b[39;49m\u001b[43m)\u001b[49m\u001b[38;5;241m.\u001b[39mclick()\n\u001b[0;32m     18\u001b[0m chapter1\u001b[38;5;241m.\u001b[39mclick()\n",
      "File \u001b[1;32m~\\AppData\\Roaming\\Python\\Python310\\site-packages\\selenium\\webdriver\\remote\\webdriver.py:740\u001b[0m, in \u001b[0;36mWebDriver.find_element\u001b[1;34m(self, by, value)\u001b[0m\n\u001b[0;32m    737\u001b[0m     by \u001b[38;5;241m=\u001b[39m By\u001b[38;5;241m.\u001b[39mCSS_SELECTOR\n\u001b[0;32m    738\u001b[0m     value \u001b[38;5;241m=\u001b[39m \u001b[38;5;124mf\u001b[39m\u001b[38;5;124m'\u001b[39m\u001b[38;5;124m[name=\u001b[39m\u001b[38;5;124m\"\u001b[39m\u001b[38;5;132;01m{\u001b[39;00mvalue\u001b[38;5;132;01m}\u001b[39;00m\u001b[38;5;124m\"\u001b[39m\u001b[38;5;124m]\u001b[39m\u001b[38;5;124m'\u001b[39m\n\u001b[1;32m--> 740\u001b[0m \u001b[38;5;28;01mreturn\u001b[39;00m \u001b[38;5;28;43mself\u001b[39;49m\u001b[38;5;241;43m.\u001b[39;49m\u001b[43mexecute\u001b[49m\u001b[43m(\u001b[49m\u001b[43mCommand\u001b[49m\u001b[38;5;241;43m.\u001b[39;49m\u001b[43mFIND_ELEMENT\u001b[49m\u001b[43m,\u001b[49m\u001b[43m \u001b[49m\u001b[43m{\u001b[49m\u001b[38;5;124;43m\"\u001b[39;49m\u001b[38;5;124;43musing\u001b[39;49m\u001b[38;5;124;43m\"\u001b[39;49m\u001b[43m:\u001b[49m\u001b[43m \u001b[49m\u001b[43mby\u001b[49m\u001b[43m,\u001b[49m\u001b[43m \u001b[49m\u001b[38;5;124;43m\"\u001b[39;49m\u001b[38;5;124;43mvalue\u001b[39;49m\u001b[38;5;124;43m\"\u001b[39;49m\u001b[43m:\u001b[49m\u001b[43m \u001b[49m\u001b[43mvalue\u001b[49m\u001b[43m}\u001b[49m\u001b[43m)\u001b[49m[\u001b[38;5;124m\"\u001b[39m\u001b[38;5;124mvalue\u001b[39m\u001b[38;5;124m\"\u001b[39m]\n",
      "File \u001b[1;32m~\\AppData\\Roaming\\Python\\Python310\\site-packages\\selenium\\webdriver\\remote\\webdriver.py:346\u001b[0m, in \u001b[0;36mWebDriver.execute\u001b[1;34m(self, driver_command, params)\u001b[0m\n\u001b[0;32m    344\u001b[0m response \u001b[38;5;241m=\u001b[39m \u001b[38;5;28mself\u001b[39m\u001b[38;5;241m.\u001b[39mcommand_executor\u001b[38;5;241m.\u001b[39mexecute(driver_command, params)\n\u001b[0;32m    345\u001b[0m \u001b[38;5;28;01mif\u001b[39;00m response:\n\u001b[1;32m--> 346\u001b[0m     \u001b[38;5;28;43mself\u001b[39;49m\u001b[38;5;241;43m.\u001b[39;49m\u001b[43merror_handler\u001b[49m\u001b[38;5;241;43m.\u001b[39;49m\u001b[43mcheck_response\u001b[49m\u001b[43m(\u001b[49m\u001b[43mresponse\u001b[49m\u001b[43m)\u001b[49m\n\u001b[0;32m    347\u001b[0m     response[\u001b[38;5;124m\"\u001b[39m\u001b[38;5;124mvalue\u001b[39m\u001b[38;5;124m\"\u001b[39m] \u001b[38;5;241m=\u001b[39m \u001b[38;5;28mself\u001b[39m\u001b[38;5;241m.\u001b[39m_unwrap_value(response\u001b[38;5;241m.\u001b[39mget(\u001b[38;5;124m\"\u001b[39m\u001b[38;5;124mvalue\u001b[39m\u001b[38;5;124m\"\u001b[39m, \u001b[38;5;28;01mNone\u001b[39;00m))\n\u001b[0;32m    348\u001b[0m     \u001b[38;5;28;01mreturn\u001b[39;00m response\n",
      "File \u001b[1;32m~\\AppData\\Roaming\\Python\\Python310\\site-packages\\selenium\\webdriver\\remote\\errorhandler.py:245\u001b[0m, in \u001b[0;36mErrorHandler.check_response\u001b[1;34m(self, response)\u001b[0m\n\u001b[0;32m    243\u001b[0m         alert_text \u001b[38;5;241m=\u001b[39m value[\u001b[38;5;124m\"\u001b[39m\u001b[38;5;124malert\u001b[39m\u001b[38;5;124m\"\u001b[39m]\u001b[38;5;241m.\u001b[39mget(\u001b[38;5;124m\"\u001b[39m\u001b[38;5;124mtext\u001b[39m\u001b[38;5;124m\"\u001b[39m)\n\u001b[0;32m    244\u001b[0m     \u001b[38;5;28;01mraise\u001b[39;00m exception_class(message, screen, stacktrace, alert_text)  \u001b[38;5;66;03m# type: ignore[call-arg]  # mypy is not smart enough here\u001b[39;00m\n\u001b[1;32m--> 245\u001b[0m \u001b[38;5;28;01mraise\u001b[39;00m exception_class(message, screen, stacktrace)\n",
      "\u001b[1;31mNoSuchElementException\u001b[0m: Message: no such element: Unable to locate element: {\"method\":\"xpath\",\"selector\":\"/html/body/div[1]/div[1]/div/div/main/div/div[2]/div/div/section/div/div[3]/div/div/div/div/div[1]/div[1]/div/div/h3/button/span/span\"}\n  (Session info: chrome=114.0.5735.199); For documentation on this error, please visit: https://www.selenium.dev/documentation/webdriver/troubleshooting/errors#no-such-element-exception\nStacktrace:\nBacktrace:\n\tGetHandleVerifier [0x0103A813+48355]\n\t(No symbol) [0x00FCC4B1]\n\t(No symbol) [0x00ED5358]\n\t(No symbol) [0x00F009A5]\n\t(No symbol) [0x00F00B3B]\n\t(No symbol) [0x00F2E232]\n\t(No symbol) [0x00F1A784]\n\t(No symbol) [0x00F2C922]\n\t(No symbol) [0x00F1A536]\n\t(No symbol) [0x00EF82DC]\n\t(No symbol) [0x00EF93DD]\n\tGetHandleVerifier [0x0129AABD+2539405]\n\tGetHandleVerifier [0x012DA78F+2800735]\n\tGetHandleVerifier [0x012D456C+2775612]\n\tGetHandleVerifier [0x010C51E0+616112]\n\t(No symbol) [0x00FD5F8C]\n\t(No symbol) [0x00FD2328]\n\t(No symbol) [0x00FD240B]\n\t(No symbol) [0x00FC4FF7]\n\tBaseThreadInitThunk [0x768A7D59+25]\n\tRtlInitializeExceptionChain [0x7750B79B+107]\n\tRtlClearBits [0x7750B71F+191]\n"
     ]
    }
   ],
   "source": [
    "from selenium import webdriver\n",
    "import time\n",
    "from selenium.webdriver.chrome.service import Service\n",
    "from selenium.webdriver.common.by import By \n",
    "\n",
    "serv_obj=Service(\"C:\\Drivers\\chromedriver_win32\\chromedriver.exe\")\n",
    "driver=webdriver.Chrome(service=serv_obj)\n",
    "driver.get(\"https://www.udemy.com/join/login-popup/?next=/course/learn-selenium-automation-in-easy-python-language/learn/lecture/16963704#content\")\n",
    "driver.find_element(By.XPATH, '//*[@id=\"form-group--1\"]').send_keys(\"sohanpant0643@gmail.com\")\n",
    "driver.find_element(By.XPATH, '//*[@id=\"form-group--3\"]').send_keys(\"$ohanpant1991\")\n",
    "driver.find_element(By.XPATH, '//*[@id=\"udemy\"]/div[1]/div[2]/div/div/form/button').click()\n",
    "\n",
    "driver.get(\"https://www.udemy.com/course/learn-selenium-automation-in-easy-python-language/learn/lecture/16963704#content\")\n",
    "\n",
    "\n",
    "\n",
    "chapter1=driver.find_element(By.XPATH,\"/html/body/div[1]/div[1]/div/div/main/div/div[2]/div/div/section/div/div[3]/div/div/div/div/div[1]/div[1]/div/div/h3/button/span/span\").click()\n",
    "chapter1.click()\n"
   ]
  },
  {
   "cell_type": "code",
   "execution_count": null,
   "id": "76873081",
   "metadata": {},
   "outputs": [],
   "source": []
  }
 ],
 "metadata": {
  "kernelspec": {
   "display_name": "Python 3 (ipykernel)",
   "language": "python",
   "name": "python3"
  },
  "language_info": {
   "codemirror_mode": {
    "name": "ipython",
    "version": 3
   },
   "file_extension": ".py",
   "mimetype": "text/x-python",
   "name": "python",
   "nbconvert_exporter": "python",
   "pygments_lexer": "ipython3",
   "version": "3.10.9"
  }
 },
 "nbformat": 4,
 "nbformat_minor": 5
}
