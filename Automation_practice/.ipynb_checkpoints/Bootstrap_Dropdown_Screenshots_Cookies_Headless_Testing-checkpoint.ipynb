{
 "cells": [
  {
   "cell_type": "markdown",
   "id": "362b894d",
   "metadata": {},
   "source": [
    "Common types of dropdowns in web development include:\n",
    "\n",
    "Simple Dropdown Menu: This is the most basic type of dropdown, as described in the previous answer. It consists of a toggle button or link and a menu that appears when the button/link is clicked.\n",
    "\n",
    "Properties:\n",
    "\n",
    "Toggle Button/Link: The element that triggers the dropdown.\n",
    "Dropdown Menu: The container that holds the list of items.\n",
    "Split Button Dropdown: It's similar to a simple dropdown, but it combines a regular button with a separate dropdown toggle. The button performs one action directly when clicked, and the dropdown toggle displays additional options.\n",
    "\n",
    "Properties:\n",
    "\n",
    "Main Button: Performs a primary action when clicked.\n",
    "Dropdown Toggle: Reveals the dropdown menu with extra options.\n",
    "Multi-level Dropdown Menu: This type of dropdown contains multiple levels of nested menus. It allows you to organize items in a hierarchical structure.\n",
    "\n",
    "Properties:\n",
    "\n",
    "Nested Dropdown Menus: The dropdown menu can contain other dropdown menus as sub-menus.\n",
    "Dropdown Select Box: It resembles the native HTML <select> element. It is commonly used for selecting options from a list.\n",
    "\n",
    "Properties:\n",
    "\n",
    "Options: The list of selectable items within the dropdown.\n",
    "Default Value: The initially selected item.\n",
    "Autocomplete Dropdown: This is a specialized dropdown used for providing suggestions or auto-completions as the user types into an input field.\n",
    "\n",
    "Properties:\n",
    "\n",
    "Input Field: The text field where the user types.\n",
    "Suggestions/Options: The list of suggested items based on the user's input.\n",
    "Mega Menu: It's an expanded version of the dropdown menu that displays a large number of links and additional content in multiple columns.\n",
    "\n",
    "Properties:\n",
    "\n",
    "Multiple Columns: The menu is split into several columns for better organization.\n",
    "Navbar Dropdown: In Bootstrap and other frameworks, this is a type of dropdown commonly used in navigation bars or menus to display sub-menu options.\n",
    "\n",
    "Properties:\n",
    "\n",
    "Parent Menu Item: The main navigation link that triggers the dropdown.\n",
    "Sub-menu Items: The items displayed when the parent menu item is clicked.\n",
    "Properties common to many dropdowns:\n",
    "\n",
    "Visibility: Dropdowns are typically hidden by default and become visible when triggered.\n",
    "Positioning: Dropdowns often appear below or above the toggle button/link, but their positioning can be customized using CSS.\n",
    "Styling: Dropdowns can be styled to match the overall design of the website or application.\n",
    "Event Handling: JavaScript can be used to manage the opening and closing of dropdowns based on user interactions.\n",
    "Accessibility: Dropdowns should be designed with accessibility in mind, ensuring keyboard navigation and screen reader compatibility.\n",
    "Data Binding: In dynamic web applications, dropdowns can be populated with data fetched from databases or other sources.\n",
    "Different libraries and frameworks might have their own implementations and additional customization options for dropdowns, but the fundamental concepts and properties remain relatively consistent across various types of dropdowns."
   ]
  },
  {
   "cell_type": "markdown",
   "id": "3a3ffe96",
   "metadata": {},
   "source": [
    "# Bootstrap Dropdown"
   ]
  },
  {
   "cell_type": "markdown",
   "id": "5b55bd6e",
   "metadata": {},
   "source": [
    "Bootstrap dropdown is a UI component provided by the Bootstrap framework, which is a popular front-end development library for creating responsive and visually appealing websites and web applications. The dropdown component allows you to create a menu or list of items that appears when a user clicks on a button or a link.\n",
    "\n",
    "Here's how a Bootstrap dropdown works:\n",
    "\n",
    "Toggle Button/Link: You define a button or a link element that will act as the trigger for the dropdown. When the user clicks on this element, the dropdown menu will be displayed.\n",
    "\n",
    "Dropdown Menu: The dropdown menu is a hidden container that holds the list of items you want to show when the user activates the dropdown. It typically appears right below the toggle button/link.\n",
    "\n",
    "Visibility Toggle: When the user clicks the toggle button/link, the dropdown menu becomes visible, allowing the user to interact with the options.\n",
    "\n",
    "Closing the Dropdown: Bootstrap dropdowns can be closed by clicking the toggle button/link again or by clicking anywhere outside the dropdown menu.\n",
    "\n",
    "Bootstrap provides a set of CSS and JavaScript code to style and manage the behavior of the dropdown. The dropdown component is often used to create navigation menus, dropdown lists, or other types of interactive elements in a website or web application.\n",
    "\n",
    "Here's an example of a simple Bootstrap dropdown in HTML:"
   ]
  },
  {
   "cell_type": "code",
   "execution_count": null,
   "id": "84039c52",
   "metadata": {},
   "outputs": [],
   "source": []
  },
  {
   "cell_type": "code",
   "execution_count": 2,
   "id": "0a3cf5f4",
   "metadata": {},
   "outputs": [],
   "source": [
    "# Don't run it(HTML code)\n",
    "<!DOCTYPE html>\n",
    "<html>\n",
    "<head>\n",
    "  <!-- Include Bootstrap CSS and JS -->\n",
    "  <link href=\"https://cdn.jsdelivr.net/npm/bootstrap@5.3.0/dist/css/bootstrap.min.css\" rel=\"stylesheet\"> # (hypertext reference)\n",
    "  <script src=\"https://cdn.jsdelivr.net/npm/bootstrap@5.3.0/dist/js/bootstrap.bundle.min.js\"></script> # The src attribute specifies the URL of an external script file.\n",
    "</head>\n",
    "<body>\n",
    "\n",
    "<div class=\"dropdown\">\n",
    "  <button class=\"btn btn-primary dropdown-toggle\" type=\"button\" id=\"dropdownMenuButton\" data-bs-toggle=\"dropdown\" aria-haspopup=\"true\" aria-expanded=\"false\">\n",
    "    Dropdown Menu\n",
    "  </button>\n",
    "  <div class=\"dropdown-menu\" aria-labelledby=\"dropdownMenuButton\">\n",
    "    <a class=\"dropdown-item\" href=\"#\">Item 1</a>\n",
    "    <a class=\"dropdown-item\" href=\"#\">Item 2</a>\n",
    "    <a class=\"dropdown-item\" href=\"#\">Item 3</a>\n",
    "  </div>\n",
    "</div>\n",
    "\n",
    "</body>\n",
    "</html>\n"
   ]
  },
  {
   "cell_type": "markdown",
   "id": "f6964004",
   "metadata": {},
   "source": [
    "In this example, clicking the \"Dropdown Menu\" button will reveal the dropdown menu with three items, and clicking an item will perform the corresponding action or navigate to a specific page."
   ]
  },
  {
   "cell_type": "code",
   "execution_count": null,
   "id": "c0fdb602",
   "metadata": {},
   "outputs": [],
   "source": []
  },
  {
   "cell_type": "markdown",
   "id": "e040e102",
   "metadata": {},
   "source": [
    "*** Dealing with bootstrap dropdown when there is no SELECT class***"
   ]
  },
  {
   "cell_type": "code",
   "execution_count": 27,
   "id": "49c4f81e",
   "metadata": {},
   "outputs": [
    {
     "name": "stdout",
     "output_type": "stream",
     "text": [
      "249\n"
     ]
    }
   ],
   "source": [
    "from selenium import webdriver\n",
    "from selenium.webdriver.common.by import By\n",
    "from selenium.webdriver.chrome.service import Service\n",
    "\n",
    "serv_obj=Service(\"C:/Users/SOHAN/Documents/chromedriver_win32/chromedriver.exe\")\n",
    "driver=webdriver.Chrome(service=serv_obj)\n",
    "driver.implicitly_wait(10)\n",
    "\n",
    "\n",
    "driver.get(\"https://www.dummyticket.com/dummy-ticket-for-visa-application/\")\n",
    "driver.maximize_window()\n",
    "\n",
    "driver.find_element(By.XPATH,\"//span[@id='select2-billing_country-container']\").click() # Activating the dropdown\n",
    "\n",
    "coutrieslist=driver.find_elements(By.XPATH,\"//ul[@id='select2-billing_country-results']/li\") # fetch all the dropdown options\n",
    "print(len(coutrieslist)) # Finding out total no of options insdie dropdwon\n",
    "\n",
    "for country in coutrieslist: # looping through all the dropdown items\n",
    "    if country.text==\"India\": # Country is a webelement so can't compare directly need to extract text and compare\n",
    "        country.click()\n",
    "        break # When your task is fullfilled break out of loop"
   ]
  },
  {
   "cell_type": "markdown",
   "id": "48c56685",
   "metadata": {},
   "source": [
    "#### Taking Screenshot\n",
    "\n",
    "1. Whenever you want to take screesnshot, you need to maximize the browser window\n",
    "2. driver.save_screenshot(Locaation + Name)\n",
    "3. driver.get_screenshot_as_png() "
   ]
  },
  {
   "cell_type": "code",
   "execution_count": 35,
   "id": "fd347355",
   "metadata": {},
   "outputs": [],
   "source": [
    "from selenium import webdriver\n",
    "from selenium.webdriver.common.by import By\n",
    "from selenium.webdriver.chrome.service import Service\n",
    "import os\n",
    "\n",
    "driver=webdriver.Chrome(\"C:/Users/SOHAN/Documents/chromedriver_win32/chromedriver.exe\")\n",
    "driver.implicitly_wait(10)\n",
    "\n",
    "\n",
    "driver.get(\"https://demo.nopcommerce.com/\")\n",
    "driver.maximize_window()\n",
    "\n",
    "#driver.save_screenshot(\"C:\\\\Users\\\\admin\\\\PycharmProjects\\\\PythonSelenium\\\\day23\\\\homepage.png\")\n",
    "# driver.save_screenshot(os.getcwd()+\"\\\\homepage.png\")\n",
    "driver.save_screenshot(os.getcwd()+\"\\\\Screenshot_sohan.png\") # we can customize the code\n",
    "#driver.get_screenshot_as_file(os.getcwd()+\"\\\\homepage.png\")\n",
    "\n",
    "#driver.get_screenshot_as_png()  #driver.get_screenshot_as_base64() #saves in binary format\n",
    "\n",
    "driver.quit()\n"
   ]
  },
  {
   "cell_type": "code",
   "execution_count": 31,
   "id": "0504f7b8",
   "metadata": {},
   "outputs": [],
   "source": [
    "import os\n"
   ]
  },
  {
   "cell_type": "code",
   "execution_count": 32,
   "id": "09aed218",
   "metadata": {},
   "outputs": [
    {
     "data": {
      "text/plain": [
       "'C:\\\\Users\\\\SOHAN\\\\Documents\\\\GitHub\\\\Automation_Pawan\\\\Automation_practice'"
      ]
     },
     "execution_count": 32,
     "metadata": {},
     "output_type": "execute_result"
    }
   ],
   "source": [
    "os.getcwd()"
   ]
  },
  {
   "cell_type": "markdown",
   "id": "37143f13",
   "metadata": {},
   "source": [
    "#### Tabs and Window\n",
    "use - when you want to open a specific page in new browser window\n",
    "\n",
    "How to utilise shortcut keys\n",
    "Windows/Linux:\n",
    "Press Ctrl + T"
   ]
  },
  {
   "cell_type": "code",
   "execution_count": 39,
   "id": "016d9c9c",
   "metadata": {},
   "outputs": [
    {
     "ename": "AttributeError",
     "evalue": "type object 'Keys' has no attribute 'T'",
     "output_type": "error",
     "traceback": [
      "\u001b[1;31m---------------------------------------------------------------------------\u001b[0m",
      "\u001b[1;31mAttributeError\u001b[0m                            Traceback (most recent call last)",
      "\u001b[1;32m~\\AppData\\Local\\Temp\\ipykernel_20392\\1984533684.py\u001b[0m in \u001b[0;36m<module>\u001b[1;34m\u001b[0m\n\u001b[0;32m     12\u001b[0m \u001b[0mdriver\u001b[0m\u001b[1;33m.\u001b[0m\u001b[0mget\u001b[0m\u001b[1;33m(\u001b[0m\u001b[1;34m\"https://demo.nopcommerce.com/\"\u001b[0m\u001b[1;33m)\u001b[0m\u001b[1;33m\u001b[0m\u001b[1;33m\u001b[0m\u001b[0m\n\u001b[0;32m     13\u001b[0m \u001b[0mdriver\u001b[0m\u001b[1;33m.\u001b[0m\u001b[0mmaximize_window\u001b[0m\u001b[1;33m(\u001b[0m\u001b[1;33m)\u001b[0m\u001b[1;33m\u001b[0m\u001b[1;33m\u001b[0m\u001b[0m\n\u001b[1;32m---> 14\u001b[1;33m \u001b[0mregilink\u001b[0m\u001b[1;33m=\u001b[0m\u001b[0mKeys\u001b[0m\u001b[1;33m.\u001b[0m\u001b[0mCONTROL\u001b[0m\u001b[1;33m+\u001b[0m\u001b[0mKeys\u001b[0m\u001b[1;33m.\u001b[0m\u001b[0mT\u001b[0m\u001b[1;33m\u001b[0m\u001b[1;33m\u001b[0m\u001b[0m\n\u001b[0m\u001b[0;32m     15\u001b[0m \u001b[0mdriver\u001b[0m\u001b[1;33m.\u001b[0m\u001b[0mfind_element\u001b[0m\u001b[1;33m(\u001b[0m\u001b[0mBy\u001b[0m\u001b[1;33m.\u001b[0m\u001b[0mLINK_TEXT\u001b[0m\u001b[1;33m,\u001b[0m\u001b[1;34m\"Register\"\u001b[0m\u001b[1;33m)\u001b[0m\u001b[1;33m.\u001b[0m\u001b[0msend_keys\u001b[0m\u001b[1;33m(\u001b[0m\u001b[0mregilink\u001b[0m\u001b[1;33m)\u001b[0m\u001b[1;33m\u001b[0m\u001b[1;33m\u001b[0m\u001b[0m\n",
      "\u001b[1;31mAttributeError\u001b[0m: type object 'Keys' has no attribute 'T'"
     ]
    }
   ],
   "source": [
    "from selenium import webdriver\n",
    "# from selenium.webdriver import Keys\n",
    "from selenium.webdriver.common.keys import Keys\n",
    "from selenium.webdriver.common.by import By\n",
    "from selenium.webdriver.chrome.service import Service\n",
    "\n",
    "\n",
    "driver=webdriver.Chrome(\"C:/Users/SOHAN/Documents/chromedriver_win32/chromedriver.exe\")\n",
    "driver.implicitly_wait(10)\n",
    "\n",
    "\n",
    "driver.get(\"https://demo.nopcommerce.com/\")\n",
    "driver.maximize_window()\n",
    "regilink=Keys.CONTROL+Keys.\n",
    "driver.find_element(By.LINK_TEXT,\"Register\").send_keys(regilink)\n"
   ]
  },
  {
   "cell_type": "code",
   "execution_count": 37,
   "id": "1cc990cc",
   "metadata": {},
   "outputs": [
    {
     "ename": "ImportError",
     "evalue": "cannot import name 'Keys' from 'selenium.webdriver' (C:\\Users\\SOHAN\\anaconda3\\envs\\Automation\\lib\\site-packages\\selenium\\webdriver\\__init__.py)",
     "output_type": "error",
     "traceback": [
      "\u001b[1;31m---------------------------------------------------------------------------\u001b[0m",
      "\u001b[1;31mImportError\u001b[0m                               Traceback (most recent call last)",
      "\u001b[1;32m~\\AppData\\Local\\Temp\\ipykernel_20392\\3551049898.py\u001b[0m in \u001b[0;36m<module>\u001b[1;34m\u001b[0m\n\u001b[0;32m      1\u001b[0m \u001b[1;32mfrom\u001b[0m \u001b[0mselenium\u001b[0m \u001b[1;32mimport\u001b[0m \u001b[0mwebdriver\u001b[0m\u001b[1;33m\u001b[0m\u001b[1;33m\u001b[0m\u001b[0m\n\u001b[1;32m----> 2\u001b[1;33m \u001b[1;32mfrom\u001b[0m \u001b[0mselenium\u001b[0m\u001b[1;33m.\u001b[0m\u001b[0mwebdriver\u001b[0m \u001b[1;32mimport\u001b[0m \u001b[0mKeys\u001b[0m\u001b[1;33m\u001b[0m\u001b[1;33m\u001b[0m\u001b[0m\n\u001b[0m\u001b[0;32m      3\u001b[0m \u001b[1;32mfrom\u001b[0m \u001b[0mselenium\u001b[0m\u001b[1;33m.\u001b[0m\u001b[0mwebdriver\u001b[0m\u001b[1;33m.\u001b[0m\u001b[0mcommon\u001b[0m\u001b[1;33m.\u001b[0m\u001b[0mby\u001b[0m \u001b[1;32mimport\u001b[0m \u001b[0mBy\u001b[0m\u001b[1;33m\u001b[0m\u001b[1;33m\u001b[0m\u001b[0m\n\u001b[0;32m      4\u001b[0m \u001b[1;32mfrom\u001b[0m \u001b[0mselenium\u001b[0m\u001b[1;33m.\u001b[0m\u001b[0mwebdriver\u001b[0m\u001b[1;33m.\u001b[0m\u001b[0mchrome\u001b[0m\u001b[1;33m.\u001b[0m\u001b[0mservice\u001b[0m \u001b[1;32mimport\u001b[0m \u001b[0mService\u001b[0m\u001b[1;33m\u001b[0m\u001b[1;33m\u001b[0m\u001b[0m\n\u001b[0;32m      5\u001b[0m \u001b[1;33m\u001b[0m\u001b[0m\n",
      "\u001b[1;31mImportError\u001b[0m: cannot import name 'Keys' from 'selenium.webdriver' (C:\\Users\\SOHAN\\anaconda3\\envs\\Automation\\lib\\site-packages\\selenium\\webdriver\\__init__.py)"
     ]
    }
   ],
   "source": [
    "from selenium import webdriver\n",
    "from selenium.webdriver import Keys\n",
    "from selenium.webdriver.common.by import By\n",
    "from selenium.webdriver.chrome.service import Service\n",
    "\n",
    "\n",
    "driver=webdriver.Chrome(\"C:/Users/SOHAN/Documents/chromedriver_win32/chromedriver.exe\")\n",
    "driver.implicitly_wait(10)\n",
    "\n",
    "#New Tab - Selenium4 :  Opens a new tab and switches to new tab\n",
    "driver.get(\"https://www.opencart.com/\")\n",
    "driver.switch_to.new_window('tab')\n",
    "driver.get(\"https://www.orangehrm.com/\")"
   ]
  },
  {
   "cell_type": "code",
   "execution_count": 41,
   "id": "cad8e3d3",
   "metadata": {},
   "outputs": [
    {
     "ename": "AttributeError",
     "evalue": "'SwitchTo' object has no attribute 'new_window'",
     "output_type": "error",
     "traceback": [
      "\u001b[1;31m---------------------------------------------------------------------------\u001b[0m",
      "\u001b[1;31mAttributeError\u001b[0m                            Traceback (most recent call last)",
      "\u001b[1;32m~\\AppData\\Local\\Temp\\ipykernel_20392\\3209876912.py\u001b[0m in \u001b[0;36m<module>\u001b[1;34m\u001b[0m\n\u001b[0;32m     10\u001b[0m \u001b[1;31m#New Window - Selenium4 :  Opens a new browser window and switches to new window\u001b[0m\u001b[1;33m\u001b[0m\u001b[1;33m\u001b[0m\u001b[1;33m\u001b[0m\u001b[0m\n\u001b[0;32m     11\u001b[0m \u001b[0mdriver\u001b[0m\u001b[1;33m.\u001b[0m\u001b[0mget\u001b[0m\u001b[1;33m(\u001b[0m\u001b[1;34m\"https://www.opencart.com/\"\u001b[0m\u001b[1;33m)\u001b[0m\u001b[1;33m\u001b[0m\u001b[1;33m\u001b[0m\u001b[0m\n\u001b[1;32m---> 12\u001b[1;33m \u001b[0mdriver\u001b[0m\u001b[1;33m.\u001b[0m\u001b[0mswitch_to\u001b[0m\u001b[1;33m.\u001b[0m\u001b[0mnew_window\u001b[0m\u001b[1;33m(\u001b[0m\u001b[1;34m'window'\u001b[0m\u001b[1;33m)\u001b[0m\u001b[1;33m\u001b[0m\u001b[1;33m\u001b[0m\u001b[0m\n\u001b[0m\u001b[0;32m     13\u001b[0m \u001b[0mdriver\u001b[0m\u001b[1;33m.\u001b[0m\u001b[0mget\u001b[0m\u001b[1;33m(\u001b[0m\u001b[1;34m\"https://www.orangehrm.com/\"\u001b[0m\u001b[1;33m)\u001b[0m\u001b[1;33m\u001b[0m\u001b[1;33m\u001b[0m\u001b[0m\n",
      "\u001b[1;31mAttributeError\u001b[0m: 'SwitchTo' object has no attribute 'new_window'"
     ]
    }
   ],
   "source": [
    "from selenium import webdriver\n",
    "from selenium.webdriver.common.keys import Keys\n",
    "from selenium.webdriver.common.by import By\n",
    "from selenium.webdriver.chrome.service import Service\n",
    "\n",
    "\n",
    "driver=webdriver.Chrome(\"C:/Users/SOHAN/Documents/chromedriver_win32/chromedriver.exe\")\n",
    "driver.implicitly_wait(10)\n",
    "\n",
    "#New Window - Selenium4 :  Opens a new browser window and switches to new window\n",
    "driver.get(\"https://www.opencart.com/\")\n",
    "driver.switch_to.new_window('window')\n",
    "driver.get(\"https://www.orangehrm.com/\")"
   ]
  },
  {
   "cell_type": "markdown",
   "id": "9f3dabdd",
   "metadata": {},
   "source": [
    "#### Need to go through this part of the videos after completing high priorities tasks"
   ]
  },
  {
   "cell_type": "markdown",
   "id": "011f2b50",
   "metadata": {},
   "source": [
    "#### Handling Cookies\n",
    "Why we need to handle cookies?"
   ]
  },
  {
   "cell_type": "markdown",
   "id": "52c16f2f",
   "metadata": {},
   "source": [
    "Websites may use cookies for different purposes, including saving data during a visitor session.\n",
    "\n",
    "A potential problem might happen while running automated tests. The website under test might be saving specific data in the same cookie for multiple tests.\n",
    "\n",
    "For example, let's say you are testing a shopping cart by adding an item. If one test adds the item to the cart, data might be saved in a cookie.\n",
    "\n",
    "The second test might have logic which assumes that the cart is empty.\n",
    "The cookie from the first test is still stored however, resulting in a test failure for the second test.\n",
    "\n",
    "It's important to make sure that your tests always start from a pristine state, without any previous test data."
   ]
  },
  {
   "cell_type": "code",
   "execution_count": 34,
   "id": "f675b9f4",
   "metadata": {},
   "outputs": [
    {
     "name": "stdout",
     "output_type": "stream",
     "text": [
      "Size of cookies: 5\n",
      "_ga : GA1.1.743766088.1690702474\n",
      "_ga_SCT41TW89V : GS1.1.1690702474.1.0.1690702474.0.0.0\n",
      ".Nop.Culture : c%3Den-US%7Cuic%3Den-US\n",
      ".Nop.Antiforgery : CfDJ8Jtw2KziYYJGnXbyZNE5L9T-v4ceZQpnADILTQcQcyguotDzGFXV72OlGrZhlskl9-K6_uo2Llostx44ZjerRqqZsnYa-njfNPB2PjaVMqvW7bObEMljsDTVO9iwoVVbDCXZszzbQk9htY8vL09rTiE\n",
      ".Nop.Customer : 73e6edb5-f4e2-4f63-8530-d031ad45f34b\n"
     ]
    }
   ],
   "source": [
    "from selenium import webdriver\n",
    "from selenium.webdriver.chrome.service import Service\n",
    "\n",
    "\n",
    "driver=webdriver.Chrome(\"C:/Users/SOHAN/Documents/chromedriver_win32/chromedriver.exe\")\n",
    "driver.implicitly_wait(10)\n",
    "\n",
    "driver.get(\"https://demo.nopcommerce.com/\")\n",
    "driver.maximize_window()\n",
    "\n",
    "#Capture Cookies from the browser\n",
    "cookies=driver.get_cookies()\n",
    "print(\"Size of cookies:\",len(cookies)) #4\n",
    "\n",
    "# Print details of all cookies\n",
    "for c in cookies:\n",
    "    #print(c)\n",
    "    print(c.get('name'),\":\",c.get('value'))\n",
    "\n",
    "\n",
    "# #Add new cookie to the browser\n",
    "# driver.add_cookie({\"name\":\"MyCookie\", \"value\":\"123456\"})\n",
    "# cookies=driver.get_cookies()\n",
    "# print(\"Size of cookies after adding new one:\",len(cookies)) #5\n",
    "\n",
    "# #Delete specific cookie from the browser\n",
    "# driver.delete_cookie(\"MyCookie\")\n",
    "# cookies=driver.get_cookies()\n",
    "# print(\"Size of cookies after deleted one:\",len(cookies)) #4\n",
    "\n",
    "# #Delete all teh cookies\n",
    "# driver.delete_all_cookies()\n",
    "# cookies=driver.get_cookies()\n",
    "# print(\"Size of cookies after deleted all:\",len(cookies)) #0\n",
    "\n",
    "# driver.quit()"
   ]
  },
  {
   "cell_type": "markdown",
   "id": "444d7c71",
   "metadata": {},
   "source": [
    "#### Headless Testing\n",
    "What are the Pros and Cons of Headless Automation"
   ]
  },
  {
   "cell_type": "code",
   "execution_count": 48,
   "id": "78773719",
   "metadata": {},
   "outputs": [
    {
     "name": "stdout",
     "output_type": "stream",
     "text": [
      "nopCommerce demo store\n",
      "https://demo.nopcommerce.com/\n"
     ]
    }
   ],
   "source": [
    "from selenium import webdriver\n",
    "\n",
    "def headless_chrome():\n",
    "    from selenium.webdriver.chrome.service import Service\n",
    "    serv_obj = Service(\"C:/Users/SOHAN/Documents/chromedriver_win32/chromedriver.exe\")\n",
    "    ops=webdriver.ChromeOptions()\n",
    "    ops.headless=True\n",
    "    driver=webdriver.Chrome(\"C:/Users/SOHAN/Documents/chromedriver_win32/chromedriver.exe\",options=ops)\n",
    "    return driver\n",
    "\n",
    "def headless_edge():\n",
    "    from selenium.webdriver.edge.service import Service\n",
    "    serv_obj = Service(\"C:/Users/SOHAN/Documents/chromedriver_win32/chromedriver.exe\")\n",
    "    ops=webdriver.EdgeOptions()\n",
    "    ops.headless=True\n",
    "    driver=webdriver.Edge(service=serv_obj,options=ops)\n",
    "    return driver\n",
    "\n",
    "\n",
    "driver=headless_chrome()\n",
    "#driver=headless_edge()\n",
    "# driver=headless_firefox()\n",
    "\n",
    "\n",
    "driver.get(\"https://demo.nopcommerce.com/\")\n",
    "print(driver.title)\n",
    "print(driver.current_url)\n",
    "driver.close()"
   ]
  },
  {
   "cell_type": "markdown",
   "id": "fcaa0bc6",
   "metadata": {},
   "source": [
    "#### Headless is running in the background , can be fast but can't see the process . could be good option for scheduling the tasks"
   ]
  }
 ],
 "metadata": {
  "kernelspec": {
   "display_name": "Python 3 (ipykernel)",
   "language": "python",
   "name": "python3"
  },
  "language_info": {
   "codemirror_mode": {
    "name": "ipython",
    "version": 3
   },
   "file_extension": ".py",
   "mimetype": "text/x-python",
   "name": "python",
   "nbconvert_exporter": "python",
   "pygments_lexer": "ipython3",
   "version": "3.7.16"
  }
 },
 "nbformat": 4,
 "nbformat_minor": 5
}
