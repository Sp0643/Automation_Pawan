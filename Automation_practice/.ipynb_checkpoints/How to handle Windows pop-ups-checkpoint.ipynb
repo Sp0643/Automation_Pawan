{
 "cells": [
  {
   "cell_type": "code",
   "execution_count": null,
   "id": "fb13d5ca",
   "metadata": {},
   "outputs": [],
   "source": [
    "# !pip install pyautoit"
   ]
  },
  {
   "cell_type": "markdown",
   "id": "95307b81",
   "metadata": {},
   "source": [
    "When downloading a file using Selenium and Python, encountering a \"Save As\" pop-up is a common scenario. To handle this pop-up, you can use the autoit library (Windows only) or set browser preferences to specify the download directory.\n",
    "\n",
    "Using autoit library (Windows only):\n",
    "The autoit library allows you to interact with native Windows dialog boxes. Before proceeding, you need to install the pyautoit package. You can do this using pip:"
   ]
  },
  {
   "cell_type": "markdown",
   "id": "4270cb9d",
   "metadata": {},
   "source": []
  },
  {
   "cell_type": "code",
   "execution_count": null,
   "id": "e3e667a4",
   "metadata": {},
   "outputs": [],
   "source": [
    "from selenium import webdriver\n",
    "import autoit\n",
    "\n",
    "# Set the download directory path\n",
    "download_directory = \"C:\\\\path\\\\to\\\\your\\\\download\\\\folder\"\n",
    "\n",
    "# Set browser options to specify the download directory\n",
    "chrome_options = webdriver.ChromeOptions()\n",
    "chrome_options.add_experimental_option(\"prefs\", {\n",
    "    \"download.default_directory\": download_directory,\n",
    "    \"download.prompt_for_download\": False,\n",
    "    \"download.directory_upgrade\": True,\n",
    "    \"safebrowsing.enabled\": True\n",
    "})\n",
    "\n",
    "# Instantiate the Chrome WebDriver with the options\n",
    "driver = webdriver.Chrome(chrome_options=chrome_options)\n",
    "\n",
    "# Navigate to the page with the download link\n",
    "driver.get(\"your_download_page_url\")\n",
    "\n",
    "# Find and click on the element that triggers the download\n",
    "download_button = driver.find_element_by_xpath(\"//your_download_button_xpath\")\n",
    "download_button.click()\n",
    "\n",
    "# Use autoit to handle the Save As dialog\n",
    "autoit.win_wait_active(\"Save As\", 10)\n",
    "autoit.control_set_text(\"Save As\", \"Edit1\", \"your_desired_file_name.csv\")\n",
    "autoit.control_click(\"Save As\", \"Button1\")\n"
   ]
  },
  {
   "cell_type": "markdown",
   "id": "493923dd",
   "metadata": {},
   "source": [
    "Here's how you can handle the \"Save As\" pop-up using autoit:\n",
    "\n"
   ]
  },
  {
   "cell_type": "code",
   "execution_count": null,
   "id": "acc2e6cf",
   "metadata": {},
   "outputs": [],
   "source": [
    "from selenium import webdriver\n",
    "\n",
    "# Set the download directory path\n",
    "download_directory = \"C:\\\\path\\\\to\\\\your\\\\download\\\\folder\"\n",
    "\n",
    "# Set browser options to specify the download directory\n",
    "chrome_options = webdriver.ChromeOptions()\n",
    "chrome_options.add_experimental_option(\"prefs\", {\n",
    "    \"download.default_directory\": download_directory,\n",
    "    \"download.prompt_for_download\": False,\n",
    "    \"download.directory_upgrade\": True,\n",
    "    \"safebrowsing.enabled\": True\n",
    "})\n",
    "\n",
    "# Instantiate the Chrome WebDriver with the options\n",
    "driver = webdriver.Chrome(chrome_options=chrome_options)\n",
    "\n",
    "# Navigate to the page with the download link\n",
    "driver.get(\"your_download_page_url\")\n",
    "\n",
    "# Find and click on the element that triggers the download\n",
    "download_button = driver.find_element_by_xpath(\"//your_download_button_xpath\")\n",
    "download_button.click()\n"
   ]
  },
  {
   "cell_type": "markdown",
   "id": "cbdb4f7a",
   "metadata": {},
   "source": [
    "Using browser preferences to specify the download directory:\n",
    "You can also set the browser preferences to specify the download directory directly through Selenium options without using autoit. This method is more suitable for Chrome and Firefox browsers:\n"
   ]
  },
  {
   "cell_type": "markdown",
   "id": "dfc5fcf7",
   "metadata": {},
   "source": [
    "Replace \"C:\\\\path\\\\to\\\\your\\\\download\\\\folder\" with the path to the folder where you want the downloaded file to be saved. Also, update \"your_download_page_url\" and \"//your_download_button_xpath\" with the URL of the page containing the download link and the XPath of the element that triggers the download, respectively.\n",
    "\n",
    "Choose the method that suits your requirements and the browser you are using. Note that browser preferences may vary between different web browsers (Chrome, Firefox, etc.).\n",
    "\n",
    "\n",
    "\n",
    "\n",
    "\n"
   ]
  },
  {
   "cell_type": "code",
   "execution_count": null,
   "id": "495c277e",
   "metadata": {},
   "outputs": [],
   "source": []
  }
 ],
 "metadata": {
  "kernelspec": {
   "display_name": "Python 3 (ipykernel)",
   "language": "python",
   "name": "python3"
  },
  "language_info": {
   "codemirror_mode": {
    "name": "ipython",
    "version": 3
   },
   "file_extension": ".py",
   "mimetype": "text/x-python",
   "name": "python",
   "nbconvert_exporter": "python",
   "pygments_lexer": "ipython3",
   "version": "3.7.16"
  }
 },
 "nbformat": 4,
 "nbformat_minor": 5
}
