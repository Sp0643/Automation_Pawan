{
 "cells": [
  {
   "cell_type": "markdown",
   "id": "6555826c",
   "metadata": {},
   "source": [
    "Day-24\n",
    "-------------\n",
    "Data Driven testing\n",
    "------------------\n",
    "\n",
    "openpyxl - we can work with excel files ( .xlsx) \n",
    "\n",
    "\n",
    "1) Read data from excel\n",
    "2) How to write data into excel\n",
    "\n",
    "3) data driven test case\n",
    "\n",
    "\n",
    "***File-->Workbook--->Sheets-->Rows-->Cells***\n",
    "\n",
    "\n",
    "reading\n",
    "data=sheet.cell(r,c).value\n",
    "\n",
    "writing\n",
    "sheet.cell(r,c).value=\"welcome\"\n",
    "\n",
    "\n",
    "\n",
    "Assingment\n",
    "----------\n",
    "https://www.cit.com/cit-bank/resources/calculators/certificate-of-deposit-calculator/\n"
   ]
  },
  {
   "cell_type": "code",
   "execution_count": 21,
   "id": "4fc99e4c",
   "metadata": {},
   "outputs": [],
   "source": [
    "# !pip install openpyxl"
   ]
  },
  {
   "cell_type": "markdown",
   "id": "c0c7b1cc",
   "metadata": {},
   "source": [
    "## Reading Excel Data"
   ]
  },
  {
   "cell_type": "code",
   "execution_count": 11,
   "id": "e79377c7",
   "metadata": {},
   "outputs": [],
   "source": [
    "import openpyxl"
   ]
  },
  {
   "cell_type": "code",
   "execution_count": 18,
   "id": "6873cd7b",
   "metadata": {},
   "outputs": [
    {
     "ename": "SyntaxError",
     "evalue": "(unicode error) 'unicodeescape' codec can't decode bytes in position 2-3: truncated \\UXXXXXXXX escape (3560343271.py, line 3)",
     "output_type": "error",
     "traceback": [
      "\u001b[1;36m  File \u001b[1;32m\"C:\\Users\\SOHAN\\AppData\\Local\\Temp\\ipykernel_16896\\3560343271.py\"\u001b[1;36m, line \u001b[1;32m3\u001b[0m\n\u001b[1;33m    file =\"C:\\Users\\SOHAN\\Documents\\GitHub\\Automation_Pawan\\Automation\\4.14\\ClassExamples\\ClassExamples\\data.xlsx\"\u001b[0m\n\u001b[1;37m         ^\u001b[0m\n\u001b[1;31mSyntaxError\u001b[0m\u001b[1;31m:\u001b[0m (unicode error) 'unicodeescape' codec can't decode bytes in position 2-3: truncated \\UXXXXXXXX escape\n"
     ]
    }
   ],
   "source": [
    "#File-->Workbook--->Sheets-->Rows-->Cells\n",
    "\n",
    "file =\"C:\\Users\\SOHAN\\Documents\\GitHub\\Automation_Pawan\\Automation\\4.14\\ClassExamples\\ClassExamples\\data.xlsx\"\n",
    "workbook=openpyxl.load_workbook(file)\n",
    "sheet=workbook[\"Sheet1\"]\n",
    "\n",
    "rows=sheet.max_row # count number of rows in a excel sheet 6\n",
    "cols=sheet.max_column # count number of columns in a excel sheet  4\n",
    "\n",
    "#Reading all the rows & columns from excel sheet\n",
    "for r in range(1,rows+1):\n",
    "    for c in range(1,cols+1):\n",
    "        print(sheet.cell(r,c).value,end='       ')\n",
    "    print()\n",
    "\n",
    "\n",
    "\n"
   ]
  },
  {
   "cell_type": "markdown",
   "id": "fe5f010a",
   "metadata": {},
   "source": [
    "***SyntaxError: (unicode error) 'unicodeescape' codec can't decode bytes in position 2-3: truncated \\UXXXXXXXX escape***\n",
    "\n",
    "This error occurs, because you are using a normal string as a path. You can use one of the three following solutions to fix your problem:\n",
    "\n",
    "Just put r before your normal string. It converts a normal string to a raw string:\n",
    "\n",
    "\n",
    "1.  pandas.read_csv(r\"C:\\Users\\DeePak\\Desktop\\myac.csv\") \n",
    "\n",
    "2. pandas.read_csv(\"C:/Users/DeePak/Desktop/myac.csv\")\n",
    "\n",
    "3. pandas.read_csv(\"C:\\\\Users\\\\DeePak\\\\Desktop\\\\myac.csv\")\n",
    "\n",
    "*** All three solutions are working fine***\n"
   ]
  },
  {
   "cell_type": "code",
   "execution_count": 17,
   "id": "f31864a2",
   "metadata": {},
   "outputs": [
    {
     "name": "stdout",
     "output_type": "stream",
     "text": [
      "BookName       PurchasedDate       Amount       Location       \n",
      "selenium       2019-07-29 00:00:00       350       Africa       \n",
      "Java       2019-07-29 00:00:00       200       Africa       \n",
      "Python       2019-07-29 00:00:00       250       Asia       \n",
      "Jmeter       2019-07-29 00:00:00       150       Asia       \n",
      "C#       2019-07-29 00:00:00       300       Asia       \n"
     ]
    }
   ],
   "source": [
    "#File-->Workbook--->Sheets-->Rows-->Cells\n",
    "\n",
    "file =r\"C:\\Users\\SOHAN\\Documents\\GitHub\\Automation_Pawan\\Automation\\4.14\\ClassExamples\\ClassExamples\\data.xlsx\"\n",
    "workbook=openpyxl.load_workbook(file)\n",
    "sheet=workbook[\"Sheet1\"]\n",
    "\n",
    "rows=sheet.max_row # count number of rows in a excel sheet 6\n",
    "cols=sheet.max_column # count number of columns in a excel sheet  4\n",
    "\n",
    "#Reading all the rows & columns from excel sheet\n",
    "for r in range(1,rows+1):\n",
    "    for c in range(1,cols+1):\n",
    "        print(sheet.cell(r,c).value,end='       ')\n",
    "    print()\n"
   ]
  },
  {
   "cell_type": "code",
   "execution_count": 19,
   "id": "ef0ae96a",
   "metadata": {},
   "outputs": [
    {
     "name": "stdout",
     "output_type": "stream",
     "text": [
      "BookName       PurchasedDate       Amount       Location       \n",
      "selenium       2019-07-29 00:00:00       350       Africa       \n",
      "Java       2019-07-29 00:00:00       200       Africa       \n",
      "Python       2019-07-29 00:00:00       250       Asia       \n",
      "Jmeter       2019-07-29 00:00:00       150       Asia       \n",
      "C#       2019-07-29 00:00:00       300       Asia       \n"
     ]
    }
   ],
   "source": [
    "#File-->Workbook--->Sheets-->Rows-->Cells\n",
    "\n",
    "file =r\"C:/Users/SOHAN/Documents/GitHub/Automation_Pawan/Automation/4.14/ClassExamples/ClassExamples/data.xlsx\"\n",
    "workbook=openpyxl.load_workbook(file)\n",
    "sheet=workbook[\"Sheet1\"]\n",
    "\n",
    "rows=sheet.max_row # count number of rows in a excel sheet 6\n",
    "cols=sheet.max_column # count number of columns in a excel sheet  4\n",
    "\n",
    "#Reading all the rows & columns from excel sheet\n",
    "for r in range(1,rows+1):\n",
    "    for c in range(1,cols+1):\n",
    "        print(sheet.cell(r,c).value,end='       ')\n",
    "    print()"
   ]
  },
  {
   "cell_type": "code",
   "execution_count": 24,
   "id": "4c7be475",
   "metadata": {},
   "outputs": [
    {
     "name": "stdout",
     "output_type": "stream",
     "text": [
      "welcome       welcome       welcome       Location       \n",
      "welcome       welcome       welcome       Africa       \n",
      "welcome       welcome       welcome       Africa       \n",
      "welcome       welcome       welcome       Asia       \n",
      "welcome       welcome       welcome       Asia       \n",
      "C#       2019-07-29 00:00:00       300       Asia       \n"
     ]
    }
   ],
   "source": [
    "#File-->Workbook--->Sheets-->Rows-->Cells\n",
    "\n",
    "file =r\"C:\\\\Users\\\\SOHAN\\\\Documents\\\\GitHub\\\\Automation_Pawan\\\\Automation\\\\4.14\\\\ClassExamples\\\\ClassExamples\\\\data.xlsx\"\n",
    "workbook=openpyxl.load_workbook(file)\n",
    "sheet=workbook[\"Sheet1\"]\n",
    "\n",
    "rows=sheet.max_row # count number of rows in a excel sheet 6\n",
    "cols=sheet.max_column # count number of columns in a excel sheet  4\n",
    "\n",
    "#Reading all the rows & columns from exccel sheet\n",
    "for r in range(1,rows+1):\n",
    "    for c in range(1,cols+1):\n",
    "        print(sheet.cell(r,c).value,end='       ')\n",
    "    print()"
   ]
  },
  {
   "cell_type": "markdown",
   "id": "5681794f",
   "metadata": {},
   "source": [
    "## Write Data in Excel"
   ]
  },
  {
   "cell_type": "code",
   "execution_count": 23,
   "id": "b4eb7d8f",
   "metadata": {},
   "outputs": [],
   "source": [
    "import openpyxl\n",
    "\n",
    "# same data\n",
    "file=r\"C:\\\\Users\\\\SOHAN\\\\Documents\\\\GitHub\\\\Automation_Pawan\\\\Automation\\\\4.14\\\\ClassExamples\\\\ClassExamples\\\\data.xlsx\"\n",
    "\n",
    "workbook=openpyxl.load_workbook(file)\n",
    "sheet=workbook.active   #  (or) sheet=workbook[\"Data\"]     --  get active sheet from excel\n",
    "for r in range(1,6):\n",
    "    for c in range(1,4):\n",
    "        sheet.cell(r,c).value=\"welcome\"\n",
    "workbook.save(file)"
   ]
  },
  {
   "cell_type": "code",
   "execution_count": 25,
   "id": "e2174750",
   "metadata": {},
   "outputs": [],
   "source": [
    "#multiple data\n",
    "file=r\"C:\\\\Users\\\\SOHAN\\\\Documents\\\\GitHub\\\\Automation_Pawan\\\\Automation\\\\4.14\\\\ClassExamples\\\\ClassExamples\\\\data.xlsx\"\n",
    "workbook=openpyxl.load_workbook(file)\n",
    "sheet=workbook.active   #  (or) sheet=workbook[\"Data\"]     --  get active sheet from excel\n",
    "\n",
    "sheet.cell(1,1).value=123\n",
    "sheet.cell(1,2).value=\"smith\"\n",
    "sheet.cell(1,3).value=\"engineer\"\n",
    "\n",
    "sheet.cell(2,1).value=567\n",
    "sheet.cell(2,2).value=\"john\"\n",
    "sheet.cell(2,3).value=\"manager\"\n",
    "\n",
    "sheet.cell(3,1).value=567\n",
    "sheet.cell(3,2).value=\"david\"\n",
    "sheet.cell(3,3).value=\"developer\"\n",
    "\n",
    "workbook.save(file)   # save the file after entering the data"
   ]
  },
  {
   "cell_type": "code",
   "execution_count": 26,
   "id": "dc2cc7ea",
   "metadata": {},
   "outputs": [
    {
     "name": "stdout",
     "output_type": "stream",
     "text": [
      "123       smith       engineer       Location       \n",
      "567       john       manager       Africa       \n",
      "567       david       developer       Africa       \n",
      "welcome       welcome       welcome       Asia       \n",
      "welcome       welcome       welcome       Asia       \n",
      "C#       2019-07-29 00:00:00       300       Asia       \n"
     ]
    }
   ],
   "source": [
    "#File-->Workbook--->Sheets-->Rows-->Cells\n",
    "\n",
    "file =r\"C:\\\\Users\\\\SOHAN\\\\Documents\\\\GitHub\\\\Automation_Pawan\\\\Automation\\\\4.14\\\\ClassExamples\\\\ClassExamples\\\\data.xlsx\"\n",
    "workbook=openpyxl.load_workbook(file)\n",
    "sheet=workbook[\"Sheet1\"]\n",
    "\n",
    "rows=sheet.max_row # count number of rows in a excel sheet 6\n",
    "cols=sheet.max_column # count number of columns in a excel sheet  4\n",
    "\n",
    "#Reading all the rows & columns from exccel sheet\n",
    "for r in range(1,rows+1):\n",
    "    for c in range(1,cols+1):\n",
    "        print(sheet.cell(r,c).value,end='       ')\n",
    "    print()"
   ]
  },
  {
   "cell_type": "markdown",
   "id": "ef002687",
   "metadata": {},
   "source": [
    "## Use of Utility File \n",
    "Excel Utils\n",
    "* read()\n",
    "* writing()\n",
    "* rows()\n",
    "* column()\n",
    "* yellow()\n"
   ]
  },
  {
   "cell_type": "code",
   "execution_count": 30,
   "id": "8b8c3473",
   "metadata": {},
   "outputs": [],
   "source": [
    "# REUSABLE FUNCTONS()\n",
    "import openpyxl\n",
    "from openpyxl.styles import PatternFill\n",
    "\n",
    "def getRowCount(file,sheetName):\n",
    "    workbook = openpyxl.load_workbook(file)\n",
    "    sheet = workbook[sheetName]\n",
    "    return(sheet.max_row)\n",
    "\n",
    "def getColumnCount(file,sheetName):\n",
    "    workbook = openpyxl.load_workbook(file)\n",
    "    sheet = workbook[sheetName]\n",
    "    return(sheet.max_column)\n",
    "\n",
    "def readData(file,sheetName,rownum,columnno):\n",
    "    workbook = openpyxl.load_workbook(file)\n",
    "    sheet = workbook[sheetName]\n",
    "    return sheet.cell(rownum,columnno).value\n",
    "\n",
    "def writeData(file,sheetName,rownum,columnno,data):\n",
    "    workbook = openpyxl.load_workbook(file)\n",
    "    sheet = workbook[sheetName]\n",
    "    sheet.cell(rownum, columnno).value = data\n",
    "    workbook.save(file)\n",
    "\n",
    "def fillGreenColor(file,sheetName,rownum,columnno):\n",
    "    workbook = openpyxl.load_workbook(file)\n",
    "    sheet = workbook[sheetName]\n",
    "    greenFill = PatternFill(start_color='60b212',\n",
    "                       end_color='60b212',\n",
    "                       fill_type='solid')\n",
    "    sheet.cell(rownum,columnno).fill=greenFill\n",
    "    workbook.save(file)\n",
    "\n",
    "\n",
    "def fillRedColor(file,sheetName,rownum,columnno):\n",
    "    workbook = openpyxl.load_workbook(file)\n",
    "    sheet = workbook[sheetName]\n",
    "    redFill = PatternFill(start_color='ff0000',\n",
    "                       end_color='ff0000',\n",
    "                       fill_type='solid')\n",
    "    sheet.cell(rownum,columnno).fill=redFill\n",
    "    workbook.save(file)"
   ]
  },
  {
   "cell_type": "markdown",
   "id": "4a39f080",
   "metadata": {},
   "source": [
    "#### FIXED DEPOSIT "
   ]
  },
  {
   "cell_type": "markdown",
   "id": "ce093f29",
   "metadata": {},
   "source": [
    "## Learn how to call a .py file in jupyter"
   ]
  },
  {
   "cell_type": "code",
   "execution_count": 36,
   "id": "59d42898",
   "metadata": {},
   "outputs": [
    {
     "data": {
      "text/plain": [
       "6"
      ]
     },
     "execution_count": 36,
     "metadata": {},
     "output_type": "execute_result"
    }
   ],
   "source": [
    "import time\n",
    "from selenium import webdriver\n",
    "from selenium.webdriver.common.by import By\n",
    "from selenium.webdriver.chrome.service import Service\n",
    "from selenium.webdriver.support.ui import Select\n",
    "# from day24 import XLUtils\n",
    "\n",
    "driver=webdriver.Chrome(\"C:/Users/SOHAN/Documents/chromedriver_win32/chromedriver.exe\")\n",
    "driver.implicitly_wait(10)\n",
    "\n",
    "driver.get(\"https://www.moneycontrol.com/fixed-income/calculator/state-bank-of-india-sbi/fixed-deposit-calculator-SBI-BSB001.html\")\n",
    "driver.maximize_window()\n",
    "\n",
    "file=r\"C:\\Users\\SOHAN\\Documents\\GitHub\\Automation_Pawan\\Automation\\4.14\\ClassExamples\\ClassExamples\\caldata.xlsx\"\n",
    "rows=getRowCount(file,\"Sheet1\")\n",
    "rows\n",
    "\n",
    "# for r in range(2,rows+1):\n",
    "#     #reading data from excel\n",
    "#     pric=XLUtils.readData(file,\"Sheet1\",r,1)\n",
    "#     rateofinterest=XLUtils.readData(file,\"Sheet1\",r,2)\n",
    "#     per1 = XLUtils.readData(file, \"Sheet1\", r, 3)\n",
    "#     per2 = XLUtils.readData(file, \"Sheet1\", r, 4)\n",
    "#     fre = XLUtils.readData(file, \"Sheet1\", r, 5)\n",
    "#     exp_mvalue = XLUtils.readData(file, \"Sheet1\", r, 6)\n",
    "\n",
    "#     #passing data to the application\n",
    "#     driver.find_element(By.XPATH,\"//input[@id='principal']\").send_keys(pric)\n",
    "#     driver.find_element(By.XPATH,\"//input[@id='interest']\").send_keys(rateofinterest)\n",
    "#     driver.find_element(By.XPATH,\"//input[@id='tenure']\").send_keys(per1)\n",
    "#     perioddrp=Select(driver.find_element(By.XPATH,\"//select[@id='tenurePeriod']\"))\n",
    "#     perioddrp.select_by_visible_text(per2)\n",
    "#     frequencydrp=Select(driver.find_element(By.XPATH,\"//select[@id='frequency']\"))\n",
    "#     frequencydrp.select_by_visible_text(fre)\n",
    "#     driver.find_element(By.XPATH,\"//*[@id='fdMatVal']/div[2]/a[1]/img\").click()  # calculate button\n",
    "\n",
    "#     act_mvalue=driver.find_element(By.XPATH,\"//span[@id='resp_matval']/strong\").text\n",
    "\n",
    "#     #Validation\n",
    "#     if float(exp_mvalue)==float(act_mvalue):\n",
    "#         print(\"test passed\")\n",
    "#         XLUtils.writeData(file,\"Sheet1\",r,8,\"Passed\")\n",
    "#         XLUtils.fillGreenColor(file,\"Sheet1\",r,8)\n",
    "#     else:\n",
    "#         print(\"test failed\")\n",
    "#         XLUtils.writeData(file,\"Sheet1\",r,8,\"Failed\")\n",
    "#         XLUtils.fillRedColor(file,\"Sheet1\",r,8)\n",
    "#     driver.find_element(By.XPATH,\"//*[@id='fdMatVal']/div[2]/a[2]/img\").click()\n",
    "#     time.sleep(2)\n",
    "\n",
    "# driver.close()"
   ]
  }
 ],
 "metadata": {
  "kernelspec": {
   "display_name": "Python 3 (ipykernel)",
   "language": "python",
   "name": "python3"
  },
  "language_info": {
   "codemirror_mode": {
    "name": "ipython",
    "version": 3
   },
   "file_extension": ".py",
   "mimetype": "text/x-python",
   "name": "python",
   "nbconvert_exporter": "python",
   "pygments_lexer": "ipython3",
   "version": "3.7.16"
  }
 },
 "nbformat": 4,
 "nbformat_minor": 5
}
