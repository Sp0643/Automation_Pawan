{
 "cells": [
  {
   "cell_type": "code",
   "execution_count": 3,
   "id": "b3a77d0b",
   "metadata": {},
   "outputs": [],
   "source": [
    "from selenium import webdriver\n",
    "from selenium.webdriver.edge.service import service\n",
    "# service_obj = service(\"C:/Users/SOHAN/Documents/edgedriver_win64/msedgedriver.exe\")\n",
    "driver=webdriver.Chrome(executable_path=\"C:/Users/SOHAN/Documents/chromedriver_win32/chromedriver.exe\")\n",
    "driver.maximize_window()\n",
    "driver.get(\"https://money.rediff.com/gainers/bse/daily/groupa\") \n",
    "\n",
    "driver.find_element_by_xpath(\"/html/body/div[2]/div[5]/table/tbody/tr[10]/td[1]/a\").click()\n"
   ]
  },
  {
   "cell_type": "markdown",
   "id": "5013d990",
   "metadata": {},
   "source": [
    "# Xpath Axes"
   ]
  },
  {
   "cell_type": "code",
   "execution_count": 20,
   "id": "2450b224",
   "metadata": {},
   "outputs": [
    {
     "name": "stdout",
     "output_type": "stream",
     "text": [
      "Welspun Corp A 290.15 307.35 + 5.93\n"
     ]
    }
   ],
   "source": [
    "from selenium import webdriver\n",
    "from selenium.webdriver.chrome.service import Service\n",
    "from selenium.webdriver.common.by import By\n",
    "\n",
    "# serv_obj=Service(\"C:\\Drivers\\chromedriver_win32\\chromedriver.exe\")  # for Selenium 4.0\n",
    "# driver=webdriver.Chrome(service=serv_obj) # for Selenium 4.0\n",
    "driver=webdriver.Chrome(executable_path=\"C:/Users/SOHAN/Documents/chromedriver_win32/chromedriver.exe\")\n",
    "driver.get(\"https://money.rediff.com/gainers/bse/daily/groupa\")\n",
    "driver.maximize_window()\n",
    "\n",
    "# self\n",
    "\n",
    "# text_msg=driver.find_element(By.XPATH,'//*[@id=\"leftcontainer\"]/table/tbody/tr[10]/td[1]/a/self::a').text\n",
    "# print(text_msg) #Welspun Corp\n",
    "\n",
    "# parent\n",
    "# text_msg=driver.find_element(By.XPATH,'//*[@id=\"leftcontainer\"]/table/tbody/tr[10]/td[1]/a/parent::td').text\n",
    "# print(text_msg) #Welspun Corp\n",
    "\n",
    "#child\n",
    "# childs=driver.find_elements(By.XPATH,\"//a[normalize-space()='Welspun Corp']/ancestor::tr/child::td\")\n",
    "# print(len(childs))  #5\n",
    "\n",
    "# Ancestor\n",
    "text_msg=driver.find_element(By.XPATH,\"//a[normalize-space()='Welspun Corp']/ancestor::tr\").text\n",
    "print(text_msg) #India Tourism De A 358.35 375.30 + 4.73\n",
    "\n",
    "#Decendant\n",
    "# descendants=driver.find_elements(By.XPATH,\"//a[contains(text(),'India Tourism De')]/ancestor::tr/descendant::*\")\n",
    "# print(\"Number of descendant nodes:\",len(descendants)) #7\n",
    "\n",
    "#Following\n",
    "# followings=driver.find_elements(By.XPATH,\"//a[contains(text(),'India Tourism De')]/ancestor::tr/following::*\")\n",
    "# print(\"Number of descendant nodes:\",len(followings)) #719\n",
    "\n",
    "#Folowing-sibling\n",
    "# followingsiblings=driver.find_elements(By.XPATH,\"//a[contains(text(),'India Tourism De')]/ancestor::tr/following-sibling::*\")\n",
    "# print(\"Number of descendant nodes:\",len(followingsiblings)) #72\n",
    "\n",
    "#preceding\n",
    "# precedings=driver.find_elements(By.XPATH,\"//a[contains(text(),'India Tourism De')]/ancestor::tr/preceding::*\")\n",
    "# print(len(precedings)) #251\n",
    "\n",
    "\n",
    "# #preceding-sibling\n",
    "# precedingsiblings=driver.find_elements(By.XPATH,\"//a[contains(text(),'India Tourism De')]/ancestor::tr/preceding-sibling::tr\")\n",
    "# print(len(precedingsiblings)) #11\n",
    "\n",
    "driver.close()\n",
    "\n"
   ]
  },
  {
   "cell_type": "code",
   "execution_count": null,
   "id": "452324b7",
   "metadata": {},
   "outputs": [],
   "source": []
  }
 ],
 "metadata": {
  "kernelspec": {
   "display_name": "Python 3 (ipykernel)",
   "language": "python",
   "name": "python3"
  },
  "language_info": {
   "codemirror_mode": {
    "name": "ipython",
    "version": 3
   },
   "file_extension": ".py",
   "mimetype": "text/x-python",
   "name": "python",
   "nbconvert_exporter": "python",
   "pygments_lexer": "ipython3",
   "version": "3.7.16"
  }
 },
 "nbformat": 4,
 "nbformat_minor": 5
}
